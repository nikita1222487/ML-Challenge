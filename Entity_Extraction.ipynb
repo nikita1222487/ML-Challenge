{
  "cells": [
    {
      "cell_type": "markdown",
      "metadata": {
        "id": "view-in-github",
        "colab_type": "text"
      },
      "source": [
        "<a href=\"https://colab.research.google.com/github/nikita1222487/Books-Collection/blob/main/Entity_Extraction.ipynb\" target=\"_parent\"><img src=\"https://colab.research.google.com/assets/colab-badge.svg\" alt=\"Open In Colab\"/></a>"
      ]
    },
    {
      "cell_type": "markdown",
      "id": "1b70b34e",
      "metadata": {
        "id": "1b70b34e"
      },
      "source": [
        "### Basic library imports"
      ]
    },
    {
      "cell_type": "code",
      "execution_count": null,
      "id": "719d15af",
      "metadata": {
        "id": "719d15af"
      },
      "outputs": [],
      "source": [
        "import os\n",
        "import pandas as pd"
      ]
    },
    {
      "cell_type": "markdown",
      "id": "b8911e33",
      "metadata": {
        "id": "b8911e33"
      },
      "source": [
        "### Read Dataset"
      ]
    },
    {
      "cell_type": "code",
      "source": [
        "!ls"
      ],
      "metadata": {
        "colab": {
          "base_uri": "https://localhost:8080/"
        },
        "id": "kI6bFQ510TJx",
        "outputId": "9b020a71-4943-4752-d75a-36622c9fee2f"
      },
      "id": "kI6bFQ510TJx",
      "execution_count": null,
      "outputs": [
        {
          "output_type": "stream",
          "name": "stdout",
          "text": [
            "constants.py  sample_test.csv\t   sample_test_out_fail.csv  test.csv\t train.csv\n",
            "sample_data   sample_test_out.csv  sanity.py\t\t     test.ipynb  utils.py\n"
          ]
        }
      ]
    },
    {
      "cell_type": "code",
      "execution_count": null,
      "id": "d3136aac",
      "metadata": {
        "id": "d3136aac"
      },
      "outputs": [],
      "source": [
        "DATASET_FOLDER = './'\n",
        "train = pd.read_csv(os.path.join(DATASET_FOLDER, 'train.csv'))\n",
        "test = pd.read_csv(os.path.join(DATASET_FOLDER, 'test.csv'))\n",
        "sample_test = pd.read_csv(os.path.join(DATASET_FOLDER, 'sample_test.csv'))\n",
        "sample_test_out = pd.read_csv(os.path.join(DATASET_FOLDER, 'sample_test_out.csv'))"
      ]
    },
    {
      "cell_type": "code",
      "source": [
        "train"
      ],
      "metadata": {
        "colab": {
          "base_uri": "https://localhost:8080/",
          "height": 423
        },
        "id": "R1apm03bECLj",
        "outputId": "248917e6-41ff-47e3-cfdc-89d8c2d0cc1c"
      },
      "id": "R1apm03bECLj",
      "execution_count": null,
      "outputs": [
        {
          "output_type": "execute_result",
          "data": {
            "text/plain": [
              "                                               image_link  group_id  \\\n",
              "0       https://m.media-amazon.com/images/I/61I9XdN6OF...  748919.0   \n",
              "1       https://m.media-amazon.com/images/I/71gSRbyXmo...  916768.0   \n",
              "2       https://m.media-amazon.com/images/I/61BZ4zrjZX...  459516.0   \n",
              "3       https://m.media-amazon.com/images/I/612mrlqiI4...  459516.0   \n",
              "4       https://m.media-amazon.com/images/I/617Tl40LOX...  731432.0   \n",
              "...                                                   ...       ...   \n",
              "167122  https://m.media-amazon.com/images/I/6131+B1jsV...  132401.0   \n",
              "167123  https://m.media-amazon.com/images/I/51eDRHdIwy...  860080.0   \n",
              "167124  https://m.media-amazon.com/images/I/51eDRHdIwy...  860080.0   \n",
              "167125  https://m.media-amazon.com/images/I/61CSDNrn2S...  599772.0   \n",
              "167126    https://m.media-amazon.com/images/I/61CSDNrn2SL       NaN   \n",
              "\n",
              "        entity_name     entity_value  \n",
              "0       item_weight       500.0 gram  \n",
              "1       item_volume          1.0 cup  \n",
              "2       item_weight       0.709 gram  \n",
              "3       item_weight       0.709 gram  \n",
              "4       item_weight   1400 milligram  \n",
              "...             ...              ...  \n",
              "167122        width  35.0 centimetre  \n",
              "167123        width  86.0 centimetre  \n",
              "167124       height  87.0 centimetre  \n",
              "167125        width         9.4 inch  \n",
              "167126          NaN              NaN  \n",
              "\n",
              "[167127 rows x 4 columns]"
            ],
            "text/html": [
              "\n",
              "  <div id=\"df-281c4825-49f4-4cb4-a037-8850f011bc5c\" class=\"colab-df-container\">\n",
              "    <div>\n",
              "<style scoped>\n",
              "    .dataframe tbody tr th:only-of-type {\n",
              "        vertical-align: middle;\n",
              "    }\n",
              "\n",
              "    .dataframe tbody tr th {\n",
              "        vertical-align: top;\n",
              "    }\n",
              "\n",
              "    .dataframe thead th {\n",
              "        text-align: right;\n",
              "    }\n",
              "</style>\n",
              "<table border=\"1\" class=\"dataframe\">\n",
              "  <thead>\n",
              "    <tr style=\"text-align: right;\">\n",
              "      <th></th>\n",
              "      <th>image_link</th>\n",
              "      <th>group_id</th>\n",
              "      <th>entity_name</th>\n",
              "      <th>entity_value</th>\n",
              "    </tr>\n",
              "  </thead>\n",
              "  <tbody>\n",
              "    <tr>\n",
              "      <th>0</th>\n",
              "      <td>https://m.media-amazon.com/images/I/61I9XdN6OF...</td>\n",
              "      <td>748919.0</td>\n",
              "      <td>item_weight</td>\n",
              "      <td>500.0 gram</td>\n",
              "    </tr>\n",
              "    <tr>\n",
              "      <th>1</th>\n",
              "      <td>https://m.media-amazon.com/images/I/71gSRbyXmo...</td>\n",
              "      <td>916768.0</td>\n",
              "      <td>item_volume</td>\n",
              "      <td>1.0 cup</td>\n",
              "    </tr>\n",
              "    <tr>\n",
              "      <th>2</th>\n",
              "      <td>https://m.media-amazon.com/images/I/61BZ4zrjZX...</td>\n",
              "      <td>459516.0</td>\n",
              "      <td>item_weight</td>\n",
              "      <td>0.709 gram</td>\n",
              "    </tr>\n",
              "    <tr>\n",
              "      <th>3</th>\n",
              "      <td>https://m.media-amazon.com/images/I/612mrlqiI4...</td>\n",
              "      <td>459516.0</td>\n",
              "      <td>item_weight</td>\n",
              "      <td>0.709 gram</td>\n",
              "    </tr>\n",
              "    <tr>\n",
              "      <th>4</th>\n",
              "      <td>https://m.media-amazon.com/images/I/617Tl40LOX...</td>\n",
              "      <td>731432.0</td>\n",
              "      <td>item_weight</td>\n",
              "      <td>1400 milligram</td>\n",
              "    </tr>\n",
              "    <tr>\n",
              "      <th>...</th>\n",
              "      <td>...</td>\n",
              "      <td>...</td>\n",
              "      <td>...</td>\n",
              "      <td>...</td>\n",
              "    </tr>\n",
              "    <tr>\n",
              "      <th>167122</th>\n",
              "      <td>https://m.media-amazon.com/images/I/6131+B1jsV...</td>\n",
              "      <td>132401.0</td>\n",
              "      <td>width</td>\n",
              "      <td>35.0 centimetre</td>\n",
              "    </tr>\n",
              "    <tr>\n",
              "      <th>167123</th>\n",
              "      <td>https://m.media-amazon.com/images/I/51eDRHdIwy...</td>\n",
              "      <td>860080.0</td>\n",
              "      <td>width</td>\n",
              "      <td>86.0 centimetre</td>\n",
              "    </tr>\n",
              "    <tr>\n",
              "      <th>167124</th>\n",
              "      <td>https://m.media-amazon.com/images/I/51eDRHdIwy...</td>\n",
              "      <td>860080.0</td>\n",
              "      <td>height</td>\n",
              "      <td>87.0 centimetre</td>\n",
              "    </tr>\n",
              "    <tr>\n",
              "      <th>167125</th>\n",
              "      <td>https://m.media-amazon.com/images/I/61CSDNrn2S...</td>\n",
              "      <td>599772.0</td>\n",
              "      <td>width</td>\n",
              "      <td>9.4 inch</td>\n",
              "    </tr>\n",
              "    <tr>\n",
              "      <th>167126</th>\n",
              "      <td>https://m.media-amazon.com/images/I/61CSDNrn2SL</td>\n",
              "      <td>NaN</td>\n",
              "      <td>NaN</td>\n",
              "      <td>NaN</td>\n",
              "    </tr>\n",
              "  </tbody>\n",
              "</table>\n",
              "<p>167127 rows × 4 columns</p>\n",
              "</div>\n",
              "    <div class=\"colab-df-buttons\">\n",
              "\n",
              "  <div class=\"colab-df-container\">\n",
              "    <button class=\"colab-df-convert\" onclick=\"convertToInteractive('df-281c4825-49f4-4cb4-a037-8850f011bc5c')\"\n",
              "            title=\"Convert this dataframe to an interactive table.\"\n",
              "            style=\"display:none;\">\n",
              "\n",
              "  <svg xmlns=\"http://www.w3.org/2000/svg\" height=\"24px\" viewBox=\"0 -960 960 960\">\n",
              "    <path d=\"M120-120v-720h720v720H120Zm60-500h600v-160H180v160Zm220 220h160v-160H400v160Zm0 220h160v-160H400v160ZM180-400h160v-160H180v160Zm440 0h160v-160H620v160ZM180-180h160v-160H180v160Zm440 0h160v-160H620v160Z\"/>\n",
              "  </svg>\n",
              "    </button>\n",
              "\n",
              "  <style>\n",
              "    .colab-df-container {\n",
              "      display:flex;\n",
              "      gap: 12px;\n",
              "    }\n",
              "\n",
              "    .colab-df-convert {\n",
              "      background-color: #E8F0FE;\n",
              "      border: none;\n",
              "      border-radius: 50%;\n",
              "      cursor: pointer;\n",
              "      display: none;\n",
              "      fill: #1967D2;\n",
              "      height: 32px;\n",
              "      padding: 0 0 0 0;\n",
              "      width: 32px;\n",
              "    }\n",
              "\n",
              "    .colab-df-convert:hover {\n",
              "      background-color: #E2EBFA;\n",
              "      box-shadow: 0px 1px 2px rgba(60, 64, 67, 0.3), 0px 1px 3px 1px rgba(60, 64, 67, 0.15);\n",
              "      fill: #174EA6;\n",
              "    }\n",
              "\n",
              "    .colab-df-buttons div {\n",
              "      margin-bottom: 4px;\n",
              "    }\n",
              "\n",
              "    [theme=dark] .colab-df-convert {\n",
              "      background-color: #3B4455;\n",
              "      fill: #D2E3FC;\n",
              "    }\n",
              "\n",
              "    [theme=dark] .colab-df-convert:hover {\n",
              "      background-color: #434B5C;\n",
              "      box-shadow: 0px 1px 3px 1px rgba(0, 0, 0, 0.15);\n",
              "      filter: drop-shadow(0px 1px 2px rgba(0, 0, 0, 0.3));\n",
              "      fill: #FFFFFF;\n",
              "    }\n",
              "  </style>\n",
              "\n",
              "    <script>\n",
              "      const buttonEl =\n",
              "        document.querySelector('#df-281c4825-49f4-4cb4-a037-8850f011bc5c button.colab-df-convert');\n",
              "      buttonEl.style.display =\n",
              "        google.colab.kernel.accessAllowed ? 'block' : 'none';\n",
              "\n",
              "      async function convertToInteractive(key) {\n",
              "        const element = document.querySelector('#df-281c4825-49f4-4cb4-a037-8850f011bc5c');\n",
              "        const dataTable =\n",
              "          await google.colab.kernel.invokeFunction('convertToInteractive',\n",
              "                                                    [key], {});\n",
              "        if (!dataTable) return;\n",
              "\n",
              "        const docLinkHtml = 'Like what you see? Visit the ' +\n",
              "          '<a target=\"_blank\" href=https://colab.research.google.com/notebooks/data_table.ipynb>data table notebook</a>'\n",
              "          + ' to learn more about interactive tables.';\n",
              "        element.innerHTML = '';\n",
              "        dataTable['output_type'] = 'display_data';\n",
              "        await google.colab.output.renderOutput(dataTable, element);\n",
              "        const docLink = document.createElement('div');\n",
              "        docLink.innerHTML = docLinkHtml;\n",
              "        element.appendChild(docLink);\n",
              "      }\n",
              "    </script>\n",
              "  </div>\n",
              "\n",
              "\n",
              "<div id=\"df-cd8ff1bb-8157-4aa1-970f-9c2882ad420b\">\n",
              "  <button class=\"colab-df-quickchart\" onclick=\"quickchart('df-cd8ff1bb-8157-4aa1-970f-9c2882ad420b')\"\n",
              "            title=\"Suggest charts\"\n",
              "            style=\"display:none;\">\n",
              "\n",
              "<svg xmlns=\"http://www.w3.org/2000/svg\" height=\"24px\"viewBox=\"0 0 24 24\"\n",
              "     width=\"24px\">\n",
              "    <g>\n",
              "        <path d=\"M19 3H5c-1.1 0-2 .9-2 2v14c0 1.1.9 2 2 2h14c1.1 0 2-.9 2-2V5c0-1.1-.9-2-2-2zM9 17H7v-7h2v7zm4 0h-2V7h2v10zm4 0h-2v-4h2v4z\"/>\n",
              "    </g>\n",
              "</svg>\n",
              "  </button>\n",
              "\n",
              "<style>\n",
              "  .colab-df-quickchart {\n",
              "      --bg-color: #E8F0FE;\n",
              "      --fill-color: #1967D2;\n",
              "      --hover-bg-color: #E2EBFA;\n",
              "      --hover-fill-color: #174EA6;\n",
              "      --disabled-fill-color: #AAA;\n",
              "      --disabled-bg-color: #DDD;\n",
              "  }\n",
              "\n",
              "  [theme=dark] .colab-df-quickchart {\n",
              "      --bg-color: #3B4455;\n",
              "      --fill-color: #D2E3FC;\n",
              "      --hover-bg-color: #434B5C;\n",
              "      --hover-fill-color: #FFFFFF;\n",
              "      --disabled-bg-color: #3B4455;\n",
              "      --disabled-fill-color: #666;\n",
              "  }\n",
              "\n",
              "  .colab-df-quickchart {\n",
              "    background-color: var(--bg-color);\n",
              "    border: none;\n",
              "    border-radius: 50%;\n",
              "    cursor: pointer;\n",
              "    display: none;\n",
              "    fill: var(--fill-color);\n",
              "    height: 32px;\n",
              "    padding: 0;\n",
              "    width: 32px;\n",
              "  }\n",
              "\n",
              "  .colab-df-quickchart:hover {\n",
              "    background-color: var(--hover-bg-color);\n",
              "    box-shadow: 0 1px 2px rgba(60, 64, 67, 0.3), 0 1px 3px 1px rgba(60, 64, 67, 0.15);\n",
              "    fill: var(--button-hover-fill-color);\n",
              "  }\n",
              "\n",
              "  .colab-df-quickchart-complete:disabled,\n",
              "  .colab-df-quickchart-complete:disabled:hover {\n",
              "    background-color: var(--disabled-bg-color);\n",
              "    fill: var(--disabled-fill-color);\n",
              "    box-shadow: none;\n",
              "  }\n",
              "\n",
              "  .colab-df-spinner {\n",
              "    border: 2px solid var(--fill-color);\n",
              "    border-color: transparent;\n",
              "    border-bottom-color: var(--fill-color);\n",
              "    animation:\n",
              "      spin 1s steps(1) infinite;\n",
              "  }\n",
              "\n",
              "  @keyframes spin {\n",
              "    0% {\n",
              "      border-color: transparent;\n",
              "      border-bottom-color: var(--fill-color);\n",
              "      border-left-color: var(--fill-color);\n",
              "    }\n",
              "    20% {\n",
              "      border-color: transparent;\n",
              "      border-left-color: var(--fill-color);\n",
              "      border-top-color: var(--fill-color);\n",
              "    }\n",
              "    30% {\n",
              "      border-color: transparent;\n",
              "      border-left-color: var(--fill-color);\n",
              "      border-top-color: var(--fill-color);\n",
              "      border-right-color: var(--fill-color);\n",
              "    }\n",
              "    40% {\n",
              "      border-color: transparent;\n",
              "      border-right-color: var(--fill-color);\n",
              "      border-top-color: var(--fill-color);\n",
              "    }\n",
              "    60% {\n",
              "      border-color: transparent;\n",
              "      border-right-color: var(--fill-color);\n",
              "    }\n",
              "    80% {\n",
              "      border-color: transparent;\n",
              "      border-right-color: var(--fill-color);\n",
              "      border-bottom-color: var(--fill-color);\n",
              "    }\n",
              "    90% {\n",
              "      border-color: transparent;\n",
              "      border-bottom-color: var(--fill-color);\n",
              "    }\n",
              "  }\n",
              "</style>\n",
              "\n",
              "  <script>\n",
              "    async function quickchart(key) {\n",
              "      const quickchartButtonEl =\n",
              "        document.querySelector('#' + key + ' button');\n",
              "      quickchartButtonEl.disabled = true;  // To prevent multiple clicks.\n",
              "      quickchartButtonEl.classList.add('colab-df-spinner');\n",
              "      try {\n",
              "        const charts = await google.colab.kernel.invokeFunction(\n",
              "            'suggestCharts', [key], {});\n",
              "      } catch (error) {\n",
              "        console.error('Error during call to suggestCharts:', error);\n",
              "      }\n",
              "      quickchartButtonEl.classList.remove('colab-df-spinner');\n",
              "      quickchartButtonEl.classList.add('colab-df-quickchart-complete');\n",
              "    }\n",
              "    (() => {\n",
              "      let quickchartButtonEl =\n",
              "        document.querySelector('#df-cd8ff1bb-8157-4aa1-970f-9c2882ad420b button');\n",
              "      quickchartButtonEl.style.display =\n",
              "        google.colab.kernel.accessAllowed ? 'block' : 'none';\n",
              "    })();\n",
              "  </script>\n",
              "</div>\n",
              "\n",
              "  <div id=\"id_ec0d4351-1c58-4d30-81da-ceff4d30ff7b\">\n",
              "    <style>\n",
              "      .colab-df-generate {\n",
              "        background-color: #E8F0FE;\n",
              "        border: none;\n",
              "        border-radius: 50%;\n",
              "        cursor: pointer;\n",
              "        display: none;\n",
              "        fill: #1967D2;\n",
              "        height: 32px;\n",
              "        padding: 0 0 0 0;\n",
              "        width: 32px;\n",
              "      }\n",
              "\n",
              "      .colab-df-generate:hover {\n",
              "        background-color: #E2EBFA;\n",
              "        box-shadow: 0px 1px 2px rgba(60, 64, 67, 0.3), 0px 1px 3px 1px rgba(60, 64, 67, 0.15);\n",
              "        fill: #174EA6;\n",
              "      }\n",
              "\n",
              "      [theme=dark] .colab-df-generate {\n",
              "        background-color: #3B4455;\n",
              "        fill: #D2E3FC;\n",
              "      }\n",
              "\n",
              "      [theme=dark] .colab-df-generate:hover {\n",
              "        background-color: #434B5C;\n",
              "        box-shadow: 0px 1px 3px 1px rgba(0, 0, 0, 0.15);\n",
              "        filter: drop-shadow(0px 1px 2px rgba(0, 0, 0, 0.3));\n",
              "        fill: #FFFFFF;\n",
              "      }\n",
              "    </style>\n",
              "    <button class=\"colab-df-generate\" onclick=\"generateWithVariable('train')\"\n",
              "            title=\"Generate code using this dataframe.\"\n",
              "            style=\"display:none;\">\n",
              "\n",
              "  <svg xmlns=\"http://www.w3.org/2000/svg\" height=\"24px\"viewBox=\"0 0 24 24\"\n",
              "       width=\"24px\">\n",
              "    <path d=\"M7,19H8.4L18.45,9,17,7.55,7,17.6ZM5,21V16.75L18.45,3.32a2,2,0,0,1,2.83,0l1.4,1.43a1.91,1.91,0,0,1,.58,1.4,1.91,1.91,0,0,1-.58,1.4L9.25,21ZM18.45,9,17,7.55Zm-12,3A5.31,5.31,0,0,0,4.9,8.1,5.31,5.31,0,0,0,1,6.5,5.31,5.31,0,0,0,4.9,4.9,5.31,5.31,0,0,0,6.5,1,5.31,5.31,0,0,0,8.1,4.9,5.31,5.31,0,0,0,12,6.5,5.46,5.46,0,0,0,6.5,12Z\"/>\n",
              "  </svg>\n",
              "    </button>\n",
              "    <script>\n",
              "      (() => {\n",
              "      const buttonEl =\n",
              "        document.querySelector('#id_ec0d4351-1c58-4d30-81da-ceff4d30ff7b button.colab-df-generate');\n",
              "      buttonEl.style.display =\n",
              "        google.colab.kernel.accessAllowed ? 'block' : 'none';\n",
              "\n",
              "      buttonEl.onclick = () => {\n",
              "        google.colab.notebook.generateWithVariable('train');\n",
              "      }\n",
              "      })();\n",
              "    </script>\n",
              "  </div>\n",
              "\n",
              "    </div>\n",
              "  </div>\n"
            ],
            "application/vnd.google.colaboratory.intrinsic+json": {
              "type": "dataframe",
              "variable_name": "train"
            }
          },
          "metadata": {},
          "execution_count": 4
        }
      ]
    },
    {
      "cell_type": "code",
      "source": [
        "test"
      ],
      "metadata": {
        "id": "zAxpzjwu8FcJ",
        "colab": {
          "base_uri": "https://localhost:8080/",
          "height": 423
        },
        "outputId": "4b6ea8c8-a296-41d9-938f-96e00e54fad5"
      },
      "id": "zAxpzjwu8FcJ",
      "execution_count": null,
      "outputs": [
        {
          "output_type": "execute_result",
          "data": {
            "text/plain": [
              "         index                                         image_link  group_id  \\\n",
              "0            0  https://m.media-amazon.com/images/I/110EibNycl...    156839   \n",
              "1            1  https://m.media-amazon.com/images/I/11TU2clswz...    792578   \n",
              "2            2  https://m.media-amazon.com/images/I/11TU2clswz...    792578   \n",
              "3            3  https://m.media-amazon.com/images/I/11TU2clswz...    792578   \n",
              "4            4  https://m.media-amazon.com/images/I/11gHj8dhhr...    792578   \n",
              "...        ...                                                ...       ...   \n",
              "131182  131283  https://m.media-amazon.com/images/I/A1rVsIzEtk...    721522   \n",
              "131183  131284  https://m.media-amazon.com/images/I/A1rdvZ5zDd...    603688   \n",
              "131184  131285  https://m.media-amazon.com/images/I/A1rdvZ5zDd...    603688   \n",
              "131185  131286  https://m.media-amazon.com/images/I/A1tnTUPyr7...    853009   \n",
              "131186  131287  https://m.media-amazon.com/images/I/A1tnTUPyr7...    853009   \n",
              "\n",
              "                          entity_name  \n",
              "0                              height  \n",
              "1                               width  \n",
              "2                              height  \n",
              "3                               depth  \n",
              "4                               depth  \n",
              "...                               ...  \n",
              "131182  maximum_weight_recommendation  \n",
              "131183                    item_weight  \n",
              "131184  maximum_weight_recommendation  \n",
              "131185                    item_weight  \n",
              "131186  maximum_weight_recommendation  \n",
              "\n",
              "[131187 rows x 4 columns]"
            ],
            "text/html": [
              "\n",
              "  <div id=\"df-20778d22-8590-4dd8-b31a-07c2b3344cfb\" class=\"colab-df-container\">\n",
              "    <div>\n",
              "<style scoped>\n",
              "    .dataframe tbody tr th:only-of-type {\n",
              "        vertical-align: middle;\n",
              "    }\n",
              "\n",
              "    .dataframe tbody tr th {\n",
              "        vertical-align: top;\n",
              "    }\n",
              "\n",
              "    .dataframe thead th {\n",
              "        text-align: right;\n",
              "    }\n",
              "</style>\n",
              "<table border=\"1\" class=\"dataframe\">\n",
              "  <thead>\n",
              "    <tr style=\"text-align: right;\">\n",
              "      <th></th>\n",
              "      <th>index</th>\n",
              "      <th>image_link</th>\n",
              "      <th>group_id</th>\n",
              "      <th>entity_name</th>\n",
              "    </tr>\n",
              "  </thead>\n",
              "  <tbody>\n",
              "    <tr>\n",
              "      <th>0</th>\n",
              "      <td>0</td>\n",
              "      <td>https://m.media-amazon.com/images/I/110EibNycl...</td>\n",
              "      <td>156839</td>\n",
              "      <td>height</td>\n",
              "    </tr>\n",
              "    <tr>\n",
              "      <th>1</th>\n",
              "      <td>1</td>\n",
              "      <td>https://m.media-amazon.com/images/I/11TU2clswz...</td>\n",
              "      <td>792578</td>\n",
              "      <td>width</td>\n",
              "    </tr>\n",
              "    <tr>\n",
              "      <th>2</th>\n",
              "      <td>2</td>\n",
              "      <td>https://m.media-amazon.com/images/I/11TU2clswz...</td>\n",
              "      <td>792578</td>\n",
              "      <td>height</td>\n",
              "    </tr>\n",
              "    <tr>\n",
              "      <th>3</th>\n",
              "      <td>3</td>\n",
              "      <td>https://m.media-amazon.com/images/I/11TU2clswz...</td>\n",
              "      <td>792578</td>\n",
              "      <td>depth</td>\n",
              "    </tr>\n",
              "    <tr>\n",
              "      <th>4</th>\n",
              "      <td>4</td>\n",
              "      <td>https://m.media-amazon.com/images/I/11gHj8dhhr...</td>\n",
              "      <td>792578</td>\n",
              "      <td>depth</td>\n",
              "    </tr>\n",
              "    <tr>\n",
              "      <th>...</th>\n",
              "      <td>...</td>\n",
              "      <td>...</td>\n",
              "      <td>...</td>\n",
              "      <td>...</td>\n",
              "    </tr>\n",
              "    <tr>\n",
              "      <th>131182</th>\n",
              "      <td>131283</td>\n",
              "      <td>https://m.media-amazon.com/images/I/A1rVsIzEtk...</td>\n",
              "      <td>721522</td>\n",
              "      <td>maximum_weight_recommendation</td>\n",
              "    </tr>\n",
              "    <tr>\n",
              "      <th>131183</th>\n",
              "      <td>131284</td>\n",
              "      <td>https://m.media-amazon.com/images/I/A1rdvZ5zDd...</td>\n",
              "      <td>603688</td>\n",
              "      <td>item_weight</td>\n",
              "    </tr>\n",
              "    <tr>\n",
              "      <th>131184</th>\n",
              "      <td>131285</td>\n",
              "      <td>https://m.media-amazon.com/images/I/A1rdvZ5zDd...</td>\n",
              "      <td>603688</td>\n",
              "      <td>maximum_weight_recommendation</td>\n",
              "    </tr>\n",
              "    <tr>\n",
              "      <th>131185</th>\n",
              "      <td>131286</td>\n",
              "      <td>https://m.media-amazon.com/images/I/A1tnTUPyr7...</td>\n",
              "      <td>853009</td>\n",
              "      <td>item_weight</td>\n",
              "    </tr>\n",
              "    <tr>\n",
              "      <th>131186</th>\n",
              "      <td>131287</td>\n",
              "      <td>https://m.media-amazon.com/images/I/A1tnTUPyr7...</td>\n",
              "      <td>853009</td>\n",
              "      <td>maximum_weight_recommendation</td>\n",
              "    </tr>\n",
              "  </tbody>\n",
              "</table>\n",
              "<p>131187 rows × 4 columns</p>\n",
              "</div>\n",
              "    <div class=\"colab-df-buttons\">\n",
              "\n",
              "  <div class=\"colab-df-container\">\n",
              "    <button class=\"colab-df-convert\" onclick=\"convertToInteractive('df-20778d22-8590-4dd8-b31a-07c2b3344cfb')\"\n",
              "            title=\"Convert this dataframe to an interactive table.\"\n",
              "            style=\"display:none;\">\n",
              "\n",
              "  <svg xmlns=\"http://www.w3.org/2000/svg\" height=\"24px\" viewBox=\"0 -960 960 960\">\n",
              "    <path d=\"M120-120v-720h720v720H120Zm60-500h600v-160H180v160Zm220 220h160v-160H400v160Zm0 220h160v-160H400v160ZM180-400h160v-160H180v160Zm440 0h160v-160H620v160ZM180-180h160v-160H180v160Zm440 0h160v-160H620v160Z\"/>\n",
              "  </svg>\n",
              "    </button>\n",
              "\n",
              "  <style>\n",
              "    .colab-df-container {\n",
              "      display:flex;\n",
              "      gap: 12px;\n",
              "    }\n",
              "\n",
              "    .colab-df-convert {\n",
              "      background-color: #E8F0FE;\n",
              "      border: none;\n",
              "      border-radius: 50%;\n",
              "      cursor: pointer;\n",
              "      display: none;\n",
              "      fill: #1967D2;\n",
              "      height: 32px;\n",
              "      padding: 0 0 0 0;\n",
              "      width: 32px;\n",
              "    }\n",
              "\n",
              "    .colab-df-convert:hover {\n",
              "      background-color: #E2EBFA;\n",
              "      box-shadow: 0px 1px 2px rgba(60, 64, 67, 0.3), 0px 1px 3px 1px rgba(60, 64, 67, 0.15);\n",
              "      fill: #174EA6;\n",
              "    }\n",
              "\n",
              "    .colab-df-buttons div {\n",
              "      margin-bottom: 4px;\n",
              "    }\n",
              "\n",
              "    [theme=dark] .colab-df-convert {\n",
              "      background-color: #3B4455;\n",
              "      fill: #D2E3FC;\n",
              "    }\n",
              "\n",
              "    [theme=dark] .colab-df-convert:hover {\n",
              "      background-color: #434B5C;\n",
              "      box-shadow: 0px 1px 3px 1px rgba(0, 0, 0, 0.15);\n",
              "      filter: drop-shadow(0px 1px 2px rgba(0, 0, 0, 0.3));\n",
              "      fill: #FFFFFF;\n",
              "    }\n",
              "  </style>\n",
              "\n",
              "    <script>\n",
              "      const buttonEl =\n",
              "        document.querySelector('#df-20778d22-8590-4dd8-b31a-07c2b3344cfb button.colab-df-convert');\n",
              "      buttonEl.style.display =\n",
              "        google.colab.kernel.accessAllowed ? 'block' : 'none';\n",
              "\n",
              "      async function convertToInteractive(key) {\n",
              "        const element = document.querySelector('#df-20778d22-8590-4dd8-b31a-07c2b3344cfb');\n",
              "        const dataTable =\n",
              "          await google.colab.kernel.invokeFunction('convertToInteractive',\n",
              "                                                    [key], {});\n",
              "        if (!dataTable) return;\n",
              "\n",
              "        const docLinkHtml = 'Like what you see? Visit the ' +\n",
              "          '<a target=\"_blank\" href=https://colab.research.google.com/notebooks/data_table.ipynb>data table notebook</a>'\n",
              "          + ' to learn more about interactive tables.';\n",
              "        element.innerHTML = '';\n",
              "        dataTable['output_type'] = 'display_data';\n",
              "        await google.colab.output.renderOutput(dataTable, element);\n",
              "        const docLink = document.createElement('div');\n",
              "        docLink.innerHTML = docLinkHtml;\n",
              "        element.appendChild(docLink);\n",
              "      }\n",
              "    </script>\n",
              "  </div>\n",
              "\n",
              "\n",
              "<div id=\"df-5f861743-b845-478a-b40a-9022791073af\">\n",
              "  <button class=\"colab-df-quickchart\" onclick=\"quickchart('df-5f861743-b845-478a-b40a-9022791073af')\"\n",
              "            title=\"Suggest charts\"\n",
              "            style=\"display:none;\">\n",
              "\n",
              "<svg xmlns=\"http://www.w3.org/2000/svg\" height=\"24px\"viewBox=\"0 0 24 24\"\n",
              "     width=\"24px\">\n",
              "    <g>\n",
              "        <path d=\"M19 3H5c-1.1 0-2 .9-2 2v14c0 1.1.9 2 2 2h14c1.1 0 2-.9 2-2V5c0-1.1-.9-2-2-2zM9 17H7v-7h2v7zm4 0h-2V7h2v10zm4 0h-2v-4h2v4z\"/>\n",
              "    </g>\n",
              "</svg>\n",
              "  </button>\n",
              "\n",
              "<style>\n",
              "  .colab-df-quickchart {\n",
              "      --bg-color: #E8F0FE;\n",
              "      --fill-color: #1967D2;\n",
              "      --hover-bg-color: #E2EBFA;\n",
              "      --hover-fill-color: #174EA6;\n",
              "      --disabled-fill-color: #AAA;\n",
              "      --disabled-bg-color: #DDD;\n",
              "  }\n",
              "\n",
              "  [theme=dark] .colab-df-quickchart {\n",
              "      --bg-color: #3B4455;\n",
              "      --fill-color: #D2E3FC;\n",
              "      --hover-bg-color: #434B5C;\n",
              "      --hover-fill-color: #FFFFFF;\n",
              "      --disabled-bg-color: #3B4455;\n",
              "      --disabled-fill-color: #666;\n",
              "  }\n",
              "\n",
              "  .colab-df-quickchart {\n",
              "    background-color: var(--bg-color);\n",
              "    border: none;\n",
              "    border-radius: 50%;\n",
              "    cursor: pointer;\n",
              "    display: none;\n",
              "    fill: var(--fill-color);\n",
              "    height: 32px;\n",
              "    padding: 0;\n",
              "    width: 32px;\n",
              "  }\n",
              "\n",
              "  .colab-df-quickchart:hover {\n",
              "    background-color: var(--hover-bg-color);\n",
              "    box-shadow: 0 1px 2px rgba(60, 64, 67, 0.3), 0 1px 3px 1px rgba(60, 64, 67, 0.15);\n",
              "    fill: var(--button-hover-fill-color);\n",
              "  }\n",
              "\n",
              "  .colab-df-quickchart-complete:disabled,\n",
              "  .colab-df-quickchart-complete:disabled:hover {\n",
              "    background-color: var(--disabled-bg-color);\n",
              "    fill: var(--disabled-fill-color);\n",
              "    box-shadow: none;\n",
              "  }\n",
              "\n",
              "  .colab-df-spinner {\n",
              "    border: 2px solid var(--fill-color);\n",
              "    border-color: transparent;\n",
              "    border-bottom-color: var(--fill-color);\n",
              "    animation:\n",
              "      spin 1s steps(1) infinite;\n",
              "  }\n",
              "\n",
              "  @keyframes spin {\n",
              "    0% {\n",
              "      border-color: transparent;\n",
              "      border-bottom-color: var(--fill-color);\n",
              "      border-left-color: var(--fill-color);\n",
              "    }\n",
              "    20% {\n",
              "      border-color: transparent;\n",
              "      border-left-color: var(--fill-color);\n",
              "      border-top-color: var(--fill-color);\n",
              "    }\n",
              "    30% {\n",
              "      border-color: transparent;\n",
              "      border-left-color: var(--fill-color);\n",
              "      border-top-color: var(--fill-color);\n",
              "      border-right-color: var(--fill-color);\n",
              "    }\n",
              "    40% {\n",
              "      border-color: transparent;\n",
              "      border-right-color: var(--fill-color);\n",
              "      border-top-color: var(--fill-color);\n",
              "    }\n",
              "    60% {\n",
              "      border-color: transparent;\n",
              "      border-right-color: var(--fill-color);\n",
              "    }\n",
              "    80% {\n",
              "      border-color: transparent;\n",
              "      border-right-color: var(--fill-color);\n",
              "      border-bottom-color: var(--fill-color);\n",
              "    }\n",
              "    90% {\n",
              "      border-color: transparent;\n",
              "      border-bottom-color: var(--fill-color);\n",
              "    }\n",
              "  }\n",
              "</style>\n",
              "\n",
              "  <script>\n",
              "    async function quickchart(key) {\n",
              "      const quickchartButtonEl =\n",
              "        document.querySelector('#' + key + ' button');\n",
              "      quickchartButtonEl.disabled = true;  // To prevent multiple clicks.\n",
              "      quickchartButtonEl.classList.add('colab-df-spinner');\n",
              "      try {\n",
              "        const charts = await google.colab.kernel.invokeFunction(\n",
              "            'suggestCharts', [key], {});\n",
              "      } catch (error) {\n",
              "        console.error('Error during call to suggestCharts:', error);\n",
              "      }\n",
              "      quickchartButtonEl.classList.remove('colab-df-spinner');\n",
              "      quickchartButtonEl.classList.add('colab-df-quickchart-complete');\n",
              "    }\n",
              "    (() => {\n",
              "      let quickchartButtonEl =\n",
              "        document.querySelector('#df-5f861743-b845-478a-b40a-9022791073af button');\n",
              "      quickchartButtonEl.style.display =\n",
              "        google.colab.kernel.accessAllowed ? 'block' : 'none';\n",
              "    })();\n",
              "  </script>\n",
              "</div>\n",
              "\n",
              "  <div id=\"id_dddc5c3b-0138-4510-af19-935231fc6fba\">\n",
              "    <style>\n",
              "      .colab-df-generate {\n",
              "        background-color: #E8F0FE;\n",
              "        border: none;\n",
              "        border-radius: 50%;\n",
              "        cursor: pointer;\n",
              "        display: none;\n",
              "        fill: #1967D2;\n",
              "        height: 32px;\n",
              "        padding: 0 0 0 0;\n",
              "        width: 32px;\n",
              "      }\n",
              "\n",
              "      .colab-df-generate:hover {\n",
              "        background-color: #E2EBFA;\n",
              "        box-shadow: 0px 1px 2px rgba(60, 64, 67, 0.3), 0px 1px 3px 1px rgba(60, 64, 67, 0.15);\n",
              "        fill: #174EA6;\n",
              "      }\n",
              "\n",
              "      [theme=dark] .colab-df-generate {\n",
              "        background-color: #3B4455;\n",
              "        fill: #D2E3FC;\n",
              "      }\n",
              "\n",
              "      [theme=dark] .colab-df-generate:hover {\n",
              "        background-color: #434B5C;\n",
              "        box-shadow: 0px 1px 3px 1px rgba(0, 0, 0, 0.15);\n",
              "        filter: drop-shadow(0px 1px 2px rgba(0, 0, 0, 0.3));\n",
              "        fill: #FFFFFF;\n",
              "      }\n",
              "    </style>\n",
              "    <button class=\"colab-df-generate\" onclick=\"generateWithVariable('test')\"\n",
              "            title=\"Generate code using this dataframe.\"\n",
              "            style=\"display:none;\">\n",
              "\n",
              "  <svg xmlns=\"http://www.w3.org/2000/svg\" height=\"24px\"viewBox=\"0 0 24 24\"\n",
              "       width=\"24px\">\n",
              "    <path d=\"M7,19H8.4L18.45,9,17,7.55,7,17.6ZM5,21V16.75L18.45,3.32a2,2,0,0,1,2.83,0l1.4,1.43a1.91,1.91,0,0,1,.58,1.4,1.91,1.91,0,0,1-.58,1.4L9.25,21ZM18.45,9,17,7.55Zm-12,3A5.31,5.31,0,0,0,4.9,8.1,5.31,5.31,0,0,0,1,6.5,5.31,5.31,0,0,0,4.9,4.9,5.31,5.31,0,0,0,6.5,1,5.31,5.31,0,0,0,8.1,4.9,5.31,5.31,0,0,0,12,6.5,5.46,5.46,0,0,0,6.5,12Z\"/>\n",
              "  </svg>\n",
              "    </button>\n",
              "    <script>\n",
              "      (() => {\n",
              "      const buttonEl =\n",
              "        document.querySelector('#id_dddc5c3b-0138-4510-af19-935231fc6fba button.colab-df-generate');\n",
              "      buttonEl.style.display =\n",
              "        google.colab.kernel.accessAllowed ? 'block' : 'none';\n",
              "\n",
              "      buttonEl.onclick = () => {\n",
              "        google.colab.notebook.generateWithVariable('test');\n",
              "      }\n",
              "      })();\n",
              "    </script>\n",
              "  </div>\n",
              "\n",
              "    </div>\n",
              "  </div>\n"
            ],
            "application/vnd.google.colaboratory.intrinsic+json": {
              "type": "dataframe",
              "variable_name": "test"
            }
          },
          "metadata": {},
          "execution_count": 5
        }
      ]
    },
    {
      "cell_type": "code",
      "source": [
        "sample_test"
      ],
      "metadata": {
        "colab": {
          "base_uri": "https://localhost:8080/",
          "height": 423
        },
        "id": "DnXvXHiaZDpv",
        "outputId": "405c7af8-6794-447a-c627-e2ed5fd928a8"
      },
      "id": "DnXvXHiaZDpv",
      "execution_count": null,
      "outputs": [
        {
          "output_type": "execute_result",
          "data": {
            "text/plain": [
              "    index                                         image_link  group_id  \\\n",
              "0       0  https://m.media-amazon.com/images/I/41-NCxNuBx...    658003   \n",
              "1       1  https://m.media-amazon.com/images/I/41-NCxNuBx...    658003   \n",
              "2       2  https://m.media-amazon.com/images/I/417NJrPEk+...    939426   \n",
              "3       3  https://m.media-amazon.com/images/I/417SThj+Sr...    276700   \n",
              "4       4  https://m.media-amazon.com/images/I/417SThj+Sr...    276700   \n",
              "..    ...                                                ...       ...   \n",
              "83     83  https://m.media-amazon.com/images/I/81IYdOV0mV...    721522   \n",
              "84     84  https://m.media-amazon.com/images/I/81PG3ea0MO...    240413   \n",
              "85     85  https://m.media-amazon.com/images/I/81aZ2ozp1G...    805279   \n",
              "86     86  https://m.media-amazon.com/images/I/81qUmRUUTT...    603688   \n",
              "87     87  https://m.media-amazon.com/images/I/81qUmRUUTT...    603688   \n",
              "\n",
              "                      entity_name  \n",
              "0                           width  \n",
              "1                           depth  \n",
              "2   maximum_weight_recommendation  \n",
              "3                         voltage  \n",
              "4                         wattage  \n",
              "..                            ...  \n",
              "83  maximum_weight_recommendation  \n",
              "84                        voltage  \n",
              "85  maximum_weight_recommendation  \n",
              "86  maximum_weight_recommendation  \n",
              "87                    item_weight  \n",
              "\n",
              "[88 rows x 4 columns]"
            ],
            "text/html": [
              "\n",
              "  <div id=\"df-cda7579f-3b19-4f35-af4a-80f743593b51\" class=\"colab-df-container\">\n",
              "    <div>\n",
              "<style scoped>\n",
              "    .dataframe tbody tr th:only-of-type {\n",
              "        vertical-align: middle;\n",
              "    }\n",
              "\n",
              "    .dataframe tbody tr th {\n",
              "        vertical-align: top;\n",
              "    }\n",
              "\n",
              "    .dataframe thead th {\n",
              "        text-align: right;\n",
              "    }\n",
              "</style>\n",
              "<table border=\"1\" class=\"dataframe\">\n",
              "  <thead>\n",
              "    <tr style=\"text-align: right;\">\n",
              "      <th></th>\n",
              "      <th>index</th>\n",
              "      <th>image_link</th>\n",
              "      <th>group_id</th>\n",
              "      <th>entity_name</th>\n",
              "    </tr>\n",
              "  </thead>\n",
              "  <tbody>\n",
              "    <tr>\n",
              "      <th>0</th>\n",
              "      <td>0</td>\n",
              "      <td>https://m.media-amazon.com/images/I/41-NCxNuBx...</td>\n",
              "      <td>658003</td>\n",
              "      <td>width</td>\n",
              "    </tr>\n",
              "    <tr>\n",
              "      <th>1</th>\n",
              "      <td>1</td>\n",
              "      <td>https://m.media-amazon.com/images/I/41-NCxNuBx...</td>\n",
              "      <td>658003</td>\n",
              "      <td>depth</td>\n",
              "    </tr>\n",
              "    <tr>\n",
              "      <th>2</th>\n",
              "      <td>2</td>\n",
              "      <td>https://m.media-amazon.com/images/I/417NJrPEk+...</td>\n",
              "      <td>939426</td>\n",
              "      <td>maximum_weight_recommendation</td>\n",
              "    </tr>\n",
              "    <tr>\n",
              "      <th>3</th>\n",
              "      <td>3</td>\n",
              "      <td>https://m.media-amazon.com/images/I/417SThj+Sr...</td>\n",
              "      <td>276700</td>\n",
              "      <td>voltage</td>\n",
              "    </tr>\n",
              "    <tr>\n",
              "      <th>4</th>\n",
              "      <td>4</td>\n",
              "      <td>https://m.media-amazon.com/images/I/417SThj+Sr...</td>\n",
              "      <td>276700</td>\n",
              "      <td>wattage</td>\n",
              "    </tr>\n",
              "    <tr>\n",
              "      <th>...</th>\n",
              "      <td>...</td>\n",
              "      <td>...</td>\n",
              "      <td>...</td>\n",
              "      <td>...</td>\n",
              "    </tr>\n",
              "    <tr>\n",
              "      <th>83</th>\n",
              "      <td>83</td>\n",
              "      <td>https://m.media-amazon.com/images/I/81IYdOV0mV...</td>\n",
              "      <td>721522</td>\n",
              "      <td>maximum_weight_recommendation</td>\n",
              "    </tr>\n",
              "    <tr>\n",
              "      <th>84</th>\n",
              "      <td>84</td>\n",
              "      <td>https://m.media-amazon.com/images/I/81PG3ea0MO...</td>\n",
              "      <td>240413</td>\n",
              "      <td>voltage</td>\n",
              "    </tr>\n",
              "    <tr>\n",
              "      <th>85</th>\n",
              "      <td>85</td>\n",
              "      <td>https://m.media-amazon.com/images/I/81aZ2ozp1G...</td>\n",
              "      <td>805279</td>\n",
              "      <td>maximum_weight_recommendation</td>\n",
              "    </tr>\n",
              "    <tr>\n",
              "      <th>86</th>\n",
              "      <td>86</td>\n",
              "      <td>https://m.media-amazon.com/images/I/81qUmRUUTT...</td>\n",
              "      <td>603688</td>\n",
              "      <td>maximum_weight_recommendation</td>\n",
              "    </tr>\n",
              "    <tr>\n",
              "      <th>87</th>\n",
              "      <td>87</td>\n",
              "      <td>https://m.media-amazon.com/images/I/81qUmRUUTT...</td>\n",
              "      <td>603688</td>\n",
              "      <td>item_weight</td>\n",
              "    </tr>\n",
              "  </tbody>\n",
              "</table>\n",
              "<p>88 rows × 4 columns</p>\n",
              "</div>\n",
              "    <div class=\"colab-df-buttons\">\n",
              "\n",
              "  <div class=\"colab-df-container\">\n",
              "    <button class=\"colab-df-convert\" onclick=\"convertToInteractive('df-cda7579f-3b19-4f35-af4a-80f743593b51')\"\n",
              "            title=\"Convert this dataframe to an interactive table.\"\n",
              "            style=\"display:none;\">\n",
              "\n",
              "  <svg xmlns=\"http://www.w3.org/2000/svg\" height=\"24px\" viewBox=\"0 -960 960 960\">\n",
              "    <path d=\"M120-120v-720h720v720H120Zm60-500h600v-160H180v160Zm220 220h160v-160H400v160Zm0 220h160v-160H400v160ZM180-400h160v-160H180v160Zm440 0h160v-160H620v160ZM180-180h160v-160H180v160Zm440 0h160v-160H620v160Z\"/>\n",
              "  </svg>\n",
              "    </button>\n",
              "\n",
              "  <style>\n",
              "    .colab-df-container {\n",
              "      display:flex;\n",
              "      gap: 12px;\n",
              "    }\n",
              "\n",
              "    .colab-df-convert {\n",
              "      background-color: #E8F0FE;\n",
              "      border: none;\n",
              "      border-radius: 50%;\n",
              "      cursor: pointer;\n",
              "      display: none;\n",
              "      fill: #1967D2;\n",
              "      height: 32px;\n",
              "      padding: 0 0 0 0;\n",
              "      width: 32px;\n",
              "    }\n",
              "\n",
              "    .colab-df-convert:hover {\n",
              "      background-color: #E2EBFA;\n",
              "      box-shadow: 0px 1px 2px rgba(60, 64, 67, 0.3), 0px 1px 3px 1px rgba(60, 64, 67, 0.15);\n",
              "      fill: #174EA6;\n",
              "    }\n",
              "\n",
              "    .colab-df-buttons div {\n",
              "      margin-bottom: 4px;\n",
              "    }\n",
              "\n",
              "    [theme=dark] .colab-df-convert {\n",
              "      background-color: #3B4455;\n",
              "      fill: #D2E3FC;\n",
              "    }\n",
              "\n",
              "    [theme=dark] .colab-df-convert:hover {\n",
              "      background-color: #434B5C;\n",
              "      box-shadow: 0px 1px 3px 1px rgba(0, 0, 0, 0.15);\n",
              "      filter: drop-shadow(0px 1px 2px rgba(0, 0, 0, 0.3));\n",
              "      fill: #FFFFFF;\n",
              "    }\n",
              "  </style>\n",
              "\n",
              "    <script>\n",
              "      const buttonEl =\n",
              "        document.querySelector('#df-cda7579f-3b19-4f35-af4a-80f743593b51 button.colab-df-convert');\n",
              "      buttonEl.style.display =\n",
              "        google.colab.kernel.accessAllowed ? 'block' : 'none';\n",
              "\n",
              "      async function convertToInteractive(key) {\n",
              "        const element = document.querySelector('#df-cda7579f-3b19-4f35-af4a-80f743593b51');\n",
              "        const dataTable =\n",
              "          await google.colab.kernel.invokeFunction('convertToInteractive',\n",
              "                                                    [key], {});\n",
              "        if (!dataTable) return;\n",
              "\n",
              "        const docLinkHtml = 'Like what you see? Visit the ' +\n",
              "          '<a target=\"_blank\" href=https://colab.research.google.com/notebooks/data_table.ipynb>data table notebook</a>'\n",
              "          + ' to learn more about interactive tables.';\n",
              "        element.innerHTML = '';\n",
              "        dataTable['output_type'] = 'display_data';\n",
              "        await google.colab.output.renderOutput(dataTable, element);\n",
              "        const docLink = document.createElement('div');\n",
              "        docLink.innerHTML = docLinkHtml;\n",
              "        element.appendChild(docLink);\n",
              "      }\n",
              "    </script>\n",
              "  </div>\n",
              "\n",
              "\n",
              "<div id=\"df-bff1b040-e4eb-426d-9079-715f1b80c3a5\">\n",
              "  <button class=\"colab-df-quickchart\" onclick=\"quickchart('df-bff1b040-e4eb-426d-9079-715f1b80c3a5')\"\n",
              "            title=\"Suggest charts\"\n",
              "            style=\"display:none;\">\n",
              "\n",
              "<svg xmlns=\"http://www.w3.org/2000/svg\" height=\"24px\"viewBox=\"0 0 24 24\"\n",
              "     width=\"24px\">\n",
              "    <g>\n",
              "        <path d=\"M19 3H5c-1.1 0-2 .9-2 2v14c0 1.1.9 2 2 2h14c1.1 0 2-.9 2-2V5c0-1.1-.9-2-2-2zM9 17H7v-7h2v7zm4 0h-2V7h2v10zm4 0h-2v-4h2v4z\"/>\n",
              "    </g>\n",
              "</svg>\n",
              "  </button>\n",
              "\n",
              "<style>\n",
              "  .colab-df-quickchart {\n",
              "      --bg-color: #E8F0FE;\n",
              "      --fill-color: #1967D2;\n",
              "      --hover-bg-color: #E2EBFA;\n",
              "      --hover-fill-color: #174EA6;\n",
              "      --disabled-fill-color: #AAA;\n",
              "      --disabled-bg-color: #DDD;\n",
              "  }\n",
              "\n",
              "  [theme=dark] .colab-df-quickchart {\n",
              "      --bg-color: #3B4455;\n",
              "      --fill-color: #D2E3FC;\n",
              "      --hover-bg-color: #434B5C;\n",
              "      --hover-fill-color: #FFFFFF;\n",
              "      --disabled-bg-color: #3B4455;\n",
              "      --disabled-fill-color: #666;\n",
              "  }\n",
              "\n",
              "  .colab-df-quickchart {\n",
              "    background-color: var(--bg-color);\n",
              "    border: none;\n",
              "    border-radius: 50%;\n",
              "    cursor: pointer;\n",
              "    display: none;\n",
              "    fill: var(--fill-color);\n",
              "    height: 32px;\n",
              "    padding: 0;\n",
              "    width: 32px;\n",
              "  }\n",
              "\n",
              "  .colab-df-quickchart:hover {\n",
              "    background-color: var(--hover-bg-color);\n",
              "    box-shadow: 0 1px 2px rgba(60, 64, 67, 0.3), 0 1px 3px 1px rgba(60, 64, 67, 0.15);\n",
              "    fill: var(--button-hover-fill-color);\n",
              "  }\n",
              "\n",
              "  .colab-df-quickchart-complete:disabled,\n",
              "  .colab-df-quickchart-complete:disabled:hover {\n",
              "    background-color: var(--disabled-bg-color);\n",
              "    fill: var(--disabled-fill-color);\n",
              "    box-shadow: none;\n",
              "  }\n",
              "\n",
              "  .colab-df-spinner {\n",
              "    border: 2px solid var(--fill-color);\n",
              "    border-color: transparent;\n",
              "    border-bottom-color: var(--fill-color);\n",
              "    animation:\n",
              "      spin 1s steps(1) infinite;\n",
              "  }\n",
              "\n",
              "  @keyframes spin {\n",
              "    0% {\n",
              "      border-color: transparent;\n",
              "      border-bottom-color: var(--fill-color);\n",
              "      border-left-color: var(--fill-color);\n",
              "    }\n",
              "    20% {\n",
              "      border-color: transparent;\n",
              "      border-left-color: var(--fill-color);\n",
              "      border-top-color: var(--fill-color);\n",
              "    }\n",
              "    30% {\n",
              "      border-color: transparent;\n",
              "      border-left-color: var(--fill-color);\n",
              "      border-top-color: var(--fill-color);\n",
              "      border-right-color: var(--fill-color);\n",
              "    }\n",
              "    40% {\n",
              "      border-color: transparent;\n",
              "      border-right-color: var(--fill-color);\n",
              "      border-top-color: var(--fill-color);\n",
              "    }\n",
              "    60% {\n",
              "      border-color: transparent;\n",
              "      border-right-color: var(--fill-color);\n",
              "    }\n",
              "    80% {\n",
              "      border-color: transparent;\n",
              "      border-right-color: var(--fill-color);\n",
              "      border-bottom-color: var(--fill-color);\n",
              "    }\n",
              "    90% {\n",
              "      border-color: transparent;\n",
              "      border-bottom-color: var(--fill-color);\n",
              "    }\n",
              "  }\n",
              "</style>\n",
              "\n",
              "  <script>\n",
              "    async function quickchart(key) {\n",
              "      const quickchartButtonEl =\n",
              "        document.querySelector('#' + key + ' button');\n",
              "      quickchartButtonEl.disabled = true;  // To prevent multiple clicks.\n",
              "      quickchartButtonEl.classList.add('colab-df-spinner');\n",
              "      try {\n",
              "        const charts = await google.colab.kernel.invokeFunction(\n",
              "            'suggestCharts', [key], {});\n",
              "      } catch (error) {\n",
              "        console.error('Error during call to suggestCharts:', error);\n",
              "      }\n",
              "      quickchartButtonEl.classList.remove('colab-df-spinner');\n",
              "      quickchartButtonEl.classList.add('colab-df-quickchart-complete');\n",
              "    }\n",
              "    (() => {\n",
              "      let quickchartButtonEl =\n",
              "        document.querySelector('#df-bff1b040-e4eb-426d-9079-715f1b80c3a5 button');\n",
              "      quickchartButtonEl.style.display =\n",
              "        google.colab.kernel.accessAllowed ? 'block' : 'none';\n",
              "    })();\n",
              "  </script>\n",
              "</div>\n",
              "\n",
              "  <div id=\"id_ae2a505d-07d6-481c-90f4-95ee86cca11f\">\n",
              "    <style>\n",
              "      .colab-df-generate {\n",
              "        background-color: #E8F0FE;\n",
              "        border: none;\n",
              "        border-radius: 50%;\n",
              "        cursor: pointer;\n",
              "        display: none;\n",
              "        fill: #1967D2;\n",
              "        height: 32px;\n",
              "        padding: 0 0 0 0;\n",
              "        width: 32px;\n",
              "      }\n",
              "\n",
              "      .colab-df-generate:hover {\n",
              "        background-color: #E2EBFA;\n",
              "        box-shadow: 0px 1px 2px rgba(60, 64, 67, 0.3), 0px 1px 3px 1px rgba(60, 64, 67, 0.15);\n",
              "        fill: #174EA6;\n",
              "      }\n",
              "\n",
              "      [theme=dark] .colab-df-generate {\n",
              "        background-color: #3B4455;\n",
              "        fill: #D2E3FC;\n",
              "      }\n",
              "\n",
              "      [theme=dark] .colab-df-generate:hover {\n",
              "        background-color: #434B5C;\n",
              "        box-shadow: 0px 1px 3px 1px rgba(0, 0, 0, 0.15);\n",
              "        filter: drop-shadow(0px 1px 2px rgba(0, 0, 0, 0.3));\n",
              "        fill: #FFFFFF;\n",
              "      }\n",
              "    </style>\n",
              "    <button class=\"colab-df-generate\" onclick=\"generateWithVariable('sample_test')\"\n",
              "            title=\"Generate code using this dataframe.\"\n",
              "            style=\"display:none;\">\n",
              "\n",
              "  <svg xmlns=\"http://www.w3.org/2000/svg\" height=\"24px\"viewBox=\"0 0 24 24\"\n",
              "       width=\"24px\">\n",
              "    <path d=\"M7,19H8.4L18.45,9,17,7.55,7,17.6ZM5,21V16.75L18.45,3.32a2,2,0,0,1,2.83,0l1.4,1.43a1.91,1.91,0,0,1,.58,1.4,1.91,1.91,0,0,1-.58,1.4L9.25,21ZM18.45,9,17,7.55Zm-12,3A5.31,5.31,0,0,0,4.9,8.1,5.31,5.31,0,0,0,1,6.5,5.31,5.31,0,0,0,4.9,4.9,5.31,5.31,0,0,0,6.5,1,5.31,5.31,0,0,0,8.1,4.9,5.31,5.31,0,0,0,12,6.5,5.46,5.46,0,0,0,6.5,12Z\"/>\n",
              "  </svg>\n",
              "    </button>\n",
              "    <script>\n",
              "      (() => {\n",
              "      const buttonEl =\n",
              "        document.querySelector('#id_ae2a505d-07d6-481c-90f4-95ee86cca11f button.colab-df-generate');\n",
              "      buttonEl.style.display =\n",
              "        google.colab.kernel.accessAllowed ? 'block' : 'none';\n",
              "\n",
              "      buttonEl.onclick = () => {\n",
              "        google.colab.notebook.generateWithVariable('sample_test');\n",
              "      }\n",
              "      })();\n",
              "    </script>\n",
              "  </div>\n",
              "\n",
              "    </div>\n",
              "  </div>\n"
            ],
            "application/vnd.google.colaboratory.intrinsic+json": {
              "type": "dataframe",
              "variable_name": "sample_test",
              "summary": "{\n  \"name\": \"sample_test\",\n  \"rows\": 88,\n  \"fields\": [\n    {\n      \"column\": \"index\",\n      \"properties\": {\n        \"dtype\": \"number\",\n        \"std\": 25,\n        \"min\": 0,\n        \"max\": 87,\n        \"num_unique_values\": 88,\n        \"samples\": [\n          76,\n          0,\n          26\n        ],\n        \"semantic_type\": \"\",\n        \"description\": \"\"\n      }\n    },\n    {\n      \"column\": \"image_link\",\n      \"properties\": {\n        \"dtype\": \"string\",\n        \"num_unique_values\": 54,\n        \"samples\": [\n          \"https://m.media-amazon.com/images/I/51KykmLgc0L.jpg\",\n          \"https://m.media-amazon.com/images/I/71v+pim0lfL.jpg\",\n          \"https://m.media-amazon.com/images/I/71ta6wY3HtL.jpg\"\n        ],\n        \"semantic_type\": \"\",\n        \"description\": \"\"\n      }\n    },\n    {\n      \"column\": \"group_id\",\n      \"properties\": {\n        \"dtype\": \"number\",\n        \"std\": 253075,\n        \"min\": 124643,\n        \"max\": 997176,\n        \"num_unique_values\": 47,\n        \"samples\": [\n          860821,\n          219211,\n          140266\n        ],\n        \"semantic_type\": \"\",\n        \"description\": \"\"\n      }\n    },\n    {\n      \"column\": \"entity_name\",\n      \"properties\": {\n        \"dtype\": \"category\",\n        \"num_unique_values\": 7,\n        \"samples\": [\n          \"width\",\n          \"depth\",\n          \"item_weight\"\n        ],\n        \"semantic_type\": \"\",\n        \"description\": \"\"\n      }\n    }\n  ]\n}"
            }
          },
          "metadata": {},
          "execution_count": 6
        }
      ]
    },
    {
      "cell_type": "code",
      "source": [
        "sample_test_out"
      ],
      "metadata": {
        "colab": {
          "base_uri": "https://localhost:8080/",
          "height": 423
        },
        "id": "dVbnRepaZQWT",
        "outputId": "c8a05c8f-373a-495f-cae1-58d170540e05"
      },
      "id": "dVbnRepaZQWT",
      "execution_count": null,
      "outputs": [
        {
          "output_type": "execute_result",
          "data": {
            "text/plain": [
              "    index        prediction\n",
              "0       0         21.9 foot\n",
              "1       1           10 foot\n",
              "2       2               NaN\n",
              "3       3   289.52 kilovolt\n",
              "4       4  1078.99 kilowatt\n",
              "..    ...               ...\n",
              "83     83               NaN\n",
              "84     84               NaN\n",
              "85     85         500 pound\n",
              "86     86      354.58 pound\n",
              "87     87               NaN\n",
              "\n",
              "[88 rows x 2 columns]"
            ],
            "text/html": [
              "\n",
              "  <div id=\"df-fed495e3-4782-490d-9a4f-5eba62b34ce1\" class=\"colab-df-container\">\n",
              "    <div>\n",
              "<style scoped>\n",
              "    .dataframe tbody tr th:only-of-type {\n",
              "        vertical-align: middle;\n",
              "    }\n",
              "\n",
              "    .dataframe tbody tr th {\n",
              "        vertical-align: top;\n",
              "    }\n",
              "\n",
              "    .dataframe thead th {\n",
              "        text-align: right;\n",
              "    }\n",
              "</style>\n",
              "<table border=\"1\" class=\"dataframe\">\n",
              "  <thead>\n",
              "    <tr style=\"text-align: right;\">\n",
              "      <th></th>\n",
              "      <th>index</th>\n",
              "      <th>prediction</th>\n",
              "    </tr>\n",
              "  </thead>\n",
              "  <tbody>\n",
              "    <tr>\n",
              "      <th>0</th>\n",
              "      <td>0</td>\n",
              "      <td>21.9 foot</td>\n",
              "    </tr>\n",
              "    <tr>\n",
              "      <th>1</th>\n",
              "      <td>1</td>\n",
              "      <td>10 foot</td>\n",
              "    </tr>\n",
              "    <tr>\n",
              "      <th>2</th>\n",
              "      <td>2</td>\n",
              "      <td>NaN</td>\n",
              "    </tr>\n",
              "    <tr>\n",
              "      <th>3</th>\n",
              "      <td>3</td>\n",
              "      <td>289.52 kilovolt</td>\n",
              "    </tr>\n",
              "    <tr>\n",
              "      <th>4</th>\n",
              "      <td>4</td>\n",
              "      <td>1078.99 kilowatt</td>\n",
              "    </tr>\n",
              "    <tr>\n",
              "      <th>...</th>\n",
              "      <td>...</td>\n",
              "      <td>...</td>\n",
              "    </tr>\n",
              "    <tr>\n",
              "      <th>83</th>\n",
              "      <td>83</td>\n",
              "      <td>NaN</td>\n",
              "    </tr>\n",
              "    <tr>\n",
              "      <th>84</th>\n",
              "      <td>84</td>\n",
              "      <td>NaN</td>\n",
              "    </tr>\n",
              "    <tr>\n",
              "      <th>85</th>\n",
              "      <td>85</td>\n",
              "      <td>500 pound</td>\n",
              "    </tr>\n",
              "    <tr>\n",
              "      <th>86</th>\n",
              "      <td>86</td>\n",
              "      <td>354.58 pound</td>\n",
              "    </tr>\n",
              "    <tr>\n",
              "      <th>87</th>\n",
              "      <td>87</td>\n",
              "      <td>NaN</td>\n",
              "    </tr>\n",
              "  </tbody>\n",
              "</table>\n",
              "<p>88 rows × 2 columns</p>\n",
              "</div>\n",
              "    <div class=\"colab-df-buttons\">\n",
              "\n",
              "  <div class=\"colab-df-container\">\n",
              "    <button class=\"colab-df-convert\" onclick=\"convertToInteractive('df-fed495e3-4782-490d-9a4f-5eba62b34ce1')\"\n",
              "            title=\"Convert this dataframe to an interactive table.\"\n",
              "            style=\"display:none;\">\n",
              "\n",
              "  <svg xmlns=\"http://www.w3.org/2000/svg\" height=\"24px\" viewBox=\"0 -960 960 960\">\n",
              "    <path d=\"M120-120v-720h720v720H120Zm60-500h600v-160H180v160Zm220 220h160v-160H400v160Zm0 220h160v-160H400v160ZM180-400h160v-160H180v160Zm440 0h160v-160H620v160ZM180-180h160v-160H180v160Zm440 0h160v-160H620v160Z\"/>\n",
              "  </svg>\n",
              "    </button>\n",
              "\n",
              "  <style>\n",
              "    .colab-df-container {\n",
              "      display:flex;\n",
              "      gap: 12px;\n",
              "    }\n",
              "\n",
              "    .colab-df-convert {\n",
              "      background-color: #E8F0FE;\n",
              "      border: none;\n",
              "      border-radius: 50%;\n",
              "      cursor: pointer;\n",
              "      display: none;\n",
              "      fill: #1967D2;\n",
              "      height: 32px;\n",
              "      padding: 0 0 0 0;\n",
              "      width: 32px;\n",
              "    }\n",
              "\n",
              "    .colab-df-convert:hover {\n",
              "      background-color: #E2EBFA;\n",
              "      box-shadow: 0px 1px 2px rgba(60, 64, 67, 0.3), 0px 1px 3px 1px rgba(60, 64, 67, 0.15);\n",
              "      fill: #174EA6;\n",
              "    }\n",
              "\n",
              "    .colab-df-buttons div {\n",
              "      margin-bottom: 4px;\n",
              "    }\n",
              "\n",
              "    [theme=dark] .colab-df-convert {\n",
              "      background-color: #3B4455;\n",
              "      fill: #D2E3FC;\n",
              "    }\n",
              "\n",
              "    [theme=dark] .colab-df-convert:hover {\n",
              "      background-color: #434B5C;\n",
              "      box-shadow: 0px 1px 3px 1px rgba(0, 0, 0, 0.15);\n",
              "      filter: drop-shadow(0px 1px 2px rgba(0, 0, 0, 0.3));\n",
              "      fill: #FFFFFF;\n",
              "    }\n",
              "  </style>\n",
              "\n",
              "    <script>\n",
              "      const buttonEl =\n",
              "        document.querySelector('#df-fed495e3-4782-490d-9a4f-5eba62b34ce1 button.colab-df-convert');\n",
              "      buttonEl.style.display =\n",
              "        google.colab.kernel.accessAllowed ? 'block' : 'none';\n",
              "\n",
              "      async function convertToInteractive(key) {\n",
              "        const element = document.querySelector('#df-fed495e3-4782-490d-9a4f-5eba62b34ce1');\n",
              "        const dataTable =\n",
              "          await google.colab.kernel.invokeFunction('convertToInteractive',\n",
              "                                                    [key], {});\n",
              "        if (!dataTable) return;\n",
              "\n",
              "        const docLinkHtml = 'Like what you see? Visit the ' +\n",
              "          '<a target=\"_blank\" href=https://colab.research.google.com/notebooks/data_table.ipynb>data table notebook</a>'\n",
              "          + ' to learn more about interactive tables.';\n",
              "        element.innerHTML = '';\n",
              "        dataTable['output_type'] = 'display_data';\n",
              "        await google.colab.output.renderOutput(dataTable, element);\n",
              "        const docLink = document.createElement('div');\n",
              "        docLink.innerHTML = docLinkHtml;\n",
              "        element.appendChild(docLink);\n",
              "      }\n",
              "    </script>\n",
              "  </div>\n",
              "\n",
              "\n",
              "<div id=\"df-6dabb5e9-012c-4917-890f-f4148533b4aa\">\n",
              "  <button class=\"colab-df-quickchart\" onclick=\"quickchart('df-6dabb5e9-012c-4917-890f-f4148533b4aa')\"\n",
              "            title=\"Suggest charts\"\n",
              "            style=\"display:none;\">\n",
              "\n",
              "<svg xmlns=\"http://www.w3.org/2000/svg\" height=\"24px\"viewBox=\"0 0 24 24\"\n",
              "     width=\"24px\">\n",
              "    <g>\n",
              "        <path d=\"M19 3H5c-1.1 0-2 .9-2 2v14c0 1.1.9 2 2 2h14c1.1 0 2-.9 2-2V5c0-1.1-.9-2-2-2zM9 17H7v-7h2v7zm4 0h-2V7h2v10zm4 0h-2v-4h2v4z\"/>\n",
              "    </g>\n",
              "</svg>\n",
              "  </button>\n",
              "\n",
              "<style>\n",
              "  .colab-df-quickchart {\n",
              "      --bg-color: #E8F0FE;\n",
              "      --fill-color: #1967D2;\n",
              "      --hover-bg-color: #E2EBFA;\n",
              "      --hover-fill-color: #174EA6;\n",
              "      --disabled-fill-color: #AAA;\n",
              "      --disabled-bg-color: #DDD;\n",
              "  }\n",
              "\n",
              "  [theme=dark] .colab-df-quickchart {\n",
              "      --bg-color: #3B4455;\n",
              "      --fill-color: #D2E3FC;\n",
              "      --hover-bg-color: #434B5C;\n",
              "      --hover-fill-color: #FFFFFF;\n",
              "      --disabled-bg-color: #3B4455;\n",
              "      --disabled-fill-color: #666;\n",
              "  }\n",
              "\n",
              "  .colab-df-quickchart {\n",
              "    background-color: var(--bg-color);\n",
              "    border: none;\n",
              "    border-radius: 50%;\n",
              "    cursor: pointer;\n",
              "    display: none;\n",
              "    fill: var(--fill-color);\n",
              "    height: 32px;\n",
              "    padding: 0;\n",
              "    width: 32px;\n",
              "  }\n",
              "\n",
              "  .colab-df-quickchart:hover {\n",
              "    background-color: var(--hover-bg-color);\n",
              "    box-shadow: 0 1px 2px rgba(60, 64, 67, 0.3), 0 1px 3px 1px rgba(60, 64, 67, 0.15);\n",
              "    fill: var(--button-hover-fill-color);\n",
              "  }\n",
              "\n",
              "  .colab-df-quickchart-complete:disabled,\n",
              "  .colab-df-quickchart-complete:disabled:hover {\n",
              "    background-color: var(--disabled-bg-color);\n",
              "    fill: var(--disabled-fill-color);\n",
              "    box-shadow: none;\n",
              "  }\n",
              "\n",
              "  .colab-df-spinner {\n",
              "    border: 2px solid var(--fill-color);\n",
              "    border-color: transparent;\n",
              "    border-bottom-color: var(--fill-color);\n",
              "    animation:\n",
              "      spin 1s steps(1) infinite;\n",
              "  }\n",
              "\n",
              "  @keyframes spin {\n",
              "    0% {\n",
              "      border-color: transparent;\n",
              "      border-bottom-color: var(--fill-color);\n",
              "      border-left-color: var(--fill-color);\n",
              "    }\n",
              "    20% {\n",
              "      border-color: transparent;\n",
              "      border-left-color: var(--fill-color);\n",
              "      border-top-color: var(--fill-color);\n",
              "    }\n",
              "    30% {\n",
              "      border-color: transparent;\n",
              "      border-left-color: var(--fill-color);\n",
              "      border-top-color: var(--fill-color);\n",
              "      border-right-color: var(--fill-color);\n",
              "    }\n",
              "    40% {\n",
              "      border-color: transparent;\n",
              "      border-right-color: var(--fill-color);\n",
              "      border-top-color: var(--fill-color);\n",
              "    }\n",
              "    60% {\n",
              "      border-color: transparent;\n",
              "      border-right-color: var(--fill-color);\n",
              "    }\n",
              "    80% {\n",
              "      border-color: transparent;\n",
              "      border-right-color: var(--fill-color);\n",
              "      border-bottom-color: var(--fill-color);\n",
              "    }\n",
              "    90% {\n",
              "      border-color: transparent;\n",
              "      border-bottom-color: var(--fill-color);\n",
              "    }\n",
              "  }\n",
              "</style>\n",
              "\n",
              "  <script>\n",
              "    async function quickchart(key) {\n",
              "      const quickchartButtonEl =\n",
              "        document.querySelector('#' + key + ' button');\n",
              "      quickchartButtonEl.disabled = true;  // To prevent multiple clicks.\n",
              "      quickchartButtonEl.classList.add('colab-df-spinner');\n",
              "      try {\n",
              "        const charts = await google.colab.kernel.invokeFunction(\n",
              "            'suggestCharts', [key], {});\n",
              "      } catch (error) {\n",
              "        console.error('Error during call to suggestCharts:', error);\n",
              "      }\n",
              "      quickchartButtonEl.classList.remove('colab-df-spinner');\n",
              "      quickchartButtonEl.classList.add('colab-df-quickchart-complete');\n",
              "    }\n",
              "    (() => {\n",
              "      let quickchartButtonEl =\n",
              "        document.querySelector('#df-6dabb5e9-012c-4917-890f-f4148533b4aa button');\n",
              "      quickchartButtonEl.style.display =\n",
              "        google.colab.kernel.accessAllowed ? 'block' : 'none';\n",
              "    })();\n",
              "  </script>\n",
              "</div>\n",
              "\n",
              "  <div id=\"id_a2877ee0-c272-4f23-af32-f8cfcb4157fe\">\n",
              "    <style>\n",
              "      .colab-df-generate {\n",
              "        background-color: #E8F0FE;\n",
              "        border: none;\n",
              "        border-radius: 50%;\n",
              "        cursor: pointer;\n",
              "        display: none;\n",
              "        fill: #1967D2;\n",
              "        height: 32px;\n",
              "        padding: 0 0 0 0;\n",
              "        width: 32px;\n",
              "      }\n",
              "\n",
              "      .colab-df-generate:hover {\n",
              "        background-color: #E2EBFA;\n",
              "        box-shadow: 0px 1px 2px rgba(60, 64, 67, 0.3), 0px 1px 3px 1px rgba(60, 64, 67, 0.15);\n",
              "        fill: #174EA6;\n",
              "      }\n",
              "\n",
              "      [theme=dark] .colab-df-generate {\n",
              "        background-color: #3B4455;\n",
              "        fill: #D2E3FC;\n",
              "      }\n",
              "\n",
              "      [theme=dark] .colab-df-generate:hover {\n",
              "        background-color: #434B5C;\n",
              "        box-shadow: 0px 1px 3px 1px rgba(0, 0, 0, 0.15);\n",
              "        filter: drop-shadow(0px 1px 2px rgba(0, 0, 0, 0.3));\n",
              "        fill: #FFFFFF;\n",
              "      }\n",
              "    </style>\n",
              "    <button class=\"colab-df-generate\" onclick=\"generateWithVariable('sample_test_out')\"\n",
              "            title=\"Generate code using this dataframe.\"\n",
              "            style=\"display:none;\">\n",
              "\n",
              "  <svg xmlns=\"http://www.w3.org/2000/svg\" height=\"24px\"viewBox=\"0 0 24 24\"\n",
              "       width=\"24px\">\n",
              "    <path d=\"M7,19H8.4L18.45,9,17,7.55,7,17.6ZM5,21V16.75L18.45,3.32a2,2,0,0,1,2.83,0l1.4,1.43a1.91,1.91,0,0,1,.58,1.4,1.91,1.91,0,0,1-.58,1.4L9.25,21ZM18.45,9,17,7.55Zm-12,3A5.31,5.31,0,0,0,4.9,8.1,5.31,5.31,0,0,0,1,6.5,5.31,5.31,0,0,0,4.9,4.9,5.31,5.31,0,0,0,6.5,1,5.31,5.31,0,0,0,8.1,4.9,5.31,5.31,0,0,0,12,6.5,5.46,5.46,0,0,0,6.5,12Z\"/>\n",
              "  </svg>\n",
              "    </button>\n",
              "    <script>\n",
              "      (() => {\n",
              "      const buttonEl =\n",
              "        document.querySelector('#id_a2877ee0-c272-4f23-af32-f8cfcb4157fe button.colab-df-generate');\n",
              "      buttonEl.style.display =\n",
              "        google.colab.kernel.accessAllowed ? 'block' : 'none';\n",
              "\n",
              "      buttonEl.onclick = () => {\n",
              "        google.colab.notebook.generateWithVariable('sample_test_out');\n",
              "      }\n",
              "      })();\n",
              "    </script>\n",
              "  </div>\n",
              "\n",
              "    </div>\n",
              "  </div>\n"
            ],
            "application/vnd.google.colaboratory.intrinsic+json": {
              "type": "dataframe",
              "variable_name": "sample_test_out",
              "summary": "{\n  \"name\": \"sample_test_out\",\n  \"rows\": 88,\n  \"fields\": [\n    {\n      \"column\": \"index\",\n      \"properties\": {\n        \"dtype\": \"number\",\n        \"std\": 25,\n        \"min\": 0,\n        \"max\": 87,\n        \"num_unique_values\": 88,\n        \"samples\": [\n          76,\n          0,\n          26\n        ],\n        \"semantic_type\": \"\",\n        \"description\": \"\"\n      }\n    },\n    {\n      \"column\": \"prediction\",\n      \"properties\": {\n        \"dtype\": \"string\",\n        \"num_unique_values\": 50,\n        \"samples\": [\n          \"9 metre\",\n          \"613.86 kilowatt\",\n          \"45 watt\"\n        ],\n        \"semantic_type\": \"\",\n        \"description\": \"\"\n      }\n    }\n  ]\n}"
            }
          },
          "metadata": {},
          "execution_count": 7
        }
      ]
    },
    {
      "cell_type": "markdown",
      "id": "60ebd689",
      "metadata": {
        "id": "60ebd689"
      },
      "source": [
        "### Run Sanity check using src/sanity.py"
      ]
    },
    {
      "cell_type": "code",
      "execution_count": null,
      "id": "81bb3988",
      "metadata": {
        "colab": {
          "base_uri": "https://localhost:8080/"
        },
        "id": "81bb3988",
        "outputId": "cbf935ba-4fae-40c2-aa6b-1510719da281"
      },
      "outputs": [
        {
          "output_type": "stream",
          "name": "stdout",
          "text": [
            "Parsing successfull for file: ./sample_test_out.csv\n"
          ]
        }
      ],
      "source": [
        "!python sanity.py --test_filename ./sample_test.csv --output_filename ./sample_test_out.csv"
      ]
    },
    {
      "cell_type": "code",
      "source": [],
      "metadata": {
        "id": "kr2THAkx0dYC"
      },
      "id": "kr2THAkx0dYC",
      "execution_count": null,
      "outputs": []
    },
    {
      "cell_type": "code",
      "execution_count": null,
      "id": "5aa79459",
      "metadata": {
        "colab": {
          "base_uri": "https://localhost:8080/"
        },
        "id": "5aa79459",
        "outputId": "7e36925a-366c-4d55-f3ff-5e9082d1a08c"
      },
      "outputs": [
        {
          "output_type": "stream",
          "name": "stdout",
          "text": [
            "Error: Invalid unit [lbs] found in 6.75 lbs. Allowed units: {'microlitre', 'cubic inch', 'kilovolt', 'millilitre', 'millivolt', 'cup', 'litre', 'quart', 'inch', 'kilowatt', 'gallon', 'centimetre', 'imperial gallon', 'gram', 'microgram', 'foot', 'metre', 'centilitre', 'millimetre', 'watt', 'fluid ounce', 'cubic foot', 'ounce', 'ton', 'milligram', 'yard', 'decilitre', 'pint', 'volt', 'kilogram', 'pound'}\n"
          ]
        }
      ],
      "source": [
        "!python sanity.py --test_filename ./sample_test.csv --output_filename ./sample_test_out_fail.csv\n"
      ]
    },
    {
      "cell_type": "code",
      "source": [
        "!cd ../"
      ],
      "metadata": {
        "id": "9tSAuZJj4iY1"
      },
      "id": "9tSAuZJj4iY1",
      "execution_count": null,
      "outputs": []
    },
    {
      "cell_type": "code",
      "source": [
        "!ls"
      ],
      "metadata": {
        "colab": {
          "base_uri": "https://localhost:8080/"
        },
        "id": "xJEqEL514tnR",
        "outputId": "654f48e7-b72b-46da-8ebf-06793775cbf3"
      },
      "id": "xJEqEL514tnR",
      "execution_count": null,
      "outputs": [
        {
          "output_type": "stream",
          "name": "stdout",
          "text": [
            "constants.py  sample_data      sample_test_out.csv\t sanity.py  test.ipynb\tutils.py\n",
            "__pycache__   sample_test.csv  sample_test_out_fail.csv  test.csv   train.csv\n"
          ]
        }
      ]
    },
    {
      "cell_type": "markdown",
      "id": "dbe930a8",
      "metadata": {
        "id": "dbe930a8"
      },
      "source": [
        "### Download images"
      ]
    },
    {
      "cell_type": "code",
      "execution_count": null,
      "id": "a3d1aad8",
      "metadata": {
        "colab": {
          "base_uri": "https://localhost:8080/"
        },
        "id": "a3d1aad8",
        "outputId": "66ec951d-3d4d-4b45-bc05-2c680b679f11"
      },
      "outputs": [
        {
          "output_type": "stream",
          "name": "stderr",
          "text": [
            "100%|██████████| 133/133 [00:00<00:00, 147.75it/s]\n"
          ]
        }
      ],
      "source": [
        "from utils import download_images\n",
        "download_images(sample_test['image_link'], '../images')"
      ]
    },
    {
      "cell_type": "code",
      "source": [],
      "metadata": {
        "id": "eAl7FXtT4dDg"
      },
      "id": "eAl7FXtT4dDg",
      "execution_count": null,
      "outputs": []
    },
    {
      "cell_type": "code",
      "execution_count": null,
      "id": "89aaba53",
      "metadata": {
        "id": "89aaba53"
      },
      "outputs": [],
      "source": [
        "assert len(os.listdir('../images')) > 0"
      ]
    },
    {
      "cell_type": "code",
      "execution_count": null,
      "id": "1ba3d802",
      "metadata": {
        "id": "1ba3d802"
      },
      "outputs": [],
      "source": [
        "rm -rf ../images"
      ]
    },
    {
      "cell_type": "code",
      "source": [
        "from utils import download_images\n",
        "\n",
        "def download_images_clean(image_urls, output_folder):\n",
        "    for url in image_urls:\n",
        "        try:\n",
        "            download_images([url], output_folder)\n",
        "        except Exception as e:\n",
        "            print(f\"Error downloading {url}: {str(e)}\")\n",
        "\n",
        "\n",
        "download_images_clean(sample_test['image_link'], '../images_clean')\n",
        "\n",
        "\n"
      ],
      "metadata": {
        "colab": {
          "base_uri": "https://localhost:8080/"
        },
        "id": "QL1If9RVS0sT",
        "outputId": "01d334c3-d53c-4c5d-f19f-e46c9b01d376"
      },
      "id": "QL1If9RVS0sT",
      "execution_count": null,
      "outputs": [
        {
          "output_type": "stream",
          "name": "stderr",
          "text": [
            "100%|██████████| 1/1 [00:00<00:00, 19.56it/s]\n",
            "100%|██████████| 1/1 [00:00<00:00, 74.43it/s]\n",
            "100%|██████████| 1/1 [00:00<00:00, 23.18it/s]\n",
            "100%|██████████| 1/1 [00:00<00:00, 27.41it/s]\n",
            "100%|██████████| 1/1 [00:00<00:00, 7653.84it/s]\n",
            "100%|██████████| 1/1 [00:00<00:00, 25.12it/s]\n",
            "100%|██████████| 1/1 [00:00<00:00, 24.90it/s]\n",
            "100%|██████████| 1/1 [00:00<00:00, 63.63it/s]\n",
            "100%|██████████| 1/1 [00:00<00:00, 18.97it/s]\n",
            "100%|██████████| 1/1 [00:00<00:00, 21.23it/s]\n",
            "100%|██████████| 1/1 [00:00<00:00, 23.79it/s]\n",
            "100%|██████████| 1/1 [00:00<00:00, 7463.17it/s]\n",
            "100%|██████████| 1/1 [00:00<00:00, 25.30it/s]\n",
            "100%|██████████| 1/1 [00:00<00:00, 8811.56it/s]\n",
            "100%|██████████| 1/1 [00:00<00:00, 27.21it/s]\n",
            "100%|██████████| 1/1 [00:00<00:00, 18.30it/s]\n",
            "100%|██████████| 1/1 [00:00<00:00, 73.29it/s]\n",
            "100%|██████████| 1/1 [00:00<00:00, 16.27it/s]\n",
            "100%|██████████| 1/1 [00:00<00:00, 67.81it/s]\n",
            "100%|██████████| 1/1 [00:00<00:00, 23.40it/s]\n",
            "100%|██████████| 1/1 [00:00<00:00, 8176.03it/s]\n",
            "100%|██████████| 1/1 [00:00<00:00, 4457.28it/s]\n",
            "100%|██████████| 1/1 [00:00<00:00, 24.37it/s]\n",
            "100%|██████████| 1/1 [00:00<00:00, 7570.95it/s]\n",
            "100%|██████████| 1/1 [00:00<00:00, 20.00it/s]\n",
            "100%|██████████| 1/1 [00:00<00:00, 5295.84it/s]\n",
            "100%|██████████| 1/1 [00:00<00:00, 19.84it/s]\n",
            "100%|██████████| 1/1 [00:00<00:00, 8097.11it/s]\n",
            "100%|██████████| 1/1 [00:00<00:00, 19.59it/s]\n",
            "100%|██████████| 1/1 [00:00<00:00, 7653.84it/s]\n",
            "100%|██████████| 1/1 [00:00<00:00, 9020.01it/s]\n",
            "100%|██████████| 1/1 [00:00<00:00, 22.04it/s]\n",
            "100%|██████████| 1/1 [00:00<00:00, 18.89it/s]\n",
            "100%|██████████| 1/1 [00:00<00:00, 7973.96it/s]\n",
            "100%|██████████| 1/1 [00:00<00:00, 16.34it/s]\n",
            "100%|██████████| 1/1 [00:00<00:00, 23.95it/s]\n",
            "100%|██████████| 1/1 [00:00<00:00, 17.38it/s]\n",
            "100%|██████████| 1/1 [00:00<00:00, 16.01it/s]\n",
            "100%|██████████| 1/1 [00:00<00:00, 19.76it/s]\n",
            "100%|██████████| 1/1 [00:00<00:00, 18.86it/s]\n",
            "100%|██████████| 1/1 [00:00<00:00, 8065.97it/s]\n",
            "100%|██████████| 1/1 [00:00<00:00, 7410.43it/s]\n",
            "100%|██████████| 1/1 [00:00<00:00, 26.05it/s]\n",
            "100%|██████████| 1/1 [00:00<00:00, 18.36it/s]\n",
            "100%|██████████| 1/1 [00:00<00:00, 8905.10it/s]\n",
            "100%|██████████| 1/1 [00:00<00:00, 20.03it/s]\n",
            "100%|██████████| 1/1 [00:00<00:00, 23.89it/s]\n",
            "100%|██████████| 1/1 [00:00<00:00, 8176.03it/s]\n",
            "100%|██████████| 1/1 [00:00<00:00, 19.75it/s]\n",
            "100%|██████████| 1/1 [00:00<00:00, 9258.95it/s]\n",
            "100%|██████████| 1/1 [00:00<00:00, 9754.20it/s]\n",
            "100%|██████████| 1/1 [00:00<00:00, 22.36it/s]\n",
            "100%|██████████| 1/1 [00:00<00:00, 16.83it/s]\n",
            "100%|██████████| 1/1 [00:00<00:00, 20.88it/s]\n",
            "100%|██████████| 1/1 [00:00<00:00, 10131.17it/s]\n",
            "100%|██████████| 1/1 [00:00<00:00, 7423.55it/s]\n",
            "100%|██████████| 1/1 [00:00<00:00, 21.26it/s]\n",
            "100%|██████████| 1/1 [00:00<00:00, 2861.05it/s]\n",
            "100%|██████████| 1/1 [00:00<00:00, 18.85it/s]\n",
            "100%|██████████| 1/1 [00:00<00:00, 15.62it/s]\n",
            "100%|██████████| 1/1 [00:00<00:00, 8192.00it/s]\n",
            "100%|██████████| 1/1 [00:00<00:00, 17.99it/s]\n",
            "100%|██████████| 1/1 [00:00<00:00, 19.88it/s]\n",
            "100%|██████████| 1/1 [00:00<00:00, 17.02it/s]\n",
            "100%|██████████| 1/1 [00:00<00:00, 6721.64it/s]\n",
            "100%|██████████| 1/1 [00:00<00:00, 17.02it/s]\n",
            "100%|██████████| 1/1 [00:00<00:00, 19.43it/s]\n",
            "100%|██████████| 1/1 [00:00<00:00, 15.21it/s]\n",
            "100%|██████████| 1/1 [00:00<00:00, 8256.50it/s]\n",
            "100%|██████████| 1/1 [00:00<00:00, 13.23it/s]\n",
            "100%|██████████| 1/1 [00:00<00:00, 116.70it/s]\n",
            "100%|██████████| 1/1 [00:00<00:00, 16.46it/s]\n",
            "100%|██████████| 1/1 [00:00<00:00, 7989.15it/s]\n",
            "100%|██████████| 1/1 [00:00<00:00, 13.47it/s]\n",
            "100%|██████████| 1/1 [00:00<00:00, 5489.93it/s]\n",
            "100%|██████████| 1/1 [00:00<00:00, 13.69it/s]\n",
            "100%|██████████| 1/1 [00:00<00:00, 2181.13it/s]\n",
            "100%|██████████| 1/1 [00:00<00:00, 18.14it/s]\n",
            "100%|██████████| 1/1 [00:00<00:00, 13.88it/s]\n",
            "100%|██████████| 1/1 [00:00<00:00, 18.10it/s]\n",
            "100%|██████████| 1/1 [00:00<00:00, 8192.00it/s]\n",
            "100%|██████████| 1/1 [00:00<00:00, 19.23it/s]\n",
            "100%|██████████| 1/1 [00:00<00:00, 8867.45it/s]\n",
            "100%|██████████| 1/1 [00:00<00:00, 11.72it/s]\n",
            "100%|██████████| 1/1 [00:00<00:00, 13.87it/s]\n",
            "100%|██████████| 1/1 [00:00<00:00, 15.23it/s]\n",
            "100%|██████████| 1/1 [00:00<00:00, 18.15it/s]\n",
            "100%|██████████| 1/1 [00:00<00:00, 87.01it/s]\n",
            "100%|██████████| 1/1 [00:00<00:00, 18.06it/s]\n",
            "100%|██████████| 1/1 [00:00<00:00, 14.05it/s]\n",
            "100%|██████████| 1/1 [00:00<00:00, 16.66it/s]\n",
            "100%|██████████| 1/1 [00:00<00:00, 15.20it/s]\n",
            "100%|██████████| 1/1 [00:00<00:00, 15.25it/s]\n",
            "100%|██████████| 1/1 [00:00<00:00, 13.55it/s]\n",
            "100%|██████████| 1/1 [00:00<00:00, 17.11it/s]\n",
            "100%|██████████| 1/1 [00:00<00:00, 14.94it/s]\n",
            "100%|██████████| 1/1 [00:00<00:00, 25.08it/s]\n",
            "100%|██████████| 1/1 [00:00<00:00, 20.11it/s]\n",
            "100%|██████████| 1/1 [00:00<00:00, 17.74it/s]\n",
            "100%|██████████| 1/1 [00:00<00:00, 15.81it/s]\n",
            "100%|██████████| 1/1 [00:00<00:00, 18.01it/s]\n",
            "100%|██████████| 1/1 [00:00<00:00, 13.78it/s]\n",
            "100%|██████████| 1/1 [00:00<00:00, 16.51it/s]\n",
            "100%|██████████| 1/1 [00:00<00:00, 11.48it/s]\n",
            "100%|██████████| 1/1 [00:00<00:00, 13.82it/s]\n",
            "100%|██████████| 1/1 [00:00<00:00, 12.15it/s]\n",
            "100%|██████████| 1/1 [00:00<00:00, 15.47it/s]\n",
            "100%|██████████| 1/1 [00:00<00:00, 13.84it/s]\n",
            "100%|██████████| 1/1 [00:00<00:00, 11.78it/s]\n",
            "100%|██████████| 1/1 [00:00<00:00, 21.22it/s]\n",
            "100%|██████████| 1/1 [00:00<00:00, 16.49it/s]\n",
            "100%|██████████| 1/1 [00:00<00:00, 19.35it/s]\n",
            "100%|██████████| 1/1 [00:00<00:00, 13.57it/s]\n",
            "100%|██████████| 1/1 [00:00<00:00, 10.84it/s]\n",
            "100%|██████████| 1/1 [00:00<00:00, 16.18it/s]\n",
            "100%|██████████| 1/1 [00:00<00:00, 14.31it/s]\n",
            "100%|██████████| 1/1 [00:00<00:00, 17.13it/s]\n",
            "100%|██████████| 1/1 [00:00<00:00, 17.07it/s]\n",
            "100%|██████████| 1/1 [00:00<00:00, 20.35it/s]\n",
            "100%|██████████| 1/1 [00:00<00:00, 17.97it/s]\n",
            "100%|██████████| 1/1 [00:00<00:00, 20.36it/s]\n",
            "100%|██████████| 1/1 [00:00<00:00, 15.40it/s]\n",
            "100%|██████████| 1/1 [00:00<00:00, 11.45it/s]\n",
            "100%|██████████| 1/1 [00:00<00:00, 11.95it/s]\n",
            "100%|██████████| 1/1 [00:00<00:00, 16.60it/s]\n",
            "100%|██████████| 1/1 [00:00<00:00, 10.58it/s]\n",
            "100%|██████████| 1/1 [00:00<00:00, 16.96it/s]\n",
            "100%|██████████| 1/1 [00:00<00:00, 19.46it/s]\n",
            "100%|██████████| 1/1 [00:00<00:00, 19.34it/s]\n",
            "100%|██████████| 1/1 [00:00<00:00, 17.77it/s]\n",
            "100%|██████████| 1/1 [00:00<00:00, 18.68it/s]\n",
            "100%|██████████| 1/1 [00:00<00:00, 15.15it/s]\n",
            "100%|██████████| 1/1 [00:00<00:00, 15.96it/s]\n"
          ]
        }
      ]
    },
    {
      "cell_type": "code",
      "execution_count": null,
      "id": "6c38a641",
      "metadata": {
        "id": "6c38a641",
        "colab": {
          "base_uri": "https://localhost:8080/"
        },
        "outputId": "de66f0be-6039-4d21-90f0-7aba7d82b345"
      },
      "outputs": [
        {
          "output_type": "stream",
          "name": "stdout",
          "text": [
            "Reading package lists... Done\n",
            "Building dependency tree... Done\n",
            "Reading state information... Done\n",
            "The following additional packages will be installed:\n",
            "  tesseract-ocr-eng tesseract-ocr-osd\n",
            "The following NEW packages will be installed:\n",
            "  tesseract-ocr tesseract-ocr-eng tesseract-ocr-osd\n",
            "0 upgraded, 3 newly installed, 0 to remove and 49 not upgraded.\n",
            "Need to get 4,816 kB of archives.\n",
            "After this operation, 15.6 MB of additional disk space will be used.\n",
            "Get:1 http://archive.ubuntu.com/ubuntu jammy/universe amd64 tesseract-ocr-eng all 1:4.00~git30-7274cfa-1.1 [1,591 kB]\n",
            "Get:2 http://archive.ubuntu.com/ubuntu jammy/universe amd64 tesseract-ocr-osd all 1:4.00~git30-7274cfa-1.1 [2,990 kB]\n",
            "Get:3 http://archive.ubuntu.com/ubuntu jammy/universe amd64 tesseract-ocr amd64 4.1.1-2.1build1 [236 kB]\n",
            "Fetched 4,816 kB in 0s (15.0 MB/s)\n",
            "Selecting previously unselected package tesseract-ocr-eng.\n",
            "(Reading database ... 123597 files and directories currently installed.)\n",
            "Preparing to unpack .../tesseract-ocr-eng_1%3a4.00~git30-7274cfa-1.1_all.deb ...\n",
            "Unpacking tesseract-ocr-eng (1:4.00~git30-7274cfa-1.1) ...\n",
            "Selecting previously unselected package tesseract-ocr-osd.\n",
            "Preparing to unpack .../tesseract-ocr-osd_1%3a4.00~git30-7274cfa-1.1_all.deb ...\n",
            "Unpacking tesseract-ocr-osd (1:4.00~git30-7274cfa-1.1) ...\n",
            "Selecting previously unselected package tesseract-ocr.\n",
            "Preparing to unpack .../tesseract-ocr_4.1.1-2.1build1_amd64.deb ...\n",
            "Unpacking tesseract-ocr (4.1.1-2.1build1) ...\n",
            "Setting up tesseract-ocr-eng (1:4.00~git30-7274cfa-1.1) ...\n",
            "Setting up tesseract-ocr-osd (1:4.00~git30-7274cfa-1.1) ...\n",
            "Setting up tesseract-ocr (4.1.1-2.1build1) ...\n",
            "Processing triggers for man-db (2.10.2-1) ...\n",
            "Collecting pytesseract\n",
            "  Downloading pytesseract-0.3.13-py3-none-any.whl.metadata (11 kB)\n",
            "Requirement already satisfied: packaging>=21.3 in /usr/local/lib/python3.10/dist-packages (from pytesseract) (24.1)\n",
            "Requirement already satisfied: Pillow>=8.0.0 in /usr/local/lib/python3.10/dist-packages (from pytesseract) (9.4.0)\n",
            "Downloading pytesseract-0.3.13-py3-none-any.whl (14 kB)\n",
            "Installing collected packages: pytesseract\n",
            "Successfully installed pytesseract-0.3.13\n"
          ]
        }
      ],
      "source": [
        "!apt install tesseract-ocr\n",
        "!pip install pytesseract\n"
      ]
    },
    {
      "cell_type": "code",
      "source": [
        "from PIL import Image\n",
        "import pytesseract\n",
        "# from google.cloud import vision\n"
      ],
      "metadata": {
        "id": "C0eAQMr3WcZk"
      },
      "id": "C0eAQMr3WcZk",
      "execution_count": null,
      "outputs": []
    },
    {
      "cell_type": "code",
      "source": [
        "pytesseract.pytesseract.tesseract_cmd = '/usr/bin/tesseract'\n"
      ],
      "metadata": {
        "id": "s6tX7QrNXFKU"
      },
      "id": "s6tX7QrNXFKU",
      "execution_count": null,
      "outputs": []
    },
    {
      "cell_type": "code",
      "source": [
        "client = vision.ImageAnnotatorClient()\n"
      ],
      "metadata": {
        "id": "KKR0Skp4XRCp",
        "outputId": "03234a70-2ad7-42a1-dc35-af4ed38102f9",
        "colab": {
          "base_uri": "https://localhost:8080/",
          "height": 141
        }
      },
      "id": "KKR0Skp4XRCp",
      "execution_count": null,
      "outputs": [
        {
          "output_type": "error",
          "ename": "NameError",
          "evalue": "name 'vision' is not defined",
          "traceback": [
            "\u001b[0;31m---------------------------------------------------------------------------\u001b[0m",
            "\u001b[0;31mNameError\u001b[0m                                 Traceback (most recent call last)",
            "\u001b[0;32m<ipython-input-20-cd1d04c9069e>\u001b[0m in \u001b[0;36m<cell line: 1>\u001b[0;34m()\u001b[0m\n\u001b[0;32m----> 1\u001b[0;31m \u001b[0mclient\u001b[0m \u001b[0;34m=\u001b[0m \u001b[0mvision\u001b[0m\u001b[0;34m.\u001b[0m\u001b[0mImageAnnotatorClient\u001b[0m\u001b[0;34m(\u001b[0m\u001b[0;34m)\u001b[0m\u001b[0;34m\u001b[0m\u001b[0;34m\u001b[0m\u001b[0m\n\u001b[0m",
            "\u001b[0;31mNameError\u001b[0m: name 'vision' is not defined"
          ]
        }
      ]
    },
    {
      "cell_type": "code",
      "source": [
        "\n",
        "def extract_text_tesseract(image_path):\n",
        "\n",
        "    image = Image.open(image_path)\n",
        "\n",
        "    text = pytesseract.image_to_string(image,lang =\"eng\" , config='--psm 6')\n",
        "    # data = pytesseract.image_to_data(image, output_type='dict')\n",
        "    return text\n"
      ],
      "metadata": {
        "id": "wtXMjkxEXaga"
      },
      "id": "wtXMjkxEXaga",
      "execution_count": null,
      "outputs": []
    },
    {
      "cell_type": "code",
      "source": [
        "!ls ../"
      ],
      "metadata": {
        "colab": {
          "base_uri": "https://localhost:8080/"
        },
        "id": "AZF2BiIG0AI4",
        "outputId": "a3aa2241-d5f1-4d8a-8d0b-564c43d931a8"
      },
      "id": "AZF2BiIG0AI4",
      "execution_count": null,
      "outputs": [
        {
          "output_type": "stream",
          "name": "stdout",
          "text": [
            "bin\t\t\t    dev\t\t  lib32   NGC-DL-CONTAINER-LICENSE  run   tools\n",
            "boot\t\t\t    etc\t\t  lib64   opt\t\t\t    sbin  usr\n",
            "content\t\t\t    home\t  libx32  proc\t\t\t    srv   var\n",
            "cuda-keyring_1.0-1_all.deb  images_clean  media   python-apt\t\t    sys\n",
            "datalab\t\t\t    lib\t\t  mnt\t  root\t\t\t    tmp\n"
          ]
        }
      ]
    },
    {
      "cell_type": "code",
      "source": [
        "entity_unit_map = {\n",
        "    'width': {'centimetre', 'foot', 'inch', 'metre', 'millimetre', 'yard'},\n",
        "    'depth': {'centimetre', 'foot', 'inch', 'metre', 'millimetre', 'yard'},\n",
        "    'height': {'centimetre', 'foot', 'inch', 'metre', 'millimetre', 'yard'},\n",
        "    'item_weight': {'gram',\n",
        "        'kilogram',\n",
        "        'microgram',\n",
        "        'milligram',\n",
        "        'ounce',\n",
        "        'pound',\n",
        "        'ton'},\n",
        "    'maximum_weight_recommendation': {'gram',\n",
        "        'kilogram',\n",
        "        'microgram',\n",
        "        'milligram',\n",
        "        'ounce',\n",
        "        'pound',\n",
        "        'ton'},\n",
        "    'voltage': {'kilovolt', 'millivolt', 'volt'},\n",
        "    'wattage': {'kilowatt', 'watt'},\n",
        "    'item_volume': {'centilitre',\n",
        "        'cubic foot',\n",
        "        'cubic inch',\n",
        "        'cup',\n",
        "        'decilitre',\n",
        "        'fluid ounce',\n",
        "        'gallon',\n",
        "        'imperial gallon',\n",
        "        'litre',\n",
        "        'microlitre',\n",
        "        'millilitre',\n",
        "        'pint',\n",
        "        'quart'}\n",
        "}\n",
        "\n",
        "allowed_units = {unit for entity in entity_unit_map for unit in entity_unit_map[entity]}\n",
        "print(allowed_units)"
      ],
      "metadata": {
        "colab": {
          "base_uri": "https://localhost:8080/"
        },
        "id": "KZmgQ0kZ2f5r",
        "outputId": "5c10ebf1-e78c-4267-f866-6af9c3481003"
      },
      "id": "KZmgQ0kZ2f5r",
      "execution_count": null,
      "outputs": [
        {
          "output_type": "stream",
          "name": "stdout",
          "text": [
            "{'millimetre', 'pound', 'gallon', 'yard', 'kilogram', 'millilitre', 'microgram', 'gram', 'metre', 'volt', 'imperial gallon', 'kilovolt', 'ounce', 'milligram', 'microlitre', 'kilowatt', 'cup', 'quart', 'foot', 'cubic foot', 'decilitre', 'fluid ounce', 'cubic inch', 'pint', 'inch', 'watt', 'litre', 'millivolt', 'centimetre', 'centilitre', 'ton'}\n"
          ]
        }
      ]
    },
    {
      "cell_type": "code",
      "source": [
        "# prompt:  create a python fucntion to get the current and the word before the word to tokenize based on this regular expression regex = r\"[\\d.]+\\s*(cm|CM|centimeter|m|meter|M|foot|ft|mm|MM|millimeter|inch)\n",
        "\n",
        "import re\n",
        "\n",
        "def get_current_and_previous_word(text, regex):\n",
        "  \"\"\"\n",
        "  Extracts the current and the word before the word to tokenize based on the given regex.\n",
        "\n",
        "  Args:\n",
        "    text: The input text.\n",
        "    regex: The regular expression to use for matching.\n",
        "\n",
        "  Returns:\n",
        "    A tuple containing the current word and the previous word.\n",
        "  \"\"\"\n",
        "  matches = re.finditer(regex, text)\n",
        "  for match in matches:\n",
        "    current_word = match.group(0)\n",
        "    start_index = match.start()\n",
        "    if start_index > 0:\n",
        "      previous_word = text[start_index - 1:start_index].strip()\n",
        "    else:\n",
        "      previous_word = ''\n",
        "    return current_word, previous_word\n",
        "  return None, None\n"
      ],
      "metadata": {
        "id": "QSWRzBzt3alA"
      },
      "id": "QSWRzBzt3alA",
      "execution_count": null,
      "outputs": []
    },
    {
      "cell_type": "code",
      "source": [
        "# prompt: make this regex ecpression case insensitive  r\"[\\d.]+\\s*(cm|CM|centimeter|m|meter|M|foot|ft|mm|MM|millimeter|inch|C.M)\" and  also make it filter work that strictle ends with these keywords\n",
        "\n",
        "r\"[\\d.]+\\s*(cm|centimeter|m|meter|foot|ft|mm|millimeter|inch)\\b\"\n"
      ],
      "metadata": {
        "id": "EiJVA9kNKCtV",
        "colab": {
          "base_uri": "https://localhost:8080/",
          "height": 36
        },
        "outputId": "860232ed-5e8e-474c-e35a-c89ffd7b9de3"
      },
      "id": "EiJVA9kNKCtV",
      "execution_count": null,
      "outputs": [
        {
          "output_type": "execute_result",
          "data": {
            "text/plain": [
              "'[\\\\d.]+\\\\s*(cm|centimeter|m|meter|foot|ft|mm|millimeter|inch)\\\\b'"
            ],
            "application/vnd.google.colaboratory.intrinsic+json": {
              "type": "string"
            }
          },
          "metadata": {},
          "execution_count": 35
        }
      ]
    },
    {
      "cell_type": "code",
      "source": [
        "# prompt: r\"[\\d.]+\\s*(cm|centimeter|m|meter|foot|ft|mm|millimeter|inch”)\\b\" modify this to detect all detect wod irrespective of case\n",
        "\n",
        "r\"[\\d.]+\\s*(cm|centimeter|m|meter|foot|ft|mm|millimeter|inch)\\b\"\n"
      ],
      "metadata": {
        "id": "b0GLyS9aJQKD",
        "colab": {
          "base_uri": "https://localhost:8080/",
          "height": 36
        },
        "outputId": "92d69309-0ebf-49c5-c321-c2563100ead3"
      },
      "id": "b0GLyS9aJQKD",
      "execution_count": null,
      "outputs": [
        {
          "output_type": "execute_result",
          "data": {
            "text/plain": [
              "'[\\\\d.]+\\\\s*(cm|centimeter|m|meter|foot|ft|mm|millimeter|inch)\\\\b'"
            ],
            "application/vnd.google.colaboratory.intrinsic+json": {
              "type": "string"
            }
          },
          "metadata": {},
          "execution_count": 36
        }
      ]
    },
    {
      "cell_type": "code",
      "source": [
        "import re\n",
        "\n",
        "for image_name in os.listdir('../images_clean'):\n",
        "    image_path = os.path.join('../images_clean', image_name)\n",
        "    text = extract_text_tesseract(image_path)\n",
        "    text = re.sub(r\"[^a-zA-Z0-9\\s\\-\\.]\", \"\", text)\n",
        "    text = re.sub(r\"\\s+\", \" \", text)\n",
        "    print(text)\n",
        "    regex = r\"[\\d.]+\\s*(cm|centimeter|m|meter|foot|ft|mm|millimeter|inch)\\b\"\n",
        "    matches = re.finditer(regex, text)\n",
        "    word = []\n",
        "    for match in matches:\n",
        "        current_word = match.group(0)\n",
        "        start_index = match.start()\n",
        "        previous_word = \"\"\n",
        "        if start_index > 0:\n",
        "            previous_word = text[start_index - 1:start_index].strip()\n",
        "        word.append(current_word)\n",
        "        if previous_word != \" \" and previous_word != '':\n",
        "            word.append(previous_word)\n",
        "    if len(word) > 0:\n",
        "        print(f\"Image: {image_name}, Word: {word}\")\n",
        "\n",
        "\n",
        "\n",
        "    # boxes = len(data['level'])\n",
        "    # for i in range(boxes ):\n",
        "    #   print(data['text'])\n",
        "\n",
        "      # (x, y, w, h) = (data['left'][i], data['top'][i], data['width'][i], data['height'][i])\n",
        "      # word = data['text'][i]\n",
        "      # if(word != '' and word.find(\"dimenstion\")==-1):\n",
        "      #   if (word.find(\"cm\") or word.find(\"CM\") or word.find(\"centimeter\") or word.find(\"meter\")  or word.find(\"foot\") or word.find(\"ft\") ):\n",
        "      #     print(f\"word :- {word} measurment :- w={w} h={h}\")\n",
        "\n",
        "\n",
        "    # print(data)\n",
        "    # regex = r\"[\\d.]+\\s*(cm|CM|centimeter|m|meter|M|foot|ft|mm|MM|millimeter|inch|C.M)\"\n",
        "    # # tokens = re.findall(regex, text)\n",
        "    # matches = re.finditer(regex, text)\n",
        "    # word =[]\n",
        "    # for match in matches:\n",
        "    #    current_word = match.group(0)\n",
        "    #    start_index = match.start()\n",
        "    #    if start_index > 0:\n",
        "    #      previous_word = text[start_index - 1:start_index].strip()\n",
        "    #    word.append(current_word)\n",
        "    #    if(previous_word != \" \" and previous_word !=''):\n",
        "    #     word.append(previous_word)\n",
        "    # if len(word) > 0 :\n",
        "    #   print(f\"Image: {image_name}, Text: {text} , Token : {matches} , Word : {word} \")\n",
        "\n"
      ],
      "metadata": {
        "colab": {
          "base_uri": "https://localhost:8080/"
        },
        "id": "mx-7dwBuX7DW",
        "outputId": "93d25269-4819-485e-fca0-d635820a5608"
      },
      "id": "mx-7dwBuX7DW",
      "execution_count": null,
      "outputs": [
        {
          "output_type": "stream",
          "name": "stdout",
          "text": [
            "WF. PyWen AA BBE Vive Ren won 0 HIN Oat i i \n",
            "20CM oo \n",
            "80 PLUS 8 0 CERTIFICATE PLUS ee LONG CONNECTOR O8ees CABLES MSC eS SNS 5. - See ee ae R ea oases cc ey an Y 500 WATTS \n",
            "1. cm 113.8cm 0 IKIS a of ay DelosseSorice ee \n",
            "Image: 51Su6zXkAsL.jpg, Word: ['1. cm', '113.8cm']\n",
            "eS cra Concha Be ea ere fuse effectively prevent electrical overioad universal for Lottie - t33 i oe . L Le tal bot ff m i a Ne e - Sa Pee 4 J ae SS a 4 ee N itl - eT iG \n",
            "aa \n",
            "Ll Kez in Pear E EO Peele u Ill ty 4A CURRENT MORE STABLE FOR CHARGING IT TAKES ABOUT 90 MINUTES TO FULLY CHARGE THREE BAT- TERIES AT ONCE OUTPUT DC 17.6V 12A EACH CHANNEL 17.6V 4A \n",
            " wae Worn AC cable 85-265v 100w Heatsink and chip 12V 1A Power 12V-1A Power Power adapter supply adapter i or a nes 2a ye a i PO Se . ASX ee AO pO LED drive WY ES ZB WY s Assembly Display tien \n",
            "1st press power on 2nd press led light off peace and quiet operating as quietly as 30dB 3rd press shut off wai wed Gow J 3 Detail Display ee yy 5 - Large air Inlet design 120ml big capacity High effiction sterilization ABS material BPA free material filter design \n",
            " ...110.. - \n",
            "aoe aN SMALL BUT MIGHTY. PM ESI EO oie a Ne 1-6 aCe aca ey J r tes ee Co ee SO ee Ce ee \n",
            "THE PRODUCT IS MADE OF PE MATERIAL STRONG FLEXIBILITY LONG USE TIME 1030MM se y AFTER PUTTING IN THE PROTECTIVE OBJECT IT ALSO PLAYS THE ROLE OF SHOCK ABSORPTION BS AVOID SLIDING \n",
            " Ruedamann Applicable to multiple equipment Wheelchairs Cars Scooters Cleaning robot Ole Leen ee Oe Baw 1-2 ah af fe me 8 ft foy LZ . CE a By a. Le ee tes ye i a 2a. \n",
            "Image: 81IYdOV0mVL.jpg, Word: ['8 ft']\n",
            "ENERGY INFORMATION at High Speed Airflow Electricity Use Airflow Efficiency 4400 45 98 Cubic Feet Watts Cubic Feet Per Per Minute excludes lights Minute Per Watt Compare 36 to 48 ceiling fans have airflow efficiencies ranging from approximately 71 to 86 cubic feet per minute per watt at high speed \n",
            "gee Seal al 1K ia i 4 i Pri ti Ve eey a aaa Oe a i i ie f iC a ae x C8 i f oJ a i a i ey VEN mY 4 x A i 0 4.311cm \n",
            "Image: 615Cjzm6pyL.jpg, Word: ['4.311cm']\n",
            "T-0007 SPECIFICATIONS Heavy-duty metal construction Designed for a wide range of photo enthusiasts Single-action large handle for fast and precise positioning Exceptionally smooth rotation and positive locking handle lncorporates 14 tripod screw Weight 11lbs. Color Black Tm EE a \n",
            "Max 60W Power Delivery Fast charging your USB-C laptop Mf ae as 20V3A \n",
            " SOCM Rey D E A Perfect Size \n",
            " \n",
            "1 t a ret Cs fal ie eee Wi . EE ak eC ei ae at eat tL 2g a aa Su De 3 oak ak ie fe 5 aa Sek es oe 8 oak tk be Sao SIG 2085 ae ee I ca oO ee a a i . aS 2 ao. ie BERBER GERBER REEREEE 16GB 2 x 8GB DDR4 3200MHz PC4-25600 OCR OID ATTENTION Le ME25600-818 LIFETIME WARRANTY Cia ttt 4 Cet 5 i acd IG 30 b ae a a et a Ci at wr 38 oR te Oe a aT 3 Ce Cees aa at 1 8 38 a a1 ee a a oa ae ea te ray oy ry y e EEL ET CERNE ERT AEST ERM RE MR PIEU RE CEASE HRTEM 8 \n",
            "re Vy Aer nae pet Se gk OE ee ay. Sey NP 350 LBS wae Lue oy mane eae 9G ey a 2 eee ties Mg oe e ce ee Ra ee SO 2 a F a a oe vee as So eh i y AS e al a a z 6 ee ye ay r eS i Oa ESS pe a. 50 a if - Owe pa Zi ee rn - fi . fs eae eee \n",
            "Size Comparison Height 16cm i I 8.5cm 7.5cm \n",
            "Image: 51cPZYLk2YL.jpg, Word: ['16cm', '8.5cm', '7.5cm']\n",
            "7 . SS Ree ae j ky \n",
            "e Ss as 3 X yy sem \n",
            "ah 1 i 30 cm 15cm \n",
            "Image: 51FSlaVlejL.jpg, Word: ['30 cm', '15cm']\n",
            "VJ EVEEV EE EAE Pk Witriky L. Ww i i ot - aC x a 4 eo es N ij ene Ee aN a SS See af SS we ee Jae Ve eee q - oe Sim aa Ss XN 2 r N \n",
            "Our Faux-Leather Textured Velvet fabrics are durable as they are soft Cushion covers are removable and machine washable Easy to spot clean all other surfaces e LE oy 4 2 3 aati eustian for e is ee comfort and support eae oe Toggle and loop secures a cushion from sliding - FOR LARGE Wh. DOGS UP TO Tosa Hea 15 os Maxwell Sofa \n",
            "Desktop Size 40 - 24 - Vv 3 7 3 x N o 4 \n",
            "4 fr ge lll eames mae ha \n",
            "a GROWS WITH Sere YOUR CHILD ex F a a vy 4 aenapmwes FF YX Or au Lay a n \n",
            "In the Box 2 Handle x 1 1 he rl 68.3mm Specifications ID 4153 Compatibility Cage plate etc. mount for ARRI-style Product Dimensions 134.0 x 68.3 x 27.8mm Package Dimensions 155.0 x 81.5 x 42.0mm Product Weight 156.0 5g Package Weight 192.2 5g Materials Aluminum Alloy \n",
            "Image: 61G8bvWOb-L.jpg, Word: ['68.3mm', '27.8mm', '42.0mm']\n",
            "44 6.75 LBS \n",
            "x a a ew ay re oD . Sarma . X dW gi ey re DN tall s yan p oe E oiy aed e aN E a rer ee Cale a i oo W AS ae 7 \n",
            "JY ae 5 r Le te C a. oN 12inches os as 30.5cm F ae a anche 6inches 9.5inches24.1cm 10.7cm \n",
            "Image: 51bEy0J5wLL.jpg, Word: ['30.5cm', '24.1cm', 's', '10.7cm']\n",
            " 2 - i carey a lee fs rs vs i on ae Me Chin Re ai \n",
            "DD Pe 4 O. Dw U oS V . ew D eC 6.2 in 16cm L 5 a W z ot 9.4 in 24cm \n",
            "Image: 51-WIOx5pxL.jpg, Word: ['16cm', '24cm']\n",
            "indenter 2tsem Raed Voge aw Fegueesy sou Rated oput Powe 210 Nod Spect nope eee ne See Max Curing opaiy oo HeoxWisn ax Corin Cpa Hes Witan \n",
            "oC OSRAM Pree th yt 470m Eo awa La Tea \n",
            "Image: 41nblnEkJ3L.jpg, Word: ['470m']\n",
            " a 3 E26 Medium Base - e NAN nv i oO i UU i i Hi r iy 6 hii i ff Ha HAE fi 7 LF 2 4.2 Inches \n",
            "y ho K me a4 . AS - a Lies r ae a i a aa \n",
            "Ideal Bed Armchair Cover Neat size foldaway seven bis one ie side grey on the other Sturdy lightweight a 26151249 \n",
            "i if 3 Ss cellar i rr. Lg yy - Color Stainless steel Product dimensions 11.714.414.8 in Ice Store Capacity 2.2 lbs Capacity of making ice 33 lbsday Power Rate 110W Water tank capacity 3.2L \n",
            "Product Information Specifications Material Premium Beech Wood Size 5013.511c0m 19.713.54.1inch Rod Diameter 3.8cm 1.5inch Weight 2.1KG 4.6lbs Load Bearing 300KG 660lbs Large Size 16. 9in43em cana t 9 19.7550 AMAA 5.3in13.5em \n",
            "Image: 71v+pim0lfL.jpg, Word: ['0m', 'c', '19.713.54.1inch', '3.8cm', '1.5inch']\n",
            "j Ci rca -4 i Y y ze yy Near itey a j ey A a f 6 Oem a. iF uieet-u OTT her lasles ols MUMS Tan Ke li 4 16 5 increased by 90 with the game sound Gx a oe a7 AL y os ae 9 7 PS OES ee Sg se 4. ie ae RNS y 2 3 48 A Extra long endurance Extra long standby SIDEIGHEMADTs used with charging cabin used with charging cabin \n",
            " \n",
            "PVICCO \n",
            " \n",
            "Model Name Commercial Ice Maker Machine Ree e Sapacity 0.6 Cubic Feet os e Wattage . 280.0 Watts ce SS Voltage 120.0 Volts of Alternating Current \n",
            "2 SJ J Deodorizing module Cat litter shovel Adsorb harmful substances and reduce odor Regardless of soil sand wood sand crystal sand Alter unused cat litter ya nh Se my ZY \n",
            " a a fa Fr 3 fl a Ff - f -xtra 10 IF 1 ona Co ra 2 GF SRE Dp i Swe BD a i sfx l Gal Ree I ee a l ws wd VJ VU yw 4 \n",
            "os er pore 2 55.6mm \n",
            "Image: 51oaOP8qJlL.jpg, Word: ['55.6mm']\n",
            " A0LB a LARGE a CAPACITY 1 e 8 Mins Fast Ice Making i ne . a epee X er Bo es atone Lees . we Na NAM SEC Lp and q i Premium Quality 7 om \n",
            "Width . 1C.M. . ca Length o Meter \n",
            "A Ys 2. d SS 0.2 \n"
          ]
        }
      ]
    },
    {
      "cell_type": "code",
      "source": [
        "import os\n",
        "import pandas as pd\n",
        "from PIL import Image\n",
        "import pytesseract\n",
        "import re\n",
        "\n",
        "# Basic library imports\n",
        "\n",
        "# Read Dataset\n",
        "DATASET_FOLDER = './'\n",
        "train = pd.read_csv(os.path.join(DATASET_FOLDER, 'train.csv'))\n",
        "test = pd.read_csv(os.path.join(DATASET_FOLDER, 'test.csv'))\n",
        "sample_test = pd.read_csv(os.path.join(DATASET_FOLDER, 'sample_test.csv'))\n",
        "sample_test_out = pd.read_csv(os.path.join(DATASET_FOLDER, 'sample_test_out.csv'))\n",
        "\n",
        "# Download images\n",
        "def download_images_clean(image_urls, output_folder):\n",
        "    for url in image_urls:\n",
        "        try:\n",
        "            # download_images([url], output_folder)\n",
        "            print(f\"Downloading {url}...\")\n",
        "        except Exception as e:\n",
        "            print(f\"Error downloading {url}: {str(e)}\")\n",
        "\n",
        "download_images_clean(sample_test['image_link'], '../images_clean')\n",
        "\n",
        "# Install Tesseract OCR\n",
        "# !apt install tesseract-ocr\n",
        "# !pip install pytesseract\n",
        "\n",
        "pytesseract.pytesseract.tesseract_cmd = '/usr/bin/tesseract'\n",
        "\n",
        "def extract_text_tesseract(image_path):\n",
        "    image = Image.open(image_path)\n",
        "    text = pytesseract.image_to_string(image, lang=\"eng\", config='--psm 6')\n",
        "    return text\n",
        "\n",
        "entity_unit_map = {\n",
        "    'width': {'centimetre', 'foot', 'inch', 'metre', 'millimetre', 'yard'},\n",
        "    'depth': {'centimetre', 'foot', 'inch', 'metre', 'millimetre', 'yard'},\n",
        "    'height': {'centimetre', 'foot', 'inch', 'metre', 'millimetre', 'yard'},\n",
        "    'item_weight': {'gram', 'kilogram', 'microgram', 'milligram', 'ounce', 'pound', 'ton'},\n",
        "    'maximum_weight_recommendation': {'gram', 'kilogram', 'microgram', 'milligram', 'ounce', 'pound', 'ton'},\n",
        "    'voltage': {'kilovolt', 'millivolt', 'volt'},\n",
        "    'wattage': {'kilowatt', 'watt'},\n",
        "    'item_volume': {'centilitre', 'cubic foot', 'cubic inch', 'cup', 'decilitre', 'fluid ounce', 'gallon', 'imperial gallon', 'litre', 'microlitre', 'millilitre', 'pint', 'quart'}\n",
        "}\n",
        "\n",
        "allowed_units = {unit for entity in entity_unit_map for unit in entity_unit_map[entity]}\n",
        "\n",
        "print(allowed_units)\n",
        "\n",
        "def get_current_and_previous_word(text, regex):\n",
        "    matches = re.finditer(regex, text)\n",
        "    result = []\n",
        "    for match in matches:\n",
        "        current_word = match.group(0)\n",
        "        start_index = match.start()\n",
        "        if start_index > 0:\n",
        "            previous_word = text[start_index - 1:start_index].strip()\n",
        "        else:\n",
        "            previous_word = ''\n",
        "        result.append((current_word, previous_word))\n",
        "    return result\n",
        "\n",
        "for image_name in os.listdir('../images_clean'):\n",
        "    image_path = os.path.join('../images_clean', image_name)\n",
        "    text = extract_text_tesseract(image_path)\n",
        "    text = re.sub(r\"[^a-zA-Z0-9\\s\\.\\n\\\"']\", \"\", text)\n",
        "    text = re.sub(r\"\\s+\", \" \", text)\n",
        "    print(text)\n",
        "    regex = r\"[\\d.]+\\s*(cm|centimeter|m|meter|foot|ft|mm|millimeter|inch)\\b\"\n",
        "    matches = re.finditer(regex, text)\n",
        "    word = []\n",
        "    for match in matches:\n",
        "        current_word = match.group(0)\n",
        "        start_index = match.start()\n",
        "        if start_index > 0:\n",
        "            previous_word = text[start_index - 1:start_index].strip()\n",
        "        word.append(current_word)\n",
        "        if previous_word != \" \" and previous_word != '':\n",
        "            word.append(previous_word)\n",
        "    if len(word) > 0:\n",
        "        print(f\"Image: {image_name}, Word: {word}\")\n"
      ],
      "metadata": {
        "colab": {
          "base_uri": "https://localhost:8080/"
        },
        "id": "6AUqmVHNYyPe",
        "outputId": "bae61cd2-f260-4bba-a451-a29f1c6ce81d"
      },
      "id": "6AUqmVHNYyPe",
      "execution_count": null,
      "outputs": [
        {
          "output_type": "stream",
          "name": "stdout",
          "text": [
            "Downloading https://m.media-amazon.com/images/I/41-NCxNuBxL.jpg...\n",
            "Downloading https://m.media-amazon.com/images/I/41-NCxNuBxL.jpg...\n",
            "Downloading https://m.media-amazon.com/images/I/417NJrPEk+L.jpg...\n",
            "Downloading https://m.media-amazon.com/images/I/417SThj+SrL.jpg...\n",
            "Downloading https://m.media-amazon.com/images/I/417SThj+SrL.jpg...\n",
            "Downloading https://m.media-amazon.com/images/I/41ADVPQgZOL.jpg...\n",
            "Downloading https://m.media-amazon.com/images/I/41nblnEkJ3L.jpg...\n",
            "Downloading https://m.media-amazon.com/images/I/41nblnEkJ3L.jpg...\n",
            "Downloading https://m.media-amazon.com/images/I/41o3iis9E7L.jpg...\n",
            "Downloading https://m.media-amazon.com/images/I/41pvwR9GbaL.jpg...\n",
            "Downloading https://m.media-amazon.com/images/I/41uwo4PVnuL.jpg...\n",
            "Downloading https://m.media-amazon.com/images/I/41uwo4PVnuL.jpg...\n",
            "Downloading https://m.media-amazon.com/images/I/41ygXRvf8lL.jpg...\n",
            "Downloading https://m.media-amazon.com/images/I/41ygXRvf8lL.jpg...\n",
            "Downloading https://m.media-amazon.com/images/I/41zgjN+zW3L.jpg...\n",
            "Downloading https://m.media-amazon.com/images/I/51+oHGvSvuL.jpg...\n",
            "Downloading https://m.media-amazon.com/images/I/51+oHGvSvuL.jpg...\n",
            "Downloading https://m.media-amazon.com/images/I/51-WIOx5pxL.jpg...\n",
            "Downloading https://m.media-amazon.com/images/I/51-WIOx5pxL.jpg...\n",
            "Downloading https://m.media-amazon.com/images/I/510xYFNYQ8L.jpg...\n",
            "Downloading https://m.media-amazon.com/images/I/510xYFNYQ8L.jpg...\n",
            "Downloading https://m.media-amazon.com/images/I/510xYFNYQ8L.jpg...\n",
            "Downloading https://m.media-amazon.com/images/I/514bY8c4ZIL.jpg...\n",
            "Downloading https://m.media-amazon.com/images/I/514bY8c4ZIL.jpg...\n",
            "Downloading https://m.media-amazon.com/images/I/514pScQdlCL.jpg...\n",
            "Downloading https://m.media-amazon.com/images/I/514pScQdlCL.jpg...\n",
            "Downloading https://m.media-amazon.com/images/I/51BEuVR4ZzL.jpg...\n",
            "Downloading https://m.media-amazon.com/images/I/51BEuVR4ZzL.jpg...\n",
            "Downloading https://m.media-amazon.com/images/I/51EBBqNOJ1L.jpg...\n",
            "Downloading https://m.media-amazon.com/images/I/51EBBqNOJ1L.jpg...\n",
            "Downloading https://m.media-amazon.com/images/I/51EBBqNOJ1L.jpg...\n",
            "Downloading https://m.media-amazon.com/images/I/51FSlaVlejL.jpg...\n",
            "Downloading https://m.media-amazon.com/images/I/51H+mX2Wk7L.jpg...\n",
            "Downloading https://m.media-amazon.com/images/I/51H+mX2Wk7L.jpg...\n",
            "Downloading https://m.media-amazon.com/images/I/51KykmLgc0L.jpg...\n",
            "Downloading https://m.media-amazon.com/images/I/51P0IuT6RsL.jpg...\n",
            "Downloading https://m.media-amazon.com/images/I/51Su6zXkAsL.jpg...\n",
            "Downloading https://m.media-amazon.com/images/I/51bEy0J5wLL.jpg...\n",
            "Downloading https://m.media-amazon.com/images/I/51cPZYLk2YL.jpg...\n",
            "Downloading https://m.media-amazon.com/images/I/51fAzxNm+cL.jpg...\n",
            "Downloading https://m.media-amazon.com/images/I/51fAzxNm+cL.jpg...\n",
            "Downloading https://m.media-amazon.com/images/I/51fAzxNm+cL.jpg...\n",
            "Downloading https://m.media-amazon.com/images/I/51jTe522S2L.jpg...\n",
            "Downloading https://m.media-amazon.com/images/I/51kdBAv6ImL.jpg...\n",
            "Downloading https://m.media-amazon.com/images/I/51kdBAv6ImL.jpg...\n",
            "Downloading https://m.media-amazon.com/images/I/51l6c6UcRZL.jpg...\n",
            "Downloading https://m.media-amazon.com/images/I/51oaOP8qJlL.jpg...\n",
            "Downloading https://m.media-amazon.com/images/I/51oaOP8qJlL.jpg...\n",
            "Downloading https://m.media-amazon.com/images/I/51r7U52rh7L.jpg...\n",
            "Downloading https://m.media-amazon.com/images/I/51r7U52rh7L.jpg...\n",
            "Downloading https://m.media-amazon.com/images/I/51r7U52rh7L.jpg...\n",
            "Downloading https://m.media-amazon.com/images/I/51tEop-EBJL.jpg...\n",
            "Downloading https://m.media-amazon.com/images/I/51vwYpDz2tL.jpg...\n",
            "Downloading https://m.media-amazon.com/images/I/51y79cwGJFL.jpg...\n",
            "Downloading https://m.media-amazon.com/images/I/51y79cwGJFL.jpg...\n",
            "Downloading https://m.media-amazon.com/images/I/51y79cwGJFL.jpg...\n",
            "Downloading https://m.media-amazon.com/images/I/613P5cxQH4L.jpg...\n",
            "Downloading https://m.media-amazon.com/images/I/613P5cxQH4L.jpg...\n",
            "Downloading https://m.media-amazon.com/images/I/614hn5uX9MS.jpg...\n",
            "Downloading https://m.media-amazon.com/images/I/615Cjzm6pyL.jpg...\n",
            "Downloading https://m.media-amazon.com/images/I/615Cjzm6pyL.jpg...\n",
            "Downloading https://m.media-amazon.com/images/I/61C+fwVD6dL.jpg...\n",
            "Downloading https://m.media-amazon.com/images/I/61E2XRNSdYL.jpg...\n",
            "Downloading https://m.media-amazon.com/images/I/61G8bvWOb-L.jpg...\n",
            "Downloading https://m.media-amazon.com/images/I/61G8bvWOb-L.jpg...\n",
            "Downloading https://m.media-amazon.com/images/I/61O+Yi09tyL.jpg...\n",
            "Downloading https://m.media-amazon.com/images/I/61lX6IP1SVL.jpg...\n",
            "Downloading https://m.media-amazon.com/images/I/71Qk6hR9-WL.jpg...\n",
            "Downloading https://m.media-amazon.com/images/I/71Qk6hR9-WL.jpg...\n",
            "Downloading https://m.media-amazon.com/images/I/71UN1IxKp4L.jpg...\n",
            "Downloading https://m.media-amazon.com/images/I/71UN1IxKp4L.jpg...\n",
            "Downloading https://m.media-amazon.com/images/I/71UYDq4nfnL.jpg...\n",
            "Downloading https://m.media-amazon.com/images/I/71UYDq4nfnL.jpg...\n",
            "Downloading https://m.media-amazon.com/images/I/71WAjPMQDWL.jpg...\n",
            "Downloading https://m.media-amazon.com/images/I/71WAjPMQDWL.jpg...\n",
            "Downloading https://m.media-amazon.com/images/I/71afEPoRGsL.jpg...\n",
            "Downloading https://m.media-amazon.com/images/I/71afEPoRGsL.jpg...\n",
            "Downloading https://m.media-amazon.com/images/I/71eCfiIG-AL.jpg...\n",
            "Downloading https://m.media-amazon.com/images/I/71fWddA0+yL.jpg...\n",
            "Downloading https://m.media-amazon.com/images/I/71ta6wY3HtL.jpg...\n",
            "Downloading https://m.media-amazon.com/images/I/71ta6wY3HtL.jpg...\n",
            "Downloading https://m.media-amazon.com/images/I/71v+pim0lfL.jpg...\n",
            "Downloading https://m.media-amazon.com/images/I/71v+pim0lfL.jpg...\n",
            "Downloading https://m.media-amazon.com/images/I/81IYdOV0mVL.jpg...\n",
            "Downloading https://m.media-amazon.com/images/I/81PG3ea0MOL.jpg...\n",
            "Downloading https://m.media-amazon.com/images/I/81aZ2ozp1GL.jpg...\n",
            "Downloading https://m.media-amazon.com/images/I/81qUmRUUTTL.jpg...\n",
            "Downloading https://m.media-amazon.com/images/I/81qUmRUUTTL.jpg...\n",
            "{'millimetre', 'pound', 'gallon', 'yard', 'kilogram', 'millilitre', 'microgram', 'gram', 'metre', 'volt', 'imperial gallon', 'kilovolt', 'ounce', 'milligram', 'microlitre', 'kilowatt', 'cup', 'quart', 'foot', 'cubic foot', 'decilitre', 'fluid ounce', 'cubic inch', 'pint', 'inch', 'watt', 'litre', 'millivolt', 'centimetre', 'centilitre', 'ton'}\n",
            "WF. PyWen AA BBE Vive Ren won 0 HIN Oat i i \n",
            "20CM oo \n",
            "80 PLUS 8 0 CERTIFICATE PLUS ee LONG CONNECTOR O8ees CABLES MSC eS SNS 5. See ee ae R ea oases cc ey an Y 500 WATTS \n",
            "1. cm 113.8cm 0 IKIS a of ay DelosseSorice ee \n",
            "Image: 51Su6zXkAsL.jpg, Word: ['1. cm', '113.8cm']\n",
            "eS cra Concha Be ea ere fuse effectively prevent electrical overioad universal for Lottie t33 i oe . L Le tal bot ff m i a Ne e Sa Pee 4 J ae SS a 4 ee N itl eT iG \n",
            "aa \n",
            "Ll Kez in Pear E EO Peele u Ill ty 4A CURRENT MORE STABLE FOR CHARGING IT TAKES ABOUT 90 MINUTES TO FULLY CHARGE THREE BAT TERIES AT ONCE OUTPUT DC 17.6V 12A EACH CHANNEL 17.6V 4A \n",
            " wae Worn AC cable 85265v 100w Heatsink and chip 12V 1A Power 12V1A Power Power adapter supply adapter i or a nes 2a ye a i PO Se . ASX ee AO ' pO LED drive WY ES ZB WY s Assembly Display tien \n",
            "1st press power on 2nd press led light off peace and quiet operating as quietly as 30dB 3rd press shut off wai wed Gow J 3 Detail Display ee yy 5 Large air Inlet design 120ml big capacity High effiction sterilization ABS material BPA free material filter design \n",
            " ...110.. \n",
            "aoe aN SMALL BUT MIGHTY. PM ESI EO oie a Ne 16 aCe aca ey J r tes ee Co ee SO ee Ce ee \n",
            "THE PRODUCT IS MADE OF PE MATERIAL STRONG FLEXIBILITY LONG USE TIME 1030MM se y AFTER PUTTING IN THE PROTECTIVE OBJECT IT ALSO PLAYS THE ROLE OF SHOCK ABSORPTION BS AVOID SLIDING \n",
            " Ruedamann Applicable to multiple equipment Wheelchairs Cars Scooters Cleaning robot Ole Leen ee Oe Baw 12 ah af fe me 8 ft foy LZ . CE a By a. Le ee tes ye i a 2a. \n",
            "Image: 81IYdOV0mVL.jpg, Word: ['8 ft']\n",
            "ENERGY INFORMATION at High Speed Airflow Electricity Use Airflow Efficiency 4400 45 98 Cubic Feet Watts Cubic Feet Per Per Minute excludes lights Minute Per Watt Compare 36\" to 48\" ceiling fans have airflow efficiencies ranging from approximately 71 to 86 cubic feet per minute per watt at high speed \n",
            "gee Seal al 1K ia i 4 i Pri ti Ve eey a aaa Oe a i i ie f iC a ae x C8 i f oJ a i a i ey VEN mY 4 x A i 0 4.311cm \n",
            "Image: 615Cjzm6pyL.jpg, Word: ['4.311cm']\n",
            "T0007 SPECIFICATIONS Heavyduty metal construction Designed for a wide range of photo enthusiasts Singleaction large handle for fast and precise positioning Exceptionally smooth rotation and positive locking handle lncorporates 14 tripod screw Weight 11lbs. Color Black Tm EE a ' \n",
            "Max 60W Power Delivery Fast charging your USBC laptop Mf ae as 20V3A \n",
            " SOCM Rey D E A Perfect Size \n",
            " \n",
            "1 t a ret Cs fal ie eee Wi . EE ak eC ei ae at eat tL 2g a aa Su De 3 oak ak ie fe 5 aa Sek es oe 8 oak tk be Sao SIG 2085 ae ee I ca oO ee a a i . aS 2 ao. ie BERBER GERBER REEREEE 16GB 2 x 8GB DDR4 3200MHz PC425600 OCR OID ATTENTION Le ME25600818 LIFETIME WARRANTY Cia ttt 4 Cet 5 i acd IG 30 b ae a a et a Ci at wr 38 oR te Oe a aT 3 Ce Cees aa at 1 8 38 a a1 ee a a oa ae ea te ray oy ry y e EEL ET CERNE ERT AEST ERM RE MR PIEU RE CEASE HRTEM 8 \n",
            "re Vy Aer nae pet Se gk OE ee ay. Sey NP 350 LBS wae Lue oy mane eae 9G ey a 2 eee ties Mg oe e ce ee Ra ee SO 2 a F a a oe vee as So eh i y AS e al a a z 6 ee ye ay r eS ' i Oa ESS pe a. 50 a if Owe pa Zi ee rn fi . fs eae eee \n",
            "Size Comparison Height 16cm i I 8.5cm 7.5cm \n",
            "Image: 51cPZYLk2YL.jpg, Word: ['16cm', '8.5cm', '7.5cm']\n",
            "7 . SS Ree ae j \" ky \n",
            "e Ss as 3 X yy sem \n",
            "ah 1 i 30 cm 15cm \n",
            "Image: 51FSlaVlejL.jpg, Word: ['30 cm', '15cm']\n",
            "VJ EVEEV EE EAE Pk Witriky L. Ww i i \" ot aC x a 4 eo es N ij ene Ee aN a SS See af SS we ee Jae Ve eee q oe Sim aa Ss XN 2 r N \n",
            "Our FauxLeather Textured Velvet fabrics are durable as they are soft Cushion covers are removable and machine washable Easy to spot clean all other surfaces e LE oy 4 2 3 aati eustian for e is ee comfort and support eae oe Toggle and loop secures a cushion from sliding FOR LARGE Wh. DOGS UP TO Tosa Hea 15 os Maxwell Sofa \n",
            "Desktop Size 40\" 24\" Vv 3 7 3 x N o 4 \n",
            "4 fr ge lll eames mae ha \n",
            "a GROWS WITH Sere\" YOUR CHILD ex F a a vy 4 aenapmwes FF YX Or au Lay a n \n",
            "In the Box 2 Handle x 1 1 he rl 68.3mm Specifications ID 4153 Compatibility Cage plate etc. mount for ARRIstyle Product Dimensions 134.0 x 68.3 x 27.8mm Package Dimensions 155.0 x 81.5 x 42.0mm Product Weight 156.0 5g Package Weight 192.2 5g Materials Aluminum Alloy \n",
            "Image: 61G8bvWOb-L.jpg, Word: ['68.3mm', '27.8mm', '42.0mm']\n",
            "44 6.75 LBS \n",
            "x a a ew ay re oD . Sarma . X dW gi ey re \"DN tall s yan p oe E oiy aed e aN E a rer ee Cale a i oo W AS ae 7 \n",
            "JY ae 5 r Le te C a. oN 12inches os as 30.5cm F ae a anche 6inches 9.5inches24.1cm 10.7cm \n",
            "Image: 51bEy0J5wLL.jpg, Word: ['30.5cm', '24.1cm', 's', '10.7cm']\n",
            " 2 i carey \" a lee fs rs vs i on ae Me Chin Re ai \n",
            "DD Pe 4 O. Dw U oS V . ew D eC 6.2 in 16cm L 5 a W z ot 9.4 in 24cm \n",
            "Image: 51-WIOx5pxL.jpg, Word: ['16cm', '24cm']\n",
            "indenter 2tsem Raed Voge aw Fegueesy sou Rated oput Powe 210 Nod Spect nope eee ne See Max Curing opaiy oo HeoxWisn ax Corin Cpa Hes Witan \n",
            "oC OSRAM Pree th yt 470m Eo awa La Tea \n",
            "Image: 41nblnEkJ3L.jpg, Word: ['470m']\n",
            " a 3 E26 Medium Base e NAN nv i oO i UU i i Hi r iy 6 hii i ff Ha ' HAE fi 7 LF 2 4.2 Inches \n",
            "y ho K me a4 . AS a Lies r ae a i a aa \" \n",
            "Ideal Bed Armchair Cover Neat size foldaway seven bis one ie side grey on the other Sturdy lightweight a 26151249 \n",
            "i if 3 Ss cellar i rr. Lg yy Color Stainless steel Product dimensions 11.714.414.8 in Ice Store Capacity 2.2 lbs Capacity of making ice 33 lbsday Power Rate 110W Water tank capacity 3.2L \n",
            "Product Information Specifications Material Premium Beech Wood Size 5013.511c0m 19.713.54.1inch Rod Diameter 3.8cm 1.5inch Weight 2.1KG 4.6lbs Load Bearing 300KG 660lbs Large Size 16. 9in43em cana t 9 19.7550 AMAA 5.3in13.5em \n",
            "Image: 71v+pim0lfL.jpg, Word: ['0m', 'c', '19.713.54.1inch', '3.8cm', '1.5inch']\n",
            "j Ci rca 4 i Y y ze yy Near itey ' a j ey A a f 6 Oem a. iF uieetu OTT her lasles ols MUMS Tan Ke li 4 16 5 increased by 90 with the game sound Gx a oe a7 AL y os ae 9 7 PS OES ee Sg se 4. ie ae RNS y 2 3 48 A Extra long endurance Extra long standby SIDEIGHEMADTs used with charging cabin used with charging cabin \n",
            " \n",
            "PVICCO \n",
            " \n",
            "Model Name Commercial Ice Maker Machine Ree e Sapacity 0.6 Cubic Feet os e Wattage . 280.0 Watts ce SS Voltage 120.0 Volts of Alternating Current \n",
            "2 SJ J Deodorizing module Cat litter shovel Adsorb harmful substances and reduce odor Regardless of soil sand wood sand crystal sand Alter unused cat litter ya nh Se my ZY \n",
            " a a fa Fr 3 fl a Ff f xtra 10 IF 1 ona Co ra 2 GF SRE Dp i Swe BD a i sfx l Gal Ree I ee a l ws wd VJ VU yw 4 \n",
            "os er pore 2 55.6mm \n",
            "Image: 51oaOP8qJlL.jpg, Word: ['55.6mm']\n",
            " A0LB a \" LARGE a CAPACITY 1 e 8 Mins Fast Ice Making i ne . a epee X er Bo es atone Lees . we Na NAM SEC Lp and q i Premium Quality 7 om \n",
            "Width . 1C.M. . ca Length o Meter \n",
            "A Ys 2. d SS 0.2 \n"
          ]
        }
      ]
    },
    {
      "cell_type": "code",
      "source": [
        "!pip install easyocr\n",
        "!pip install opencv-python"
      ],
      "metadata": {
        "id": "Q99MmX6Wum26",
        "colab": {
          "base_uri": "https://localhost:8080/"
        },
        "outputId": "6944beff-f0ae-4ff1-a341-7404d732ce18"
      },
      "id": "Q99MmX6Wum26",
      "execution_count": null,
      "outputs": [
        {
          "output_type": "stream",
          "name": "stdout",
          "text": [
            "Collecting easyocr\n",
            "  Downloading easyocr-1.7.1-py3-none-any.whl.metadata (11 kB)\n",
            "Requirement already satisfied: torch in /usr/local/lib/python3.10/dist-packages (from easyocr) (2.4.0+cu121)\n",
            "Requirement already satisfied: torchvision>=0.5 in /usr/local/lib/python3.10/dist-packages (from easyocr) (0.19.0+cu121)\n",
            "Requirement already satisfied: opencv-python-headless in /usr/local/lib/python3.10/dist-packages (from easyocr) (4.10.0.84)\n",
            "Requirement already satisfied: scipy in /usr/local/lib/python3.10/dist-packages (from easyocr) (1.13.1)\n",
            "Requirement already satisfied: numpy in /usr/local/lib/python3.10/dist-packages (from easyocr) (1.26.4)\n",
            "Requirement already satisfied: Pillow in /usr/local/lib/python3.10/dist-packages (from easyocr) (9.4.0)\n",
            "Requirement already satisfied: scikit-image in /usr/local/lib/python3.10/dist-packages (from easyocr) (0.23.2)\n",
            "Collecting python-bidi (from easyocr)\n",
            "  Downloading python_bidi-0.6.0-cp310-cp310-manylinux_2_17_x86_64.manylinux2014_x86_64.whl.metadata (4.6 kB)\n",
            "Requirement already satisfied: PyYAML in /usr/local/lib/python3.10/dist-packages (from easyocr) (6.0.2)\n",
            "Requirement already satisfied: Shapely in /usr/local/lib/python3.10/dist-packages (from easyocr) (2.0.6)\n",
            "Collecting pyclipper (from easyocr)\n",
            "  Downloading pyclipper-1.3.0.post5-cp310-cp310-manylinux_2_12_x86_64.manylinux2010_x86_64.whl.metadata (9.0 kB)\n",
            "Collecting ninja (from easyocr)\n",
            "  Downloading ninja-1.11.1.1-py2.py3-none-manylinux1_x86_64.manylinux_2_5_x86_64.whl.metadata (5.3 kB)\n",
            "Requirement already satisfied: filelock in /usr/local/lib/python3.10/dist-packages (from torch->easyocr) (3.16.0)\n",
            "Requirement already satisfied: typing-extensions>=4.8.0 in /usr/local/lib/python3.10/dist-packages (from torch->easyocr) (4.12.2)\n",
            "Requirement already satisfied: sympy in /usr/local/lib/python3.10/dist-packages (from torch->easyocr) (1.13.2)\n",
            "Requirement already satisfied: networkx in /usr/local/lib/python3.10/dist-packages (from torch->easyocr) (3.3)\n",
            "Requirement already satisfied: jinja2 in /usr/local/lib/python3.10/dist-packages (from torch->easyocr) (3.1.4)\n",
            "Requirement already satisfied: fsspec in /usr/local/lib/python3.10/dist-packages (from torch->easyocr) (2024.6.1)\n",
            "Requirement already satisfied: imageio>=2.33 in /usr/local/lib/python3.10/dist-packages (from scikit-image->easyocr) (2.34.2)\n",
            "Requirement already satisfied: tifffile>=2022.8.12 in /usr/local/lib/python3.10/dist-packages (from scikit-image->easyocr) (2024.8.30)\n",
            "Requirement already satisfied: packaging>=21 in /usr/local/lib/python3.10/dist-packages (from scikit-image->easyocr) (24.1)\n",
            "Requirement already satisfied: lazy-loader>=0.4 in /usr/local/lib/python3.10/dist-packages (from scikit-image->easyocr) (0.4)\n",
            "Requirement already satisfied: MarkupSafe>=2.0 in /usr/local/lib/python3.10/dist-packages (from jinja2->torch->easyocr) (2.1.5)\n",
            "Requirement already satisfied: mpmath<1.4,>=1.1.0 in /usr/local/lib/python3.10/dist-packages (from sympy->torch->easyocr) (1.3.0)\n",
            "Downloading easyocr-1.7.1-py3-none-any.whl (2.9 MB)\n",
            "\u001b[2K   \u001b[90m━━━━━━━━━━━━━━━━━━━━━━━━━━━━━━━━━━━━━━━━\u001b[0m \u001b[32m2.9/2.9 MB\u001b[0m \u001b[31m49.9 MB/s\u001b[0m eta \u001b[36m0:00:00\u001b[0m\n",
            "\u001b[?25hDownloading ninja-1.11.1.1-py2.py3-none-manylinux1_x86_64.manylinux_2_5_x86_64.whl (307 kB)\n",
            "\u001b[2K   \u001b[90m━━━━━━━━━━━━━━━━━━━━━━━━━━━━━━━━━━━━━━━━\u001b[0m \u001b[32m307.2/307.2 kB\u001b[0m \u001b[31m23.8 MB/s\u001b[0m eta \u001b[36m0:00:00\u001b[0m\n",
            "\u001b[?25hDownloading pyclipper-1.3.0.post5-cp310-cp310-manylinux_2_12_x86_64.manylinux2010_x86_64.whl (908 kB)\n",
            "\u001b[2K   \u001b[90m━━━━━━━━━━━━━━━━━━━━━━━━━━━━━━━━━━━━━━━━\u001b[0m \u001b[32m908.3/908.3 kB\u001b[0m \u001b[31m53.4 MB/s\u001b[0m eta \u001b[36m0:00:00\u001b[0m\n",
            "\u001b[?25hDownloading python_bidi-0.6.0-cp310-cp310-manylinux_2_17_x86_64.manylinux2014_x86_64.whl (281 kB)\n",
            "\u001b[2K   \u001b[90m━━━━━━━━━━━━━━━━━━━━━━━━━━━━━━━━━━━━━━━━\u001b[0m \u001b[32m281.3/281.3 kB\u001b[0m \u001b[31m23.5 MB/s\u001b[0m eta \u001b[36m0:00:00\u001b[0m\n",
            "\u001b[?25hInstalling collected packages: python-bidi, pyclipper, ninja, easyocr\n",
            "Successfully installed easyocr-1.7.1 ninja-1.11.1.1 pyclipper-1.3.0.post5 python-bidi-0.6.0\n",
            "Requirement already satisfied: opencv-python in /usr/local/lib/python3.10/dist-packages (4.10.0.84)\n",
            "Requirement already satisfied: numpy>=1.21.2 in /usr/local/lib/python3.10/dist-packages (from opencv-python) (1.26.4)\n"
          ]
        }
      ]
    },
    {
      "cell_type": "code",
      "source": [
        "import cv2\n",
        "import easyocr\n",
        "import numpy as np\n",
        "\n",
        "\n",
        "\n",
        "def extract_text_easyocr(image_path):\n",
        "  img = cv2.imread(image_path, 0)\n",
        "# blur = cv2.GaussianBlur(img,(5,5),0)\n",
        "# image2 = cv2.addWeighted(img, 1 , np.zeros(img.shape, img.dtype), 0, 5)\n",
        "#sharpining image\n",
        "# Create the sharpening kernel\n",
        "# kernel = np.array([[0, -1, 0], [-1, 5, -1], [0, -1, 0]])\n",
        "\n",
        "  # resized_image = cv2.resize(img, (1080, 1080))\n",
        "#resizing\n",
        "\n",
        "\n",
        "  reader = easyocr.Reader(['en'], gpu=True)\n",
        "  result = reader.readtext(img)\n",
        "  str = \"\"\n",
        "  for (bbox, text, prob) in result:\n",
        "    str=str+text+\" \"\n",
        "  return str"
      ],
      "metadata": {
        "id": "XfPxuMRQuXXT"
      },
      "id": "XfPxuMRQuXXT",
      "execution_count": null,
      "outputs": []
    },
    {
      "cell_type": "code",
      "source": [
        "# prompt: write a python function to separate numerical value and alpha value in a string  and  should inclue \".\" in numeric value\n",
        "\n",
        "import re\n",
        "\n",
        "def separate_numeric_alpha(text):\n",
        "  \"\"\"\n",
        "  Separates numerical values and alphabetic values in a string.\n",
        "\n",
        "  Args:\n",
        "    text: The input string.\n",
        "\n",
        "  Returns:\n",
        "    A tuple containing the numeric value and the alphabetic value.\n",
        "  \"\"\"\n",
        "  numeric_value = \"\"\n",
        "  alpha_value = \"\"\n",
        "\n",
        "  # Find all numeric values including \".\"\n",
        "  numeric_matches = re.findall(r\"[\\d.]+\", text)\n",
        "  if numeric_matches:\n",
        "    numeric_value = \"\".join(numeric_matches)\n",
        "\n",
        "  # Find all alphabetic values\n",
        "  alpha_matches = re.findall(r\"[a-zA-Z]+\", text)\n",
        "  if alpha_matches:\n",
        "    alpha_value = \" \".join(alpha_matches)\n",
        "\n",
        "  return numeric_value, alpha_value\n"
      ],
      "metadata": {
        "id": "2QW74_TeRhVk"
      },
      "id": "2QW74_TeRhVk",
      "execution_count": null,
      "outputs": []
    },
    {
      "cell_type": "code",
      "source": [
        "import os\n",
        "import random\n",
        "import pandas as pd\n",
        "from utils import download_images\n",
        "import re\n",
        "\n",
        "def predictor(image_link, category_id, entity_name):\n",
        "    if entity_name != \"item_weight\" and entity_name !=\"maximum_weight_recommendation\":\n",
        "        return\n",
        "\n",
        "    try:\n",
        "        download_images([image_link], '../images_clean')\n",
        "    except Exception as e:\n",
        "        print(f\"Error downloading {image_link}: {str(e)}\")\n",
        "\n",
        "    image_link=image_link.split(\"/\")\n",
        "    text = extract_text_easyocr(\"../images_clean/\"+image_link[-1])\n",
        "    text = re.sub(r\"[^a-zA-Z0-9\\s\\.\\”\\\"\\-\\n]\", \"\", text)\n",
        "    text = re.sub(r\"\\s+\", \" \", text)\n",
        "    print(text)\n",
        "\n",
        "    weight_map = {\n",
        "        \"mg\":\"milligram\",\n",
        "        \"kg\":\"kilogram\",\n",
        "        \"g\":\"gram\",\n",
        "        \"gm\":\"gram\",\n",
        "        \"oz\":\"ounce\",\n",
        "        \"lb\":\"pound\",\n",
        "        \"lbs\":\"pound\",\n",
        "        \"gms\":\"gram\",\n",
        "        \"kgs\":\"kilogram\",\n",
        "        \"grams\":\"gram\"\n",
        "    }\n",
        "\n",
        "    volume_map = {\n",
        "        \"ml\":\"millilitre\",\n",
        "        \"L\":\"litre\",\n",
        "        \"l\":\"litre\",\n",
        "        \"litre\":\"litre\",\n",
        "        \"litres\":\"litre\",\n",
        "        \"gallon\":\"gallon\",\n",
        "        \"gal\":\"gallon\",\n",
        "        \"gallons\":\"gallon\",\n",
        "        \"floz\":\"fluid ounce\",\n",
        "        \"fl oz\":\"fluid ounce\",\n",
        "        \"fl.oz\":\"fluid ounce\",\n",
        "        \"fl. oz\":\"fluid ounce\"\n",
        "    }\n",
        "    volt_map = {\n",
        "        \"v\":\"volt\",\n",
        "        \"V\":\"volt\",\n",
        "        \"volt\":\"volt\",\n",
        "        \"volts\":\"volt\"\n",
        "    }\n",
        "\n",
        "    length_map ={\n",
        "        \"cm\" : \"centimeter\",\n",
        "        \"m\" : \"meter\",\n",
        "        \"mm\": \"millimeter\",\n",
        "        \"ft\" : \"foot\",\n",
        "        \"inch\" : \"inch\",\n",
        "        \"inchs\" :\"inch\",\n",
        "        \"feet\" : \"foot\"\n",
        "        }\n",
        "    watt_map={\n",
        "           \"w\":\"watt\",\n",
        "           \"W\":\"watt\",\n",
        "           \"watts\":\"watt\",\n",
        "           \"watt\":\"watt\"\n",
        "\n",
        "       }\n",
        "\n",
        "    if(entity_name==\"width\" or entity_name==\"depth\" or entity_name==\"height\"):\n",
        "        regex = r\"[\\d.]+\\s*(cm|CM|centimeter|m|M|meter|foot|ft|Ft|mm|MM|millimeter|inch|”|)\"\n",
        "    elif (entity_name==\"item_weight\" or entity_name==\"maximum_weight_recommendation\"):\n",
        "        regex = r\"[\\d.]+\\s*(gram|g|G|gms|gm|kilogram|kg|KG|Kg|microgram|milligram|ounce|pound|ton|oz|OZ|LBS|lbs|lb|Lbs|Ibs|ibz|Ibz|ibs)\"\n",
        "    elif (entity_name==\"voltage\" ):\n",
        "        regex = r\"[\\d.]+\\s*(kilovolt|millivolt|volt|v|V|Volts|volts)\"\n",
        "    elif (entity_name==\"wattage\"):\n",
        "        regex = r\"[\\d.]+\\s*(kilowatt|watt|w|W|Watts|watts)\"\n",
        "    elif (entity_name==\"item_volume\"):\n",
        "        regex = r\"[\\d.]+\\s*(centilitre|cup|decilitre|oz|Oz|fl.oz|floz|gallon|litre|L|microlitre|millilitre|ml|ML|pint|quart|fl oz)\"\n",
        "\n",
        "    matches = re.finditer(regex, text)\n",
        "    word = []\n",
        "    for match in matches:\n",
        "        current_word = match.group(0)\n",
        "        if(entity_name==\"width\" or entity_name==\"depth\" or entity_name==\"height\"):\n",
        "          for abbrev, unit in length_map.items():\n",
        "            current_word = current_word.replace(abbrev, unit)\n",
        "        elif (entity_name==\"item_weight\" or entity_name==\"maximum_weight_recommendation\"):\n",
        "          for abbrev, unit in weight_map.items():\n",
        "            current_word = current_word.replace(abbrev, unit)\n",
        "        elif (entity_name==\"voltage\" ):\n",
        "          for abbrev, unit in  volt_map.items():\n",
        "            current_word = current_word.replace(abbrev, unit)\n",
        "        elif (entity_name==\"wattage\"):\n",
        "          for abbrev, unit in watt_map.items():\n",
        "            current_word = current_word.replace(abbrev, unit)\n",
        "        elif (entity_name==\"item_volume\"):\n",
        "         for abbrev, unit in volume_map.items():\n",
        "            current_word = current_word.replace(abbrev, unit)\n",
        "\n",
        "\n",
        "        start_index = match.start()\n",
        "        previous_word = \"\"\n",
        "        if start_index > 0:\n",
        "            previous_word = text[start_index - 1:start_index].strip()\n",
        "        word.append(previous_word)\n",
        "        word.append(current_word)\n",
        "        if previous_word != \" \" and previous_word != '':\n",
        "            word.append(previous_word)\n",
        "\n",
        "    print(word)\n",
        "    if len(word) > 0 :\n",
        "        print(f\"word before sort { word}\")\n",
        "        word.sort()\n",
        "        print(f\"word after sort {word}\")\n",
        "        print(word[-1])\n",
        "        return word[-1]\n",
        "    return 10\n",
        "\n",
        "if __name__ == \"__main__\":\n",
        "    DATASET_FOLDER = './'\n",
        "    test = pd.read_csv(os.path.join(DATASET_FOLDER, 'sample_test.csv'))\n",
        "    test['prediction'] = test.apply( lambda row: predictor(row['image_link'], row['group_id'], row['entity_name']), axis=1)\n",
        "    output_filename = os.path.join(DATASET_FOLDER, 'test_out.csv')\n",
        "    test[['index', 'prediction']].to_csv(output_filename, index=False)"
      ],
      "metadata": {
        "colab": {
          "base_uri": "https://localhost:8080/"
        },
        "id": "a5EBCiMDLj-z",
        "outputId": "a189a513-5a77-4af8-a611-7fcd80c64662"
      },
      "id": "a5EBCiMDLj-z",
      "execution_count": null,
      "outputs": [
        {
          "output_type": "stream",
          "name": "stderr",
          "text": [
            "100%|██████████| 1/1 [00:00<00:00, 174.81it/s]\n",
            "WARNING:easyocr.easyocr:Neither CUDA nor MPS are available - defaulting to CPU. Note: This module is much faster with a GPU.\n",
            "/usr/local/lib/python3.10/dist-packages/easyocr/detection.py:78: FutureWarning: You are using `torch.load` with `weights_only=False` (the current default value), which uses the default pickle module implicitly. It is possible to construct malicious pickle data which will execute arbitrary code during unpickling (See https://github.com/pytorch/pytorch/blob/main/SECURITY.md#untrusted-models for more details). In a future release, the default value for `weights_only` will be flipped to `True`. This limits the functions that could be executed during unpickling. Arbitrary objects will no longer be allowed to be loaded via this mode unless they are explicitly allowlisted by the user via `torch.serialization.add_safe_globals`. We recommend you start setting `weights_only=True` for any use case where you don't have full control of the loaded file. Please open an issue on GitHub for any issues related to this experimental feature.\n",
            "  net.load_state_dict(copyStateDict(torch.load(trained_model, map_location=device)))\n",
            "/usr/local/lib/python3.10/dist-packages/easyocr/recognition.py:169: FutureWarning: You are using `torch.load` with `weights_only=False` (the current default value), which uses the default pickle module implicitly. It is possible to construct malicious pickle data which will execute arbitrary code during unpickling (See https://github.com/pytorch/pytorch/blob/main/SECURITY.md#untrusted-models for more details). In a future release, the default value for `weights_only` will be flipped to `True`. This limits the functions that could be executed during unpickling. Arbitrary objects will no longer be allowed to be loaded via this mode unless they are explicitly allowlisted by the user via `torch.serialization.add_safe_globals`. We recommend you start setting `weights_only=True` for any use case where you don't have full control of the loaded file. Please open an issue on GitHub for any issues related to this experimental feature.\n",
            "  state_dict = torch.load(model_path, map_location=device)\n"
          ]
        },
        {
          "output_type": "stream",
          "name": "stdout",
          "text": [
            "Deodorizing module Cat litter shovel Adsorb barmful gubstances and reduce odor Regardless of soll gand wood sand crystal gand alter unused cat IItter \n",
            "[]\n"
          ]
        },
        {
          "output_type": "stream",
          "name": "stderr",
          "text": [
            "100%|██████████| 1/1 [00:00<00:00, 4905.62it/s]\n",
            "WARNING:easyocr.easyocr:Neither CUDA nor MPS are available - defaulting to CPU. Note: This module is much faster with a GPU.\n"
          ]
        },
        {
          "output_type": "stream",
          "name": "stdout",
          "text": [
            "Inuvh Calabrian Chili Powder aCa-eean Ceen eG \n",
            "[]\n"
          ]
        },
        {
          "output_type": "stream",
          "name": "stderr",
          "text": [
            "100%|██████████| 1/1 [00:00<00:00, 5242.88it/s]\n",
            "WARNING:easyocr.easyocr:Neither CUDA nor MPS are available - defaulting to CPU. Note: This module is much faster with a GPU.\n"
          ]
        },
        {
          "output_type": "stream",
          "name": "stdout",
          "text": [
            "44\" 6.75 LBS \n",
            "['', '6.75 LBS']\n",
            "word before sort ['', '6.75 LBS']\n",
            "word after sort ['', '6.75 LBS']\n",
            "6.75 LBS\n"
          ]
        },
        {
          "output_type": "stream",
          "name": "stderr",
          "text": [
            "100%|██████████| 1/1 [00:00<00:00, 118.33it/s]\n",
            "WARNING:easyocr.easyocr:Neither CUDA nor MPS are available - defaulting to CPU. Note: This module is much faster with a GPU.\n"
          ]
        },
        {
          "output_type": "stream",
          "name": "stdout",
          "text": [
            "Our Faux-Leather Textured Velvet fabrics are durable as they are soft Cushion covers are removable and machine washable Easy to spot clean all other surfaces Foam cushion for comfort and support Toggle and loop secures cushion from FOR LARGE DOGS UP TO PET 75 Ibs Maxwell Sofa sliding \n",
            "['', '75 Ibs']\n",
            "word before sort ['', '75 Ibs']\n",
            "word after sort ['', '75 Ibs']\n",
            "75 Ibs\n"
          ]
        },
        {
          "output_type": "stream",
          "name": "stderr",
          "text": [
            "100%|██████████| 1/1 [00:00<00:00, 464.64it/s]\n",
            "WARNING:easyocr.easyocr:Neither CUDA nor MPS are available - defaulting to CPU. Note: This module is much faster with a GPU.\n"
          ]
        },
        {
          "output_type": "stream",
          "name": "stdout",
          "text": [
            "RUBBER HANGERS 50 THIN \n",
            "[]\n"
          ]
        },
        {
          "output_type": "stream",
          "name": "stderr",
          "text": [
            "100%|██████████| 1/1 [00:00<00:00, 5197.40it/s]\n",
            "WARNING:easyocr.easyocr:Neither CUDA nor MPS are available - defaulting to CPU. Note: This module is much faster with a GPU.\n"
          ]
        },
        {
          "output_type": "stream",
          "name": "stdout",
          "text": [
            "GROWS WITH Accommodates children ages 3-6 Your CHILD 4 T5 BWRS ZSWRS BUWRS MAX 143Lbs Mdjusiablc hcigh lock \n",
            "['', '143Lbs']\n",
            "word before sort ['', '143Lbs']\n",
            "word after sort ['', '143Lbs']\n",
            "143Lbs\n"
          ]
        },
        {
          "output_type": "stream",
          "name": "stderr",
          "text": [
            "100%|██████████| 1/1 [00:00<00:00, 158.51it/s]\n",
            "WARNING:easyocr.easyocr:Neither CUDA nor MPS are available - defaulting to CPU. Note: This module is much faster with a GPU.\n"
          ]
        },
        {
          "output_type": "stream",
          "name": "stdout",
          "text": [
            " N \"Alehtr\" IZzlze Juler inat Onpn t Dr \n",
            "[]\n"
          ]
        },
        {
          "output_type": "stream",
          "name": "stderr",
          "text": [
            "100%|██████████| 1/1 [00:00<00:00, 37.85it/s]\n",
            "WARNING:easyocr.easyocr:Neither CUDA nor MPS are available - defaulting to CPU. Note: This module is much faster with a GPU.\n"
          ]
        },
        {
          "output_type": "stream",
          "name": "stdout",
          "text": [
            "ENERGY INFORMATION at High Speed Airflow Electricity Use Airflow Efficiency 4400 45 98 Cubic Feet Watts Cubic Feet Per Per Minute excludes lights Minute Per Watt Compare 36\" to 48\" ceiling fans have airflow efficiencies ranging from pproximately 71 to 86 cubic feet per minute per watt at high speed Money-Saving Tip Turn off fan when leaving room \n",
            "[]\n"
          ]
        },
        {
          "output_type": "stream",
          "name": "stderr",
          "text": [
            "100%|██████████| 1/1 [00:00<00:00, 916.59it/s]\n",
            "WARNING:easyocr.easyocr:Neither CUDA nor MPS are available - defaulting to CPU. Note: This module is much faster with a GPU.\n"
          ]
        },
        {
          "output_type": "stream",
          "name": "stdout",
          "text": [
            "In the Box 25mm 134mm Handle 1 68.3mm Specifications ID 4153 Compatibility plate etc mount for ARRI-style Product Dimensions 134.0 68.3 x 27.8mm Package Dimensions 155.0 81.5 x 42.Omm Product Weight 156.0 5g Package Weight 192.2 5g Materials Aluminum Alloy Cage \n",
            "['', '5gram', '', '5gram']\n",
            "word before sort ['', '5gram', '', '5gram']\n",
            "word after sort ['', '', '5gram', '5gram']\n",
            "5gram\n"
          ]
        },
        {
          "output_type": "stream",
          "name": "stderr",
          "text": [
            "100%|██████████| 1/1 [00:00<00:00, 4928.68it/s]\n",
            "WARNING:easyocr.easyocr:Neither CUDA nor MPS are available - defaulting to CPU. Note: This module is much faster with a GPU.\n"
          ]
        },
        {
          "output_type": "stream",
          "name": "stdout",
          "text": [
            "In the Box 25mm 134mm Handle 1 68.3mm Specifications ID 4153 Compatibility plate etc mount for ARRI-style Product Dimensions 134.0 68.3 x 27.8mm Package Dimensions 155.0 81.5 x 42.Omm Product Weight 156.0 5g Package Weight 192.2 5g Materials Aluminum Alloy Cage \n",
            "['', '5gram', '', '5gram']\n",
            "word before sort ['', '5gram', '', '5gram']\n",
            "word after sort ['', '', '5gram', '5gram']\n",
            "5gram\n"
          ]
        },
        {
          "output_type": "stream",
          "name": "stderr",
          "text": [
            "100%|██████████| 1/1 [00:00<00:00, 4301.85it/s]\n",
            "WARNING:easyocr.easyocr:Neither CUDA nor MPS are available - defaulting to CPU. Note: This module is much faster with a GPU.\n"
          ]
        },
        {
          "output_type": "stream",
          "name": "stdout",
          "text": [
            "Gont 3X 8 X 8X 4A CURRENT MORE STABLE FOR CHARGING IT TAKES ABOUT 90 MINUTES TO FULLY CHARGE THREE BAT- TERIES AT ONCE OUTPUT DC 17.6V 12A EACH CHANNEL 17.6V 4A \n",
            "[]\n"
          ]
        },
        {
          "output_type": "stream",
          "name": "stderr",
          "text": [
            "100%|██████████| 1/1 [00:00<00:00, 309.52it/s]\n",
            "WARNING:easyocr.easyocr:Neither CUDA nor MPS are available - defaulting to CPU. Note: This module is much faster with a GPU.\n"
          ]
        },
        {
          "output_type": "stream",
          "name": "stdout",
          "text": [
            "80 PLUS CERTIFICATE 80 PLUS LONG CONNECTOR CABLES 12CM FAN 500 WATTS \n",
            "[]\n"
          ]
        },
        {
          "output_type": "stream",
          "name": "stderr",
          "text": [
            "100%|██████████| 1/1 [00:00<00:00, 665.66it/s]\n",
            "WARNING:easyocr.easyocr:Neither CUDA nor MPS are available - defaulting to CPU. Note: This module is much faster with a GPU.\n"
          ]
        },
        {
          "output_type": "stream",
          "name": "stdout",
          "text": [
            "COMMERCIAL GRADE STEEL Excellent weight capacity Reokez \n",
            "[]\n"
          ]
        },
        {
          "output_type": "stream",
          "name": "stderr",
          "text": [
            "100%|██████████| 1/1 [00:00<00:00, 1819.65it/s]\n",
            "WARNING:easyocr.easyocr:Neither CUDA nor MPS are available - defaulting to CPU. Note: This module is much faster with a GPU.\n"
          ]
        },
        {
          "output_type": "stream",
          "name": "stdout",
          "text": [
            "COMMERCIAL GRADE STEEL Excellent weight capacity Reokez \n",
            "[]\n"
          ]
        },
        {
          "output_type": "stream",
          "name": "stderr",
          "text": [
            "100%|██████████| 1/1 [00:00<00:00, 195.15it/s]\n",
            "WARNING:easyocr.easyocr:Neither CUDA nor MPS are available - defaulting to CPU. Note: This module is much faster with a GPU.\n"
          ]
        },
        {
          "output_type": "stream",
          "name": "stdout",
          "text": [
            "Canon PHOTO ACCESSORIES Deluxe Ball Head 10 T-0007 SPECIFICATIONS Heavy-duty metal construction oDesigned for a wide range of photo enthusiasts Single-action large handle for fast ad precise positioning Exceptionally smooth rotation and positive locking handle Incorporates 14 tripod screw Weight 1.1lbs. OColor Black \n",
            "['', '1.1pounds']\n",
            "word before sort ['', '1.1pounds']\n",
            "word after sort ['', '1.1pounds']\n",
            "1.1pounds\n"
          ]
        },
        {
          "output_type": "stream",
          "name": "stderr",
          "text": [
            "100%|██████████| 1/1 [00:00<00:00, 5242.88it/s]\n",
            "WARNING:easyocr.easyocr:Neither CUDA nor MPS are available - defaulting to CPU. Note: This module is much faster with a GPU.\n"
          ]
        },
        {
          "output_type": "stream",
          "name": "stdout",
          "text": [
            "Canon PHOTO ACCESSORIES Deluxe Ball Head 10 T-0007 SPECIFICATIONS Heavy-duty metal construction oDesigned for a wide range of photo enthusiasts Single-action large handle for fast ad precise positioning Exceptionally smooth rotation and positive locking handle Incorporates 14 tripod screw Weight 1.1lbs. OColor Black \n",
            "['', '1.1pounds']\n",
            "word before sort ['', '1.1pounds']\n",
            "word after sort ['', '1.1pounds']\n",
            "1.1pounds\n"
          ]
        },
        {
          "output_type": "stream",
          "name": "stderr",
          "text": [
            "100%|██████████| 1/1 [00:00<00:00, 4040.76it/s]\n",
            "WARNING:easyocr.easyocr:Neither CUDA nor MPS are available - defaulting to CPU. Note: This module is much faster with a GPU.\n"
          ]
        },
        {
          "output_type": "stream",
          "name": "stdout",
          "text": [
            "Sports headphones You Cant shake it offwhen youre exercising Clip-on type Not into the ear canal More comfortable to wear Big Horn High moving circle surging sound field A single 4.7g Bluetooth 5.3 Sync sound effects Lightweight design Chip transfer speed The sound is synchronized increased by 90 with the game sound 68 1h 24h 480h Extra endurance Extra long standby Smart charging used with charging cabin used with charging cabin long \n",
            "['', '4.7gram']\n",
            "word before sort ['', '4.7gram']\n",
            "word after sort ['', '4.7gram']\n",
            "4.7gram\n"
          ]
        },
        {
          "output_type": "stream",
          "name": "stderr",
          "text": [
            "100%|██████████| 1/1 [00:00<00:00, 1469.11it/s]\n",
            "WARNING:easyocr.easyocr:Neither CUDA nor MPS are available - defaulting to CPU. Note: This module is much faster with a GPU.\n"
          ]
        },
        {
          "output_type": "stream",
          "name": "stdout",
          "text": [
            "Product Information Specifications Material Premium Beech Wood Size 5013.511cm 19.713.54.1inch Rod Diameter 3.8cm 1.Sinch Weight 2.1KG 4.6lbs Load Bearing 300KG 660lbs Large Size 16.9in43cm 1 Yamyshine 8 19.7insocm 5.3in13.5cm \n",
            "['', '2.1KG', '', '4.6pounds', '', '300KG', '', '660pounds']\n",
            "word before sort ['', '2.1KG', '', '4.6pounds', '', '300KG', '', '660pounds']\n",
            "word after sort ['', '', '', '', '2.1KG', '300KG', '4.6pounds', '660pounds']\n",
            "660pounds\n"
          ]
        },
        {
          "output_type": "stream",
          "name": "stderr",
          "text": [
            "100%|██████████| 1/1 [00:00<00:00, 185.20it/s]\n",
            "WARNING:easyocr.easyocr:Neither CUDA nor MPS are available - defaulting to CPU. Note: This module is much faster with a GPU.\n"
          ]
        },
        {
          "output_type": "stream",
          "name": "stdout",
          "text": [
            "Product Information Specifications Material Premium Beech Wood Size 5013.511cm 19.713.54.1inch Rod Diameter 3.8cm 1.Sinch Weight 2.1KG 4.6lbs Load Bearing 300KG 660lbs Large Size 16.9in43cm 1 Yamyshine 8 19.7insocm 5.3in13.5cm \n",
            "['', '2.1KG', '', '4.6pounds', '', '300KG', '', '660pounds']\n",
            "word before sort ['', '2.1KG', '', '4.6pounds', '', '300KG', '', '660pounds']\n",
            "word after sort ['', '', '', '', '2.1KG', '300KG', '4.6pounds', '660pounds']\n",
            "660pounds\n"
          ]
        },
        {
          "output_type": "stream",
          "name": "stderr",
          "text": [
            "100%|██████████| 1/1 [00:00<00:00, 348.97it/s]\n",
            "WARNING:easyocr.easyocr:Neither CUDA nor MPS are available - defaulting to CPU. Note: This module is much faster with a GPU.\n"
          ]
        },
        {
          "output_type": "stream",
          "name": "stdout",
          "text": [
            "homecare Ruedamann Applicable t0 multiple equipment Wheelchairs Cars Scooters Cleaning robot 36 Capacitye 1500LBS Tck SIO \n",
            "['', '1500LBS']\n",
            "word before sort ['', '1500LBS']\n",
            "word after sort ['', '1500LBS']\n",
            "1500LBS\n"
          ]
        },
        {
          "output_type": "stream",
          "name": "stderr",
          "text": [
            "100%|██████████| 1/1 [00:00<00:00, 3938.31it/s]\n",
            "WARNING:easyocr.easyocr:Neither CUDA nor MPS are available - defaulting to CPU. Note: This module is much faster with a GPU.\n"
          ]
        },
        {
          "output_type": "stream",
          "name": "stdout",
          "text": [
            "F ALPINE CAPACITY WEIGHT 500 LBS \n",
            "['', '500 LBS']\n",
            "word before sort ['', '500 LBS']\n",
            "word after sort ['', '500 LBS']\n",
            "500 LBS\n"
          ]
        },
        {
          "output_type": "stream",
          "name": "stderr",
          "text": [
            "100%|██████████| 1/1 [00:00<00:00, 5924.16it/s]\n",
            "WARNING:easyocr.easyocr:Neither CUDA nor MPS are available - defaulting to CPU. Note: This module is much faster with a GPU.\n"
          ]
        },
        {
          "output_type": "stream",
          "name": "stdout",
          "text": [
            "ENJOY SLEDDING FUN WITH YOUR FAMILIESFRIENDS 350 LBS 350 LBS \n",
            "['', '350 LBS', '', '350 LBS']\n",
            "word before sort ['', '350 LBS', '', '350 LBS']\n",
            "word after sort ['', '', '350 LBS', '350 LBS']\n",
            "350 LBS\n"
          ]
        },
        {
          "output_type": "stream",
          "name": "stderr",
          "text": [
            "100%|██████████| 1/1 [00:00<00:00, 3880.02it/s]\n",
            "WARNING:easyocr.easyocr:Neither CUDA nor MPS are available - defaulting to CPU. Note: This module is much faster with a GPU.\n"
          ]
        },
        {
          "output_type": "stream",
          "name": "stdout",
          "text": [
            "ENJOY SLEDDING FUN WITH YOUR FAMILIESFRIENDS 350 LBS 350 LBS \n",
            "['', '350 LBS', '', '350 LBS']\n",
            "word before sort ['', '350 LBS', '', '350 LBS']\n",
            "word after sort ['', '', '350 LBS', '350 LBS']\n",
            "350 LBS\n"
          ]
        }
      ]
    },
    {
      "cell_type": "code",
      "source": [],
      "metadata": {
        "id": "oSW5zUztfxzE"
      },
      "id": "oSW5zUztfxzE",
      "execution_count": null,
      "outputs": []
    },
    {
      "cell_type": "code",
      "source": [],
      "metadata": {
        "id": "SUcNAwTzfzc_"
      },
      "id": "SUcNAwTzfzc_",
      "execution_count": null,
      "outputs": []
    },
    {
      "cell_type": "code",
      "source": [
        "!ls"
      ],
      "metadata": {
        "colab": {
          "base_uri": "https://localhost:8080/"
        },
        "id": "jHvzo90iAkzv",
        "outputId": "6043287b-f0f5-4e79-dbd9-9c3333d0e454"
      },
      "id": "jHvzo90iAkzv",
      "execution_count": null,
      "outputs": [
        {
          "output_type": "stream",
          "name": "stdout",
          "text": [
            "accountKey.json  __pycache__\t  sample_test_out.csv\t    test.csv\tutils.py\n",
            "constants.py\t sample_data\t  sample_test_out_fail.csv  test.ipynb\n",
            "drive\t\t sample_test.csv  sanity.py\t\t    train.csv\n"
          ]
        }
      ]
    },
    {
      "cell_type": "code",
      "source": [
        "os.environ[\"GOOGLE_APPLICATION_CREDENTIALS\"] = \"./accountKey.json\""
      ],
      "metadata": {
        "id": "l8ptCFVwANXz"
      },
      "id": "l8ptCFVwANXz",
      "execution_count": null,
      "outputs": []
    },
    {
      "cell_type": "code",
      "source": [
        "!pip install easyocr\n"
      ],
      "metadata": {
        "colab": {
          "base_uri": "https://localhost:8080/"
        },
        "id": "dIMpxXKy1hIV",
        "outputId": "81f3a85d-d4f1-44c3-ca06-1579fef2e703"
      },
      "id": "dIMpxXKy1hIV",
      "execution_count": null,
      "outputs": [
        {
          "output_type": "stream",
          "name": "stdout",
          "text": [
            "Collecting easyocr\n",
            "  Downloading easyocr-1.7.1-py3-none-any.whl.metadata (11 kB)\n",
            "Requirement already satisfied: torch in /usr/local/lib/python3.10/dist-packages (from easyocr) (2.4.0+cu121)\n",
            "Requirement already satisfied: torchvision>=0.5 in /usr/local/lib/python3.10/dist-packages (from easyocr) (0.19.0+cu121)\n",
            "Requirement already satisfied: opencv-python-headless in /usr/local/lib/python3.10/dist-packages (from easyocr) (4.10.0.84)\n",
            "Requirement already satisfied: scipy in /usr/local/lib/python3.10/dist-packages (from easyocr) (1.13.1)\n",
            "Requirement already satisfied: numpy in /usr/local/lib/python3.10/dist-packages (from easyocr) (1.26.4)\n",
            "Requirement already satisfied: Pillow in /usr/local/lib/python3.10/dist-packages (from easyocr) (9.4.0)\n",
            "Requirement already satisfied: scikit-image in /usr/local/lib/python3.10/dist-packages (from easyocr) (0.23.2)\n",
            "Collecting python-bidi (from easyocr)\n",
            "  Downloading python_bidi-0.6.0-cp310-cp310-manylinux_2_17_x86_64.manylinux2014_x86_64.whl.metadata (4.6 kB)\n",
            "Requirement already satisfied: PyYAML in /usr/local/lib/python3.10/dist-packages (from easyocr) (6.0.2)\n",
            "Requirement already satisfied: Shapely in /usr/local/lib/python3.10/dist-packages (from easyocr) (2.0.6)\n",
            "Requirement already satisfied: pyclipper in /usr/local/lib/python3.10/dist-packages (from easyocr) (1.3.0.post5)\n",
            "Collecting ninja (from easyocr)\n",
            "  Downloading ninja-1.11.1.1-py2.py3-none-manylinux1_x86_64.manylinux_2_5_x86_64.whl.metadata (5.3 kB)\n",
            "Requirement already satisfied: filelock in /usr/local/lib/python3.10/dist-packages (from torch->easyocr) (3.16.0)\n",
            "Requirement already satisfied: typing-extensions>=4.8.0 in /usr/local/lib/python3.10/dist-packages (from torch->easyocr) (4.12.2)\n",
            "Requirement already satisfied: sympy in /usr/local/lib/python3.10/dist-packages (from torch->easyocr) (1.13.2)\n",
            "Requirement already satisfied: networkx in /usr/local/lib/python3.10/dist-packages (from torch->easyocr) (3.3)\n",
            "Requirement already satisfied: jinja2 in /usr/local/lib/python3.10/dist-packages (from torch->easyocr) (3.1.4)\n",
            "Requirement already satisfied: fsspec in /usr/local/lib/python3.10/dist-packages (from torch->easyocr) (2024.6.1)\n",
            "Requirement already satisfied: imageio>=2.33 in /usr/local/lib/python3.10/dist-packages (from scikit-image->easyocr) (2.34.2)\n",
            "Requirement already satisfied: tifffile>=2022.8.12 in /usr/local/lib/python3.10/dist-packages (from scikit-image->easyocr) (2024.8.30)\n",
            "Requirement already satisfied: packaging>=21 in /usr/local/lib/python3.10/dist-packages (from scikit-image->easyocr) (24.1)\n",
            "Requirement already satisfied: lazy-loader>=0.4 in /usr/local/lib/python3.10/dist-packages (from scikit-image->easyocr) (0.4)\n",
            "Requirement already satisfied: MarkupSafe>=2.0 in /usr/local/lib/python3.10/dist-packages (from jinja2->torch->easyocr) (2.1.5)\n",
            "Requirement already satisfied: mpmath<1.4,>=1.1.0 in /usr/local/lib/python3.10/dist-packages (from sympy->torch->easyocr) (1.3.0)\n",
            "Downloading easyocr-1.7.1-py3-none-any.whl (2.9 MB)\n",
            "\u001b[2K   \u001b[90m━━━━━━━━━━━━━━━━━━━━━━━━━━━━━━━━━━━━━━━━\u001b[0m \u001b[32m2.9/2.9 MB\u001b[0m \u001b[31m48.3 MB/s\u001b[0m eta \u001b[36m0:00:00\u001b[0m\n",
            "\u001b[?25hDownloading ninja-1.11.1.1-py2.py3-none-manylinux1_x86_64.manylinux_2_5_x86_64.whl (307 kB)\n",
            "\u001b[2K   \u001b[90m━━━━━━━━━━━━━━━━━━━━━━━━━━━━━━━━━━━━━━━━\u001b[0m \u001b[32m307.2/307.2 kB\u001b[0m \u001b[31m28.1 MB/s\u001b[0m eta \u001b[36m0:00:00\u001b[0m\n",
            "\u001b[?25hDownloading python_bidi-0.6.0-cp310-cp310-manylinux_2_17_x86_64.manylinux2014_x86_64.whl (281 kB)\n",
            "\u001b[2K   \u001b[90m━━━━━━━━━━━━━━━━━━━━━━━━━━━━━━━━━━━━━━━━\u001b[0m \u001b[32m281.3/281.3 kB\u001b[0m \u001b[31m26.2 MB/s\u001b[0m eta \u001b[36m0:00:00\u001b[0m\n",
            "\u001b[?25hInstalling collected packages: python-bidi, ninja, easyocr\n",
            "Successfully installed easyocr-1.7.1 ninja-1.11.1.1 python-bidi-0.6.0\n"
          ]
        }
      ]
    },
    {
      "cell_type": "code",
      "source": [
        "!pip install opencv-python"
      ],
      "metadata": {
        "colab": {
          "base_uri": "https://localhost:8080/"
        },
        "id": "69njrZCWCfg5",
        "outputId": "29a9c3dd-b442-419a-84a2-bf68ce90cf0a"
      },
      "id": "69njrZCWCfg5",
      "execution_count": null,
      "outputs": [
        {
          "output_type": "stream",
          "name": "stdout",
          "text": [
            "Requirement already satisfied: opencv-python in /usr/local/lib/python3.10/dist-packages (4.10.0.84)\n",
            "Requirement already satisfied: numpy>=1.21.2 in /usr/local/lib/python3.10/dist-packages (from opencv-python) (1.26.4)\n"
          ]
        }
      ]
    },
    {
      "cell_type": "code",
      "source": [
        "import cv2\n",
        "import easyocr\n",
        "import matplotlib.pyplot as plt\n",
        "\n",
        "for image_name in os.listdir('../images_clean'):\n",
        "    reader = easyocr.Reader(['en'], gpu=False)\n",
        "    image_path = os.path.join('../images_clean', image_name)\n",
        "    text_detections = reader.readtext(image_path)\n",
        "    for detection in text_detections:\n",
        "        # print(detection)\n",
        "        text = detection[1]\n",
        "        print(text)\n",
        "\n"
      ],
      "metadata": {
        "colab": {
          "base_uri": "https://localhost:8080/",
          "height": 1000
        },
        "id": "U5hqXJd92lx0",
        "outputId": "279c0cdf-bf16-49b5-cbb3-d995192ad44f"
      },
      "id": "U5hqXJd92lx0",
      "execution_count": null,
      "outputs": [
        {
          "output_type": "stream",
          "name": "stderr",
          "text": [
            "WARNING:easyocr.easyocr:Using CPU. Note: This module is much faster with a GPU.\n",
            "/usr/local/lib/python3.10/dist-packages/easyocr/detection.py:78: FutureWarning: You are using `torch.load` with `weights_only=False` (the current default value), which uses the default pickle module implicitly. It is possible to construct malicious pickle data which will execute arbitrary code during unpickling (See https://github.com/pytorch/pytorch/blob/main/SECURITY.md#untrusted-models for more details). In a future release, the default value for `weights_only` will be flipped to `True`. This limits the functions that could be executed during unpickling. Arbitrary objects will no longer be allowed to be loaded via this mode unless they are explicitly allowlisted by the user via `torch.serialization.add_safe_globals`. We recommend you start setting `weights_only=True` for any use case where you don't have full control of the loaded file. Please open an issue on GitHub for any issues related to this experimental feature.\n",
            "  net.load_state_dict(copyStateDict(torch.load(trained_model, map_location=device)))\n",
            "/usr/local/lib/python3.10/dist-packages/easyocr/recognition.py:169: FutureWarning: You are using `torch.load` with `weights_only=False` (the current default value), which uses the default pickle module implicitly. It is possible to construct malicious pickle data which will execute arbitrary code during unpickling (See https://github.com/pytorch/pytorch/blob/main/SECURITY.md#untrusted-models for more details). In a future release, the default value for `weights_only` will be flipped to `True`. This limits the functions that could be executed during unpickling. Arbitrary objects will no longer be allowed to be loaded via this mode unless they are explicitly allowlisted by the user via `torch.serialization.add_safe_globals`. We recommend you start setting `weights_only=True` for any use case where you don't have full control of the loaded file. Please open an issue on GitHub for any issues related to this experimental feature.\n",
            "  state_dict = torch.load(model_path, map_location=device)\n",
            "WARNING:easyocr.easyocr:Using CPU. Note: This module is much faster with a GPU.\n"
          ]
        },
        {
          "output_type": "stream",
          "name": "stdout",
          "text": [
            "Width\n",
            "1CM:\n",
            "Length\n",
            "9 Meter\n"
          ]
        },
        {
          "output_type": "stream",
          "name": "stderr",
          "text": [
            "WARNING:easyocr.easyocr:Using CPU. Note: This module is much faster with a GPU.\n"
          ]
        },
        {
          "output_type": "stream",
          "name": "stdout",
          "text": [
            "Deodorizing module\n",
            "Cat litter shovel\n",
            "Adsorb barmful gubstances and reduce odor\n",
            "Regardless of soll gand,\n",
            "wood sand, crystal gand\n",
            "alter unused cat IItter\n"
          ]
        },
        {
          "output_type": "stream",
          "name": "stderr",
          "text": [
            "WARNING:easyocr.easyocr:Using CPU. Note: This module is much faster with a GPU.\n"
          ]
        },
        {
          "output_type": "stream",
          "name": "stdout",
          "text": [
            "44\"\n",
            "6.75 LBS\n"
          ]
        },
        {
          "output_type": "stream",
          "name": "stderr",
          "text": [
            "WARNING:easyocr.easyocr:Using CPU. Note: This module is much faster with a GPU.\n"
          ]
        },
        {
          "output_type": "stream",
          "name": "stdout",
          "text": [
            "Size\n",
            "12inches\n",
            "/30.Scm\n",
            "4.2inches\n",
            "6inches\n",
            "9.Sinches/24.1cm\n",
            "[10.7cm\n",
            "DREAA\n",
            "BiG _\n"
          ]
        },
        {
          "output_type": "stream",
          "name": "stderr",
          "text": [
            "WARNING:easyocr.easyocr:Using CPU. Note: This module is much faster with a GPU.\n"
          ]
        },
        {
          "output_type": "stream",
          "name": "stdout",
          "text": [
            "Size Comparison\n",
            "Height\n",
            "16 cm\n",
            "Example size\n",
            "Samsung S9+\n",
            "6.5 cm\n",
            "8.5cm\n",
            "7.Scm\n"
          ]
        },
        {
          "output_type": "stream",
          "name": "stderr",
          "text": [
            "WARNING:easyocr.easyocr:Using CPU. Note: This module is much faster with a GPU.\n"
          ]
        },
        {
          "output_type": "stream",
          "name": "stdout",
          "text": [
            "1\n",
            "73cm/28.7in\n",
            "Scm/1.97in\n"
          ]
        },
        {
          "output_type": "stream",
          "name": "stderr",
          "text": [
            "WARNING:easyocr.easyocr:Using CPU. Note: This module is much faster with a GPU.\n"
          ]
        },
        {
          "output_type": "stream",
          "name": "stdout",
          "text": [
            "Product Information\n",
            "Specifications:\n",
            "Material: Premium Beech Wood\n",
            "Size: 50*13.5*11cm / 19.7*13.5*4.1inch\n",
            "Rod Diameter: 3.8cm / 1.Sinch\n",
            "Weight: 2.1KG / 4.6lbs\n",
            "Load Bearing: 300KG / 660lbs\n",
            "Large Size:\n",
            "16.9in/43cm\n",
            "1\n",
            "Yamyshine\n",
            "8\n",
            "19.7in/socm\n",
            "5.3in/13.5cm\n"
          ]
        },
        {
          "output_type": "stream",
          "name": "stderr",
          "text": [
            "WARNING:easyocr.easyocr:Using CPU. Note: This module is much faster with a GPU.\n"
          ]
        },
        {
          "output_type": "stream",
          "name": "stdout",
          "text": [
            "Ideal Bed & Armchair Cover\n",
            "Neat size foldaway\n",
            "Reversible; black on one\n",
            "side\n",
            "grey on the other\n",
            "c0 In\n",
            "Sturdy & lightwcight\n",
            "63-n\n",
            "2.6 Ibs\n",
            "1.2 kg\n",
            "4G0 cm\n"
          ]
        },
        {
          "output_type": "stream",
          "name": "stderr",
          "text": [
            "WARNING:easyocr.easyocr:Using CPU. Note: This module is much faster with a GPU.\n"
          ]
        },
        {
          "output_type": "stream",
          "name": "stdout",
          "text": [
            "Max 60W\n",
            "Power Delivery\n",
            "Fast charging your USB-C laptop\n",
            "1\n",
            "20V/3A\n",
            "(Max )\n",
            "Charged\n",
            "100%\n"
          ]
        },
        {
          "output_type": "stream",
          "name": "stderr",
          "text": [
            "WARNING:easyocr.easyocr:Using CPU. Note: This module is much faster with a GPU.\n"
          ]
        },
        {
          "output_type": "stream",
          "name": "stdout",
          "text": [
            "Calabrian\n",
            "Powder\n",
            "aCa-eean\n",
            "Chili\n"
          ]
        },
        {
          "output_type": "stream",
          "name": "stderr",
          "text": [
            "WARNING:easyocr.easyocr:Using CPU. Note: This module is much faster with a GPU.\n"
          ]
        },
        {
          "output_type": "stream",
          "name": "stdout",
          "text": [
            "Dol un\n",
            "E26 Medium Base\n",
            "l\n",
            "4.2 Inches\n"
          ]
        },
        {
          "output_type": "stream",
          "name": "stderr",
          "text": [
            "WARNING:easyocr.easyocr:Using CPU. Note: This module is much faster with a GPU.\n"
          ]
        },
        {
          "output_type": "stream",
          "name": "stdout",
          "text": [
            "Specifications\n",
            "Ice Maker\n",
            "SfcI\n",
            "IB\n",
            "ao\n",
            "Color\n",
            "Stainless steel\n",
            "Product dimensions: 11.7*14.4*14.8 in\n",
            "Ice Store Capacity\n",
            "2.2 Ibs\n",
            "Capacity of making ice\n",
            "33\n",
            "Ibs/day\n",
            "Power Rate: 110W\n",
            "Water tank capacity\n",
            "3.2L\n",
            "OupT\n"
          ]
        },
        {
          "output_type": "stream",
          "name": "stderr",
          "text": [
            "WARNING:easyocr.easyocr:Using CPU. Note: This module is much faster with a GPU.\n"
          ]
        },
        {
          "output_type": "stream",
          "name": "stdout",
          "text": [
            "12V Car Heating \n",
            "Powered by DC 12V cigarette lighter plug power source_\n",
            "built-in\n",
            "fuse , effectively prevent electrical overload\n",
            "universal for\n",
            "12V power source cars\n",
            "Cup\n"
          ]
        },
        {
          "output_type": "stream",
          "name": "stderr",
          "text": [
            "WARNING:easyocr.easyocr:Using CPU. Note: This module is much faster with a GPU.\n"
          ]
        },
        {
          "output_type": "stream",
          "name": "stdout",
          "text": [
            "Rapid Cooling\n",
            "12OOORPM\n",
            "Dual Cooling Fans\n",
            "Low Aei\n",
            "684V\n",
            "6-84V\n",
            "Glubact)\n",
            "Globazt/\n"
          ]
        },
        {
          "output_type": "stream",
          "name": "stderr",
          "text": [
            "WARNING:easyocr.easyocr:Using CPU. Note: This module is much faster with a GPU.\n"
          ]
        },
        {
          "output_type": "stream",
          "name": "stdout",
          "text": [
            "70\n",
            "XRt\n",
            "110_\n",
            "cm\n",
            "cm\n"
          ]
        },
        {
          "output_type": "stream",
          "name": "stderr",
          "text": [
            "WARNING:easyocr.easyocr:Using CPU. Note: This module is much faster with a GPU.\n"
          ]
        },
        {
          "output_type": "stream",
          "name": "stdout",
          "text": [
            "Our Faux-Leather & Textured Velvet\n",
            "fabrics are durable as they are soft\n",
            "Cushion covers are removable and machine washable\n",
            "Easy to spot clean all other surfaces\n",
            "Foam cushion for\n",
            "comfort and support\n",
            "Toggle and loop secures\n",
            "cushion from\n",
            "FOR LARGE\n",
            "DOGS UP TO\n",
            "PET\n",
            "75\n",
            "Ibs\n",
            "Maxwell Sofa\n",
            "sliding\n"
          ]
        },
        {
          "output_type": "stream",
          "name": "stderr",
          "text": [
            "WARNING:easyocr.easyocr:Using CPU. Note: This module is much faster with a GPU.\n"
          ]
        },
        {
          "output_type": "stream",
          "name": "stdout",
          "text": [
            "Soarg Dn\n",
            "6.2 in / 16 cm\n",
            "9.4 in / 24 cm\n"
          ]
        },
        {
          "output_type": "stream",
          "name": "stderr",
          "text": [
            "WARNING:easyocr.easyocr:Using CPU. Note: This module is much faster with a GPU.\n"
          ]
        },
        {
          "output_type": "stream",
          "name": "stdout",
          "text": [
            ";\n",
            "8\n",
            "8\n",
            "Izge\n",
            "4tiee\n",
            "inat\n",
            "Onpn t\n",
            "an_'B\n"
          ]
        },
        {
          "output_type": "stream",
          "name": "stderr",
          "text": [
            "WARNING:easyocr.easyocr:Using CPU. Note: This module is much faster with a GPU.\n"
          ]
        },
        {
          "output_type": "stream",
          "name": "stdout",
          "text": [
            "OR\n",
            "@AC cable\n",
            "85-265v1oow\n",
            "OHeatsink and chip\n",
            "@12V -1A Power\n",
            "12V-IA Power\n",
            "Power adapter\n",
            "supply\n",
            "adapter\n",
            "or 0\n",
            "LED drive\n",
            "Assembly Display\n",
            "Fan drive\n"
          ]
        },
        {
          "output_type": "stream",
          "name": "stderr",
          "text": [
            "WARNING:easyocr.easyocr:Using CPU. Note: This module is much faster with a GPU.\n"
          ]
        },
        {
          "output_type": "stream",
          "name": "stdout",
          "text": [
            "Model Name\n",
            "Commercial Ice Maker\n",
            "Machine\n",
            "Capacity\n",
            "0.6 Cubic Feet\n",
            "(88\n",
            "Wattage\n",
            "280.0 Watts\n",
            "Voltage\n",
            "120.0 Volts of\n",
            "Alternating Current\n"
          ]
        },
        {
          "output_type": "stream",
          "name": "stderr",
          "text": [
            "WARNING:easyocr.easyocr:Using CPU. Note: This module is much faster with a GPU.\n"
          ]
        },
        {
          "output_type": "stream",
          "name": "stdout",
          "text": [
            "Sports\n",
            "headphones\n",
            "You Can't shakeit offwhen\n",
            "you're exercising\n",
            "Clip-on type\n",
            "Not into the ear canal\n",
            "More comfortable to wear\n",
            "Big Horn\n",
            "High moving circle;\n",
            "surging sound field\n",
            "A single 4.7g\n",
            "Bluetooth 5.3\n",
            "Sync sound effects\n",
            "Lightweight design\n",
            "Chip transfer speed\n",
            "The sound is synchronized\n",
            "increased by 90%\n",
            "with the game sound\n",
            "2\n",
            "68\n",
            "lh\n",
            "24h\n",
            "480h\n",
            "Extra\n",
            "endurance\n",
            "Extra\n",
            "standby\n",
            "Smart charging\n",
            "(used with charging cabin)\n",
            "(used with charging cabin)\n",
            "long\n",
            "long\n"
          ]
        },
        {
          "output_type": "stream",
          "name": "stderr",
          "text": [
            "WARNING:easyocr.easyocr:Using CPU. Note: This module is much faster with a GPU.\n"
          ]
        },
        {
          "output_type": "stream",
          "name": "stdout",
          "text": [
            "Extra 1OFT Long Cord\n"
          ]
        },
        {
          "output_type": "stream",
          "name": "stderr",
          "text": [
            "WARNING:easyocr.easyocr:Using CPU. Note: This module is much faster with a GPU.\n"
          ]
        },
        {
          "output_type": "stream",
          "name": "stdout",
          "text": [
            "Desktop Size\n",
            "40\"\n",
            "24\"\n",
            "{\n",
            "1\n",
            "o\n"
          ]
        },
        {
          "output_type": "stream",
          "name": "stderr",
          "text": [
            "WARNING:easyocr.easyocr:Using CPU. Note: This module is much faster with a GPU.\n"
          ]
        },
        {
          "output_type": "stream",
          "name": "stdout",
          "text": [
            "JWChe\n",
            "7\" / 18cm\n",
            "4.3\"/11cm\n",
            "1.4\"/\n",
            "\"[3.Scm\n"
          ]
        },
        {
          "output_type": "stream",
          "name": "stderr",
          "text": [
            "WARNING:easyocr.easyocr:Using CPU. Note: This module is much faster with a GPU.\n"
          ]
        },
        {
          "output_type": "stream",
          "name": "stdout",
          "text": [
            "In the Box\n",
            "25mm\n",
            "134mm\n",
            "Handle * 1\n",
            "68.3mm\n",
            "Specifications\n",
            "ID\n",
            "4153\n",
            "Compatibility\n",
            "plate, etc mount for ARRI-style\n",
            "Product Dimensions\n",
            "134.0 * 68.3 x 27.8mm\n",
            "Package Dimensions\n",
            "155.0 * 81.5 x 42.Omm\n",
            "Product Weight\n",
            "156.0 *\n",
            "5g\n",
            "Package Weight\n",
            "192.2 + 5g\n",
            "Material(s)\n",
            "Aluminum Alloy\n",
            "Cage,\n"
          ]
        },
        {
          "output_type": "error",
          "ename": "OSError",
          "evalue": "ImageIO does not generally support reading folders. Limited support may be available via specific plugins. Specify the plugin explicitly using the `plugin` kwarg, e.g. `plugin='DICOM'`",
          "traceback": [
            "\u001b[0;31m---------------------------------------------------------------------------\u001b[0m",
            "\u001b[0;31mOSError\u001b[0m                                   Traceback (most recent call last)",
            "\u001b[0;32m<ipython-input-11-c745be623c1e>\u001b[0m in \u001b[0;36m<cell line: 5>\u001b[0;34m()\u001b[0m\n\u001b[1;32m      6\u001b[0m     \u001b[0mreader\u001b[0m \u001b[0;34m=\u001b[0m \u001b[0measyocr\u001b[0m\u001b[0;34m.\u001b[0m\u001b[0mReader\u001b[0m\u001b[0;34m(\u001b[0m\u001b[0;34m[\u001b[0m\u001b[0;34m'en'\u001b[0m\u001b[0;34m]\u001b[0m\u001b[0;34m,\u001b[0m \u001b[0mgpu\u001b[0m\u001b[0;34m=\u001b[0m\u001b[0;32mFalse\u001b[0m\u001b[0;34m)\u001b[0m\u001b[0;34m\u001b[0m\u001b[0;34m\u001b[0m\u001b[0m\n\u001b[1;32m      7\u001b[0m     \u001b[0mimage_path\u001b[0m \u001b[0;34m=\u001b[0m \u001b[0mos\u001b[0m\u001b[0;34m.\u001b[0m\u001b[0mpath\u001b[0m\u001b[0;34m.\u001b[0m\u001b[0mjoin\u001b[0m\u001b[0;34m(\u001b[0m\u001b[0;34m'../images_clean'\u001b[0m\u001b[0;34m,\u001b[0m \u001b[0mimage_name\u001b[0m\u001b[0;34m)\u001b[0m\u001b[0;34m\u001b[0m\u001b[0;34m\u001b[0m\u001b[0m\n\u001b[0;32m----> 8\u001b[0;31m     \u001b[0mtext_detections\u001b[0m \u001b[0;34m=\u001b[0m \u001b[0mreader\u001b[0m\u001b[0;34m.\u001b[0m\u001b[0mreadtext\u001b[0m\u001b[0;34m(\u001b[0m\u001b[0mimage_path\u001b[0m\u001b[0;34m)\u001b[0m\u001b[0;34m\u001b[0m\u001b[0;34m\u001b[0m\u001b[0m\n\u001b[0m\u001b[1;32m      9\u001b[0m     \u001b[0;32mfor\u001b[0m \u001b[0mdetection\u001b[0m \u001b[0;32min\u001b[0m \u001b[0mtext_detections\u001b[0m\u001b[0;34m:\u001b[0m\u001b[0;34m\u001b[0m\u001b[0;34m\u001b[0m\u001b[0m\n\u001b[1;32m     10\u001b[0m         \u001b[0;31m# print(detection)\u001b[0m\u001b[0;34m\u001b[0m\u001b[0;34m\u001b[0m\u001b[0m\n",
            "\u001b[0;32m/usr/local/lib/python3.10/dist-packages/easyocr/easyocr.py\u001b[0m in \u001b[0;36mreadtext\u001b[0;34m(self, image, decoder, beamWidth, batch_size, workers, allowlist, blocklist, detail, rotation_info, paragraph, min_size, contrast_ths, adjust_contrast, filter_ths, text_threshold, low_text, link_threshold, canvas_size, mag_ratio, slope_ths, ycenter_ths, height_ths, width_ths, y_ths, x_ths, add_margin, threshold, bbox_min_score, bbox_min_size, max_candidates, output_format)\u001b[0m\n\u001b[1;32m    452\u001b[0m         \u001b[0mimage\u001b[0m\u001b[0;34m:\u001b[0m \u001b[0mfile\u001b[0m \u001b[0mpath\u001b[0m \u001b[0;32mor\u001b[0m \u001b[0mnumpy\u001b[0m\u001b[0;34m-\u001b[0m\u001b[0marray\u001b[0m \u001b[0;32mor\u001b[0m \u001b[0ma\u001b[0m \u001b[0mbyte\u001b[0m \u001b[0mstream\u001b[0m \u001b[0mobject\u001b[0m\u001b[0;34m\u001b[0m\u001b[0;34m\u001b[0m\u001b[0m\n\u001b[1;32m    453\u001b[0m         '''\n\u001b[0;32m--> 454\u001b[0;31m         \u001b[0mimg\u001b[0m\u001b[0;34m,\u001b[0m \u001b[0mimg_cv_grey\u001b[0m \u001b[0;34m=\u001b[0m \u001b[0mreformat_input\u001b[0m\u001b[0;34m(\u001b[0m\u001b[0mimage\u001b[0m\u001b[0;34m)\u001b[0m\u001b[0;34m\u001b[0m\u001b[0;34m\u001b[0m\u001b[0m\n\u001b[0m\u001b[1;32m    455\u001b[0m \u001b[0;34m\u001b[0m\u001b[0m\n\u001b[1;32m    456\u001b[0m         horizontal_list, free_list = self.detect(img, \n",
            "\u001b[0;32m/usr/local/lib/python3.10/dist-packages/easyocr/utils.py\u001b[0m in \u001b[0;36mreformat_input\u001b[0;34m(image)\u001b[0m\n\u001b[1;32m    739\u001b[0m             \u001b[0mimg_cv_grey\u001b[0m \u001b[0;34m=\u001b[0m \u001b[0mcv2\u001b[0m\u001b[0;34m.\u001b[0m\u001b[0mimread\u001b[0m\u001b[0;34m(\u001b[0m\u001b[0mimage\u001b[0m\u001b[0;34m,\u001b[0m \u001b[0mcv2\u001b[0m\u001b[0;34m.\u001b[0m\u001b[0mIMREAD_GRAYSCALE\u001b[0m\u001b[0;34m)\u001b[0m\u001b[0;34m\u001b[0m\u001b[0;34m\u001b[0m\u001b[0m\n\u001b[1;32m    740\u001b[0m             \u001b[0mimage\u001b[0m \u001b[0;34m=\u001b[0m \u001b[0mos\u001b[0m\u001b[0;34m.\u001b[0m\u001b[0mpath\u001b[0m\u001b[0;34m.\u001b[0m\u001b[0mexpanduser\u001b[0m\u001b[0;34m(\u001b[0m\u001b[0mimage\u001b[0m\u001b[0;34m)\u001b[0m\u001b[0;34m\u001b[0m\u001b[0;34m\u001b[0m\u001b[0m\n\u001b[0;32m--> 741\u001b[0;31m         \u001b[0mimg\u001b[0m \u001b[0;34m=\u001b[0m \u001b[0mloadImage\u001b[0m\u001b[0;34m(\u001b[0m\u001b[0mimage\u001b[0m\u001b[0;34m)\u001b[0m  \u001b[0;31m# can accept URL\u001b[0m\u001b[0;34m\u001b[0m\u001b[0;34m\u001b[0m\u001b[0m\n\u001b[0m\u001b[1;32m    742\u001b[0m     \u001b[0;32melif\u001b[0m \u001b[0mtype\u001b[0m\u001b[0;34m(\u001b[0m\u001b[0mimage\u001b[0m\u001b[0;34m)\u001b[0m \u001b[0;34m==\u001b[0m \u001b[0mbytes\u001b[0m\u001b[0;34m:\u001b[0m\u001b[0;34m\u001b[0m\u001b[0;34m\u001b[0m\u001b[0m\n\u001b[1;32m    743\u001b[0m         \u001b[0mnparr\u001b[0m \u001b[0;34m=\u001b[0m \u001b[0mnp\u001b[0m\u001b[0;34m.\u001b[0m\u001b[0mfrombuffer\u001b[0m\u001b[0;34m(\u001b[0m\u001b[0mimage\u001b[0m\u001b[0;34m,\u001b[0m \u001b[0mnp\u001b[0m\u001b[0;34m.\u001b[0m\u001b[0muint8\u001b[0m\u001b[0;34m)\u001b[0m\u001b[0;34m\u001b[0m\u001b[0;34m\u001b[0m\u001b[0m\n",
            "\u001b[0;32m/usr/local/lib/python3.10/dist-packages/easyocr/imgproc.py\u001b[0m in \u001b[0;36mloadImage\u001b[0;34m(img_file)\u001b[0m\n\u001b[1;32m     10\u001b[0m \u001b[0;34m\u001b[0m\u001b[0m\n\u001b[1;32m     11\u001b[0m \u001b[0;32mdef\u001b[0m \u001b[0mloadImage\u001b[0m\u001b[0;34m(\u001b[0m\u001b[0mimg_file\u001b[0m\u001b[0;34m)\u001b[0m\u001b[0;34m:\u001b[0m\u001b[0;34m\u001b[0m\u001b[0;34m\u001b[0m\u001b[0m\n\u001b[0;32m---> 12\u001b[0;31m     \u001b[0mimg\u001b[0m \u001b[0;34m=\u001b[0m \u001b[0mio\u001b[0m\u001b[0;34m.\u001b[0m\u001b[0mimread\u001b[0m\u001b[0;34m(\u001b[0m\u001b[0mimg_file\u001b[0m\u001b[0;34m)\u001b[0m           \u001b[0;31m# RGB order\u001b[0m\u001b[0;34m\u001b[0m\u001b[0;34m\u001b[0m\u001b[0m\n\u001b[0m\u001b[1;32m     13\u001b[0m     \u001b[0;32mif\u001b[0m \u001b[0mimg\u001b[0m\u001b[0;34m.\u001b[0m\u001b[0mshape\u001b[0m\u001b[0;34m[\u001b[0m\u001b[0;36m0\u001b[0m\u001b[0;34m]\u001b[0m \u001b[0;34m==\u001b[0m \u001b[0;36m2\u001b[0m\u001b[0;34m:\u001b[0m \u001b[0mimg\u001b[0m \u001b[0;34m=\u001b[0m \u001b[0mimg\u001b[0m\u001b[0;34m[\u001b[0m\u001b[0;36m0\u001b[0m\u001b[0;34m]\u001b[0m\u001b[0;34m\u001b[0m\u001b[0;34m\u001b[0m\u001b[0m\n\u001b[1;32m     14\u001b[0m     \u001b[0;32mif\u001b[0m \u001b[0mlen\u001b[0m\u001b[0;34m(\u001b[0m\u001b[0mimg\u001b[0m\u001b[0;34m.\u001b[0m\u001b[0mshape\u001b[0m\u001b[0;34m)\u001b[0m \u001b[0;34m==\u001b[0m \u001b[0;36m2\u001b[0m \u001b[0;34m:\u001b[0m \u001b[0mimg\u001b[0m \u001b[0;34m=\u001b[0m \u001b[0mcv2\u001b[0m\u001b[0;34m.\u001b[0m\u001b[0mcvtColor\u001b[0m\u001b[0;34m(\u001b[0m\u001b[0mimg\u001b[0m\u001b[0;34m,\u001b[0m \u001b[0mcv2\u001b[0m\u001b[0;34m.\u001b[0m\u001b[0mCOLOR_GRAY2RGB\u001b[0m\u001b[0;34m)\u001b[0m\u001b[0;34m\u001b[0m\u001b[0;34m\u001b[0m\u001b[0m\n",
            "\u001b[0;32m/usr/local/lib/python3.10/dist-packages/skimage/io/_io.py\u001b[0m in \u001b[0;36mimread\u001b[0;34m(fname, as_gray, plugin, **plugin_args)\u001b[0m\n\u001b[1;32m     58\u001b[0m \u001b[0;34m\u001b[0m\u001b[0m\n\u001b[1;32m     59\u001b[0m     \u001b[0;32mwith\u001b[0m \u001b[0mfile_or_url_context\u001b[0m\u001b[0;34m(\u001b[0m\u001b[0mfname\u001b[0m\u001b[0;34m)\u001b[0m \u001b[0;32mas\u001b[0m \u001b[0mfname\u001b[0m\u001b[0;34m:\u001b[0m\u001b[0;34m\u001b[0m\u001b[0;34m\u001b[0m\u001b[0m\n\u001b[0;32m---> 60\u001b[0;31m         \u001b[0mimg\u001b[0m \u001b[0;34m=\u001b[0m \u001b[0mcall_plugin\u001b[0m\u001b[0;34m(\u001b[0m\u001b[0;34m'imread'\u001b[0m\u001b[0;34m,\u001b[0m \u001b[0mfname\u001b[0m\u001b[0;34m,\u001b[0m \u001b[0mplugin\u001b[0m\u001b[0;34m=\u001b[0m\u001b[0mplugin\u001b[0m\u001b[0;34m,\u001b[0m \u001b[0;34m**\u001b[0m\u001b[0mplugin_args\u001b[0m\u001b[0;34m)\u001b[0m\u001b[0;34m\u001b[0m\u001b[0;34m\u001b[0m\u001b[0m\n\u001b[0m\u001b[1;32m     61\u001b[0m \u001b[0;34m\u001b[0m\u001b[0m\n\u001b[1;32m     62\u001b[0m     \u001b[0;32mif\u001b[0m \u001b[0;32mnot\u001b[0m \u001b[0mhasattr\u001b[0m\u001b[0;34m(\u001b[0m\u001b[0mimg\u001b[0m\u001b[0;34m,\u001b[0m \u001b[0;34m'ndim'\u001b[0m\u001b[0;34m)\u001b[0m\u001b[0;34m:\u001b[0m\u001b[0;34m\u001b[0m\u001b[0;34m\u001b[0m\u001b[0m\n",
            "\u001b[0;32m/usr/local/lib/python3.10/dist-packages/skimage/io/manage_plugins.py\u001b[0m in \u001b[0;36mcall_plugin\u001b[0;34m(kind, *args, **kwargs)\u001b[0m\n\u001b[1;32m    215\u001b[0m             \u001b[0;32mraise\u001b[0m \u001b[0mRuntimeError\u001b[0m\u001b[0;34m(\u001b[0m\u001b[0;34mf'Could not find the plugin \"{plugin}\" for {kind}.'\u001b[0m\u001b[0;34m)\u001b[0m\u001b[0;34m\u001b[0m\u001b[0;34m\u001b[0m\u001b[0m\n\u001b[1;32m    216\u001b[0m \u001b[0;34m\u001b[0m\u001b[0m\n\u001b[0;32m--> 217\u001b[0;31m     \u001b[0;32mreturn\u001b[0m \u001b[0mfunc\u001b[0m\u001b[0;34m(\u001b[0m\u001b[0;34m*\u001b[0m\u001b[0margs\u001b[0m\u001b[0;34m,\u001b[0m \u001b[0;34m**\u001b[0m\u001b[0mkwargs\u001b[0m\u001b[0;34m)\u001b[0m\u001b[0;34m\u001b[0m\u001b[0;34m\u001b[0m\u001b[0m\n\u001b[0m\u001b[1;32m    218\u001b[0m \u001b[0;34m\u001b[0m\u001b[0m\n\u001b[1;32m    219\u001b[0m \u001b[0;34m\u001b[0m\u001b[0m\n",
            "\u001b[0;32m/usr/local/lib/python3.10/dist-packages/skimage/io/_plugins/imageio_plugin.py\u001b[0m in \u001b[0;36mimread\u001b[0;34m(*args, **kwargs)\u001b[0m\n\u001b[1;32m      9\u001b[0m \u001b[0;34m@\u001b[0m\u001b[0mwraps\u001b[0m\u001b[0;34m(\u001b[0m\u001b[0mimageio_imread\u001b[0m\u001b[0;34m)\u001b[0m\u001b[0;34m\u001b[0m\u001b[0;34m\u001b[0m\u001b[0m\n\u001b[1;32m     10\u001b[0m \u001b[0;32mdef\u001b[0m \u001b[0mimread\u001b[0m\u001b[0;34m(\u001b[0m\u001b[0;34m*\u001b[0m\u001b[0margs\u001b[0m\u001b[0;34m,\u001b[0m \u001b[0;34m**\u001b[0m\u001b[0mkwargs\u001b[0m\u001b[0;34m)\u001b[0m\u001b[0;34m:\u001b[0m\u001b[0;34m\u001b[0m\u001b[0;34m\u001b[0m\u001b[0m\n\u001b[0;32m---> 11\u001b[0;31m     \u001b[0mout\u001b[0m \u001b[0;34m=\u001b[0m \u001b[0mnp\u001b[0m\u001b[0;34m.\u001b[0m\u001b[0masarray\u001b[0m\u001b[0;34m(\u001b[0m\u001b[0mimageio_imread\u001b[0m\u001b[0;34m(\u001b[0m\u001b[0;34m*\u001b[0m\u001b[0margs\u001b[0m\u001b[0;34m,\u001b[0m \u001b[0;34m**\u001b[0m\u001b[0mkwargs\u001b[0m\u001b[0;34m)\u001b[0m\u001b[0;34m)\u001b[0m\u001b[0;34m\u001b[0m\u001b[0;34m\u001b[0m\u001b[0m\n\u001b[0m\u001b[1;32m     12\u001b[0m     \u001b[0;32mif\u001b[0m \u001b[0;32mnot\u001b[0m \u001b[0mout\u001b[0m\u001b[0;34m.\u001b[0m\u001b[0mflags\u001b[0m\u001b[0;34m[\u001b[0m\u001b[0;34m'WRITEABLE'\u001b[0m\u001b[0;34m]\u001b[0m\u001b[0;34m:\u001b[0m\u001b[0;34m\u001b[0m\u001b[0;34m\u001b[0m\u001b[0m\n\u001b[1;32m     13\u001b[0m         \u001b[0mout\u001b[0m \u001b[0;34m=\u001b[0m \u001b[0mout\u001b[0m\u001b[0;34m.\u001b[0m\u001b[0mcopy\u001b[0m\u001b[0;34m(\u001b[0m\u001b[0;34m)\u001b[0m\u001b[0;34m\u001b[0m\u001b[0;34m\u001b[0m\u001b[0m\n",
            "\u001b[0;32m/usr/local/lib/python3.10/dist-packages/imageio/v3.py\u001b[0m in \u001b[0;36mimread\u001b[0;34m(uri, index, plugin, extension, format_hint, **kwargs)\u001b[0m\n\u001b[1;32m     51\u001b[0m         \u001b[0mcall_kwargs\u001b[0m\u001b[0;34m[\u001b[0m\u001b[0;34m\"index\"\u001b[0m\u001b[0;34m]\u001b[0m \u001b[0;34m=\u001b[0m \u001b[0mindex\u001b[0m\u001b[0;34m\u001b[0m\u001b[0;34m\u001b[0m\u001b[0m\n\u001b[1;32m     52\u001b[0m \u001b[0;34m\u001b[0m\u001b[0m\n\u001b[0;32m---> 53\u001b[0;31m     \u001b[0;32mwith\u001b[0m \u001b[0mimopen\u001b[0m\u001b[0;34m(\u001b[0m\u001b[0muri\u001b[0m\u001b[0;34m,\u001b[0m \u001b[0;34m\"r\"\u001b[0m\u001b[0;34m,\u001b[0m \u001b[0;34m**\u001b[0m\u001b[0mplugin_kwargs\u001b[0m\u001b[0;34m)\u001b[0m \u001b[0;32mas\u001b[0m \u001b[0mimg_file\u001b[0m\u001b[0;34m:\u001b[0m\u001b[0;34m\u001b[0m\u001b[0;34m\u001b[0m\u001b[0m\n\u001b[0m\u001b[1;32m     54\u001b[0m         \u001b[0;32mreturn\u001b[0m \u001b[0mnp\u001b[0m\u001b[0;34m.\u001b[0m\u001b[0masarray\u001b[0m\u001b[0;34m(\u001b[0m\u001b[0mimg_file\u001b[0m\u001b[0;34m.\u001b[0m\u001b[0mread\u001b[0m\u001b[0;34m(\u001b[0m\u001b[0;34m**\u001b[0m\u001b[0mcall_kwargs\u001b[0m\u001b[0;34m)\u001b[0m\u001b[0;34m)\u001b[0m\u001b[0;34m\u001b[0m\u001b[0;34m\u001b[0m\u001b[0m\n\u001b[1;32m     55\u001b[0m \u001b[0;34m\u001b[0m\u001b[0m\n",
            "\u001b[0;32m/usr/local/lib/python3.10/dist-packages/imageio/core/imopen.py\u001b[0m in \u001b[0;36mimopen\u001b[0;34m(uri, io_mode, plugin, extension, format_hint, legacy_mode, **kwargs)\u001b[0m\n\u001b[1;32m    221\u001b[0m             \u001b[0;34m\"Specify the plugin explicitly using the `plugin` kwarg, e.g. `plugin='DICOM'`\"\u001b[0m\u001b[0;34m\u001b[0m\u001b[0;34m\u001b[0m\u001b[0m\n\u001b[1;32m    222\u001b[0m         )\n\u001b[0;32m--> 223\u001b[0;31m         \u001b[0;32mraise\u001b[0m \u001b[0merr_type\u001b[0m\u001b[0;34m(\u001b[0m\u001b[0merr_msg\u001b[0m\u001b[0;34m)\u001b[0m\u001b[0;34m\u001b[0m\u001b[0;34m\u001b[0m\u001b[0m\n\u001b[0m\u001b[1;32m    224\u001b[0m \u001b[0;34m\u001b[0m\u001b[0m\n\u001b[1;32m    225\u001b[0m     \u001b[0;31m# close the current request here and use fresh/new ones while trying each\u001b[0m\u001b[0;34m\u001b[0m\u001b[0;34m\u001b[0m\u001b[0m\n",
            "\u001b[0;31mOSError\u001b[0m: ImageIO does not generally support reading folders. Limited support may be available via specific plugins. Specify the plugin explicitly using the `plugin` kwarg, e.g. `plugin='DICOM'`"
          ]
        }
      ]
    },
    {
      "cell_type": "code",
      "source": [],
      "metadata": {
        "colab": {
          "base_uri": "https://localhost:8080/",
          "height": 141
        },
        "id": "OtgVXWGjGnRi",
        "outputId": "27dec6c7-2488-4c7f-fac2-ac339b3917a3"
      },
      "id": "OtgVXWGjGnRi",
      "execution_count": null,
      "outputs": [
        {
          "output_type": "error",
          "ename": "NameError",
          "evalue": "name 'sample_test' is not defined",
          "traceback": [
            "\u001b[0;31m---------------------------------------------------------------------------\u001b[0m",
            "\u001b[0;31mNameError\u001b[0m                                 Traceback (most recent call last)",
            "\u001b[0;32m<ipython-input-5-4d0c3f1ac6fa>\u001b[0m in \u001b[0;36m<cell line: 1>\u001b[0;34m()\u001b[0m\n\u001b[0;32m----> 1\u001b[0;31m \u001b[0msample_test\u001b[0m\u001b[0;34m\u001b[0m\u001b[0;34m\u001b[0m\u001b[0m\n\u001b[0m",
            "\u001b[0;31mNameError\u001b[0m: name 'sample_test' is not defined"
          ]
        }
      ]
    },
    {
      "cell_type": "code",
      "source": [
        "!ls ../"
      ],
      "metadata": {
        "colab": {
          "base_uri": "https://localhost:8080/"
        },
        "id": "v1WROW3w33z1",
        "outputId": "c16dac7c-ca1f-4772-8ee2-e8ac0595140c"
      },
      "id": "v1WROW3w33z1",
      "execution_count": null,
      "outputs": [
        {
          "output_type": "stream",
          "name": "stdout",
          "text": [
            "bin\t\t\t    dev\t\t  lib\t  mnt\t\t\t    root  tmp\n",
            "boot\t\t\t    etc\t\t  lib32   NGC-DL-CONTAINER-LICENSE  run   tools\n",
            "content\t\t\t    home\t  lib64   opt\t\t\t    sbin  usr\n",
            "cuda-keyring_1.0-1_all.deb  images\t  libx32  proc\t\t\t    srv   var\n",
            "datalab\t\t\t    images_clean  media   python-apt\t\t    sys\n"
          ]
        }
      ]
    },
    {
      "cell_type": "code",
      "source": [],
      "metadata": {
        "colab": {
          "base_uri": "https://localhost:8080/"
        },
        "id": "s1uqYXrW6H0Q",
        "outputId": "10ef6a89-89e8-4fb2-bfd9-0d14c42fccab"
      },
      "id": "s1uqYXrW6H0Q",
      "execution_count": null,
      "outputs": [
        {
          "output_type": "stream",
          "name": "stdout",
          "text": [
            "Requirement already satisfied: keras in /usr/local/lib/python3.10/dist-packages (3.4.1)\n",
            "Requirement already satisfied: absl-py in /usr/local/lib/python3.10/dist-packages (from keras) (1.4.0)\n",
            "Requirement already satisfied: numpy in /usr/local/lib/python3.10/dist-packages (from keras) (1.26.4)\n",
            "Requirement already satisfied: rich in /usr/local/lib/python3.10/dist-packages (from keras) (13.8.1)\n",
            "Requirement already satisfied: namex in /usr/local/lib/python3.10/dist-packages (from keras) (0.0.8)\n",
            "Requirement already satisfied: h5py in /usr/local/lib/python3.10/dist-packages (from keras) (3.11.0)\n",
            "Requirement already satisfied: optree in /usr/local/lib/python3.10/dist-packages (from keras) (0.12.1)\n",
            "Requirement already satisfied: ml-dtypes in /usr/local/lib/python3.10/dist-packages (from keras) (0.4.0)\n",
            "Requirement already satisfied: packaging in /usr/local/lib/python3.10/dist-packages (from keras) (24.1)\n",
            "Requirement already satisfied: typing-extensions>=4.5.0 in /usr/local/lib/python3.10/dist-packages (from optree->keras) (4.12.2)\n",
            "Requirement already satisfied: markdown-it-py>=2.2.0 in /usr/local/lib/python3.10/dist-packages (from rich->keras) (3.0.0)\n",
            "Requirement already satisfied: pygments<3.0.0,>=2.13.0 in /usr/local/lib/python3.10/dist-packages (from rich->keras) (2.16.1)\n",
            "Requirement already satisfied: mdurl~=0.1 in /usr/local/lib/python3.10/dist-packages (from markdown-it-py>=2.2.0->rich->keras) (0.1.2)\n"
          ]
        }
      ]
    },
    {
      "cell_type": "code",
      "source": [
        "\n"
      ],
      "metadata": {
        "colab": {
          "base_uri": "https://localhost:8080/"
        },
        "id": "lJ91CP7L6wO0",
        "outputId": "e2069e99-d5f1-426f-c8ef-68c8189b6ddd"
      },
      "id": "lJ91CP7L6wO0",
      "execution_count": null,
      "outputs": [
        {
          "output_type": "stream",
          "name": "stdout",
          "text": [
            "Collecting keras-ocr\n",
            "  Downloading keras_ocr-0.9.3-py3-none-any.whl.metadata (8.6 kB)\n",
            "Requirement already satisfied: editdistance in /usr/local/lib/python3.10/dist-packages (from keras-ocr) (0.8.1)\n",
            "Collecting efficientnet==1.0.0 (from keras-ocr)\n",
            "  Downloading efficientnet-1.0.0-py3-none-any.whl.metadata (6.1 kB)\n",
            "Collecting essential_generators (from keras-ocr)\n",
            "  Downloading essential_generators-1.0-py3-none-any.whl.metadata (14 kB)\n",
            "Requirement already satisfied: fonttools in /usr/local/lib/python3.10/dist-packages (from keras-ocr) (4.53.1)\n",
            "Requirement already satisfied: imgaug in /usr/local/lib/python3.10/dist-packages (from keras-ocr) (0.4.0)\n",
            "Collecting pyclipper (from keras-ocr)\n",
            "  Downloading pyclipper-1.3.0.post5-cp310-cp310-manylinux_2_12_x86_64.manylinux2010_x86_64.whl.metadata (9.0 kB)\n",
            "Requirement already satisfied: shapely in /usr/local/lib/python3.10/dist-packages (from keras-ocr) (2.0.6)\n",
            "Requirement already satisfied: tqdm in /usr/local/lib/python3.10/dist-packages (from keras-ocr) (4.66.5)\n",
            "Collecting validators (from keras-ocr)\n",
            "  Downloading validators-0.34.0-py3-none-any.whl.metadata (3.8 kB)\n",
            "Collecting keras-applications<=1.0.8,>=1.0.7 (from efficientnet==1.0.0->keras-ocr)\n",
            "  Downloading Keras_Applications-1.0.8-py3-none-any.whl.metadata (1.7 kB)\n",
            "Requirement already satisfied: scikit-image in /usr/local/lib/python3.10/dist-packages (from efficientnet==1.0.0->keras-ocr) (0.23.2)\n",
            "Requirement already satisfied: six in /usr/local/lib/python3.10/dist-packages (from imgaug->keras-ocr) (1.16.0)\n",
            "Requirement already satisfied: numpy>=1.15 in /usr/local/lib/python3.10/dist-packages (from imgaug->keras-ocr) (1.26.4)\n",
            "Requirement already satisfied: scipy in /usr/local/lib/python3.10/dist-packages (from imgaug->keras-ocr) (1.13.1)\n",
            "Requirement already satisfied: Pillow in /usr/local/lib/python3.10/dist-packages (from imgaug->keras-ocr) (9.4.0)\n",
            "Requirement already satisfied: matplotlib in /usr/local/lib/python3.10/dist-packages (from imgaug->keras-ocr) (3.7.1)\n",
            "Requirement already satisfied: opencv-python in /usr/local/lib/python3.10/dist-packages (from imgaug->keras-ocr) (4.10.0.84)\n",
            "Requirement already satisfied: imageio in /usr/local/lib/python3.10/dist-packages (from imgaug->keras-ocr) (2.34.2)\n",
            "Requirement already satisfied: h5py in /usr/local/lib/python3.10/dist-packages (from keras-applications<=1.0.8,>=1.0.7->efficientnet==1.0.0->keras-ocr) (3.11.0)\n",
            "Requirement already satisfied: networkx>=2.8 in /usr/local/lib/python3.10/dist-packages (from scikit-image->efficientnet==1.0.0->keras-ocr) (3.3)\n",
            "Requirement already satisfied: tifffile>=2022.8.12 in /usr/local/lib/python3.10/dist-packages (from scikit-image->efficientnet==1.0.0->keras-ocr) (2024.8.30)\n",
            "Requirement already satisfied: packaging>=21 in /usr/local/lib/python3.10/dist-packages (from scikit-image->efficientnet==1.0.0->keras-ocr) (24.1)\n",
            "Requirement already satisfied: lazy-loader>=0.4 in /usr/local/lib/python3.10/dist-packages (from scikit-image->efficientnet==1.0.0->keras-ocr) (0.4)\n",
            "Requirement already satisfied: contourpy>=1.0.1 in /usr/local/lib/python3.10/dist-packages (from matplotlib->imgaug->keras-ocr) (1.3.0)\n",
            "Requirement already satisfied: cycler>=0.10 in /usr/local/lib/python3.10/dist-packages (from matplotlib->imgaug->keras-ocr) (0.12.1)\n",
            "Requirement already satisfied: kiwisolver>=1.0.1 in /usr/local/lib/python3.10/dist-packages (from matplotlib->imgaug->keras-ocr) (1.4.7)\n",
            "Requirement already satisfied: pyparsing>=2.3.1 in /usr/local/lib/python3.10/dist-packages (from matplotlib->imgaug->keras-ocr) (3.1.4)\n",
            "Requirement already satisfied: python-dateutil>=2.7 in /usr/local/lib/python3.10/dist-packages (from matplotlib->imgaug->keras-ocr) (2.8.2)\n",
            "Downloading keras_ocr-0.9.3-py3-none-any.whl (42 kB)\n",
            "\u001b[2K   \u001b[90m━━━━━━━━━━━━━━━━━━━━━━━━━━━━━━━━━━━━━━━━\u001b[0m \u001b[32m42.3/42.3 kB\u001b[0m \u001b[31m2.8 MB/s\u001b[0m eta \u001b[36m0:00:00\u001b[0m\n",
            "\u001b[?25hDownloading efficientnet-1.0.0-py3-none-any.whl (17 kB)\n",
            "Downloading essential_generators-1.0-py3-none-any.whl (9.5 MB)\n",
            "\u001b[2K   \u001b[90m━━━━━━━━━━━━━━━━━━━━━━━━━━━━━━━━━━━━━━━━\u001b[0m \u001b[32m9.5/9.5 MB\u001b[0m \u001b[31m57.6 MB/s\u001b[0m eta \u001b[36m0:00:00\u001b[0m\n",
            "\u001b[?25hDownloading pyclipper-1.3.0.post5-cp310-cp310-manylinux_2_12_x86_64.manylinux2010_x86_64.whl (908 kB)\n",
            "\u001b[2K   \u001b[90m━━━━━━━━━━━━━━━━━━━━━━━━━━━━━━━━━━━━━━━━\u001b[0m \u001b[32m908.3/908.3 kB\u001b[0m \u001b[31m39.4 MB/s\u001b[0m eta \u001b[36m0:00:00\u001b[0m\n",
            "\u001b[?25hDownloading validators-0.34.0-py3-none-any.whl (43 kB)\n",
            "\u001b[2K   \u001b[90m━━━━━━━━━━━━━━━━━━━━━━━━━━━━━━━━━━━━━━━━\u001b[0m \u001b[32m43.5/43.5 kB\u001b[0m \u001b[31m2.9 MB/s\u001b[0m eta \u001b[36m0:00:00\u001b[0m\n",
            "\u001b[?25hDownloading Keras_Applications-1.0.8-py3-none-any.whl (50 kB)\n",
            "\u001b[2K   \u001b[90m━━━━━━━━━━━━━━━━━━━━━━━━━━━━━━━━━━━━━━━━\u001b[0m \u001b[32m50.7/50.7 kB\u001b[0m \u001b[31m3.2 MB/s\u001b[0m eta \u001b[36m0:00:00\u001b[0m\n",
            "\u001b[?25hInstalling collected packages: pyclipper, essential_generators, validators, keras-applications, efficientnet, keras-ocr\n",
            "Successfully installed efficientnet-1.0.0 essential_generators-1.0 keras-applications-1.0.8 keras-ocr-0.9.3 pyclipper-1.3.0.post5 validators-0.34.0\n"
          ]
        }
      ]
    },
    {
      "cell_type": "code",
      "source": [],
      "metadata": {
        "colab": {
          "base_uri": "https://localhost:8080/",
          "height": 1000
        },
        "id": "8nIwelFdf2hS",
        "outputId": "8d7a57b9-c365-4021-9b6b-55b2892fb9bf"
      },
      "id": "8nIwelFdf2hS",
      "execution_count": null,
      "outputs": [
        {
          "output_type": "stream",
          "name": "stdout",
          "text": [
            "Looking for /root/.keras-ocr/craft_mlt_25k.h5\n"
          ]
        },
        {
          "output_type": "stream",
          "name": "stderr",
          "text": [
            "WARNING:tensorflow:From /usr/local/lib/python3.10/dist-packages/tensorflow/python/util/dispatch.py:1260: resize_bilinear (from tensorflow.python.ops.image_ops_impl) is deprecated and will be removed in a future version.\n",
            "Instructions for updating:\n",
            "Use `tf.image.resize(...method=ResizeMethod.BILINEAR...)` instead.\n"
          ]
        },
        {
          "output_type": "stream",
          "name": "stdout",
          "text": [
            "Looking for /root/.keras-ocr/crnn_kurapan.h5\n",
            "image\n",
            "1/1 [==============================] - 15s 15s/step\n",
            "2/2 [==============================] - 8s 3s/step\n",
            "[[('deodorizing', array([[ 49.212334, 193.26715 ],\n",
            "       [143.56439 , 196.76166 ],\n",
            "       [142.91232 , 214.36713 ],\n",
            "       [ 48.56028 , 210.87262 ]], dtype=float32)), ('module', array([[145., 196.],\n",
            "       [203., 196.],\n",
            "       [203., 211.],\n",
            "       [145., 211.]], dtype=float32)), ('cat', array([[329., 196.],\n",
            "       [357., 196.],\n",
            "       [357., 211.],\n",
            "       [329., 211.]], dtype=float32)), ('litter', array([[356., 196.],\n",
            "       [399., 196.],\n",
            "       [399., 211.],\n",
            "       [356., 211.]], dtype=float32)), ('shovel', array([[400., 196.],\n",
            "       [451., 196.],\n",
            "       [451., 211.],\n",
            "       [400., 211.]], dtype=float32)), ('adsorb', array([[ 10., 222.],\n",
            "       [ 54., 222.],\n",
            "       [ 54., 235.],\n",
            "       [ 10., 235.]], dtype=float32)), ('barmful', array([[ 55., 222.],\n",
            "       [102., 222.],\n",
            "       [102., 234.],\n",
            "       [ 55., 234.]], dtype=float32)), ('substances', array([[103., 222.],\n",
            "       [170., 222.],\n",
            "       [170., 234.],\n",
            "       [103., 234.]], dtype=float32)), ('and', array([[171., 222.],\n",
            "       [194., 222.],\n",
            "       [194., 234.],\n",
            "       [171., 234.]], dtype=float32)), ('reduce', array([[196., 222.],\n",
            "       [238., 222.],\n",
            "       [238., 234.],\n",
            "       [196., 234.]], dtype=float32)), ('odor', array([[239., 222.],\n",
            "       [269., 222.],\n",
            "       [269., 234.],\n",
            "       [239., 234.]], dtype=float32)), ('regardless', array([[330., 224.],\n",
            "       [397., 224.],\n",
            "       [397., 239.],\n",
            "       [330., 239.]], dtype=float32)), ('of', array([[397., 224.],\n",
            "       [412., 224.],\n",
            "       [412., 236.],\n",
            "       [397., 236.]], dtype=float32)), ('soll', array([[412., 224.],\n",
            "       [435., 224.],\n",
            "       [435., 236.],\n",
            "       [412., 236.]], dtype=float32)), ('sand', array([[437., 224.],\n",
            "       [469., 224.],\n",
            "       [469., 236.],\n",
            "       [437., 236.]], dtype=float32)), ('wood', array([[330., 245.],\n",
            "       [364., 245.],\n",
            "       [364., 257.],\n",
            "       [330., 257.]], dtype=float32)), ('sand', array([[365., 245.],\n",
            "       [398., 245.],\n",
            "       [398., 257.],\n",
            "       [365., 257.]], dtype=float32)), ('crystal', array([[399.5345 , 247.08621],\n",
            "       [440.92072, 244.65173],\n",
            "       [441.6759 , 257.48965],\n",
            "       [400.28967, 259.92413]], dtype=float32)), ('sand', array([[443., 245.],\n",
            "       [474., 245.],\n",
            "       [474., 257.],\n",
            "       [443., 257.]], dtype=float32)), ('alter', array([[330., 266.],\n",
            "       [361., 266.],\n",
            "       [361., 278.],\n",
            "       [330., 278.]], dtype=float32)), ('litter', array([[428., 266.],\n",
            "       [460., 266.],\n",
            "       [460., 278.],\n",
            "       [428., 278.]], dtype=float32)), ('unused', array([[362.99997, 266.99997],\n",
            "       [405.99997, 266.99997],\n",
            "       [405.99997, 277.99997],\n",
            "       [362.99997, 277.99997]], dtype=float32)), ('cat', array([[408., 267.],\n",
            "       [427., 267.],\n",
            "       [427., 278.],\n",
            "       [408., 278.]], dtype=float32))], [('professional', array([[  5.      ,   8.      ],\n",
            "       [116.999985,   8.      ],\n",
            "       [116.999985,  24.999996],\n",
            "       [  5.      ,  24.999996]], dtype=float32)), ('tools', array([[120.,   8.],\n",
            "       [167.,   8.],\n",
            "       [167.,  25.],\n",
            "       [120.,  25.]], dtype=float32)), ('diameter', array([[43., 57.],\n",
            "       [83., 57.],\n",
            "       [83., 67.],\n",
            "       [43., 67.]], dtype=float32)), ('sosrm', array([[402.,  57.],\n",
            "       [431.,  57.],\n",
            "       [431.,  67.],\n",
            "       [402.,  67.]], dtype=float32)), ('blade', array([[19., 58.],\n",
            "       [43., 58.],\n",
            "       [43., 67.],\n",
            "       [19., 67.]], dtype=float32)), ('voltage', array([[44.2427  , 81.45169 ],\n",
            "       [77.70113 , 84.638214],\n",
            "       [76.71237 , 95.02023 ],\n",
            "       [43.253937, 91.83371 ]], dtype=float32)), ('2ov', array([[409.,  82.],\n",
            "       [431.,  82.],\n",
            "       [431.,  92.],\n",
            "       [409.,  92.]], dtype=float32)), ('rated', array([[19., 83.],\n",
            "       [45., 83.],\n",
            "       [45., 92.],\n",
            "       [19., 92.]], dtype=float32)), ('frequenst', array([[ 18.117205, 107.65587 ],\n",
            "       [ 65.39901 , 110.01996 ],\n",
            "       [ 64.87033 , 120.59352 ],\n",
            "       [ 17.588526, 118.22943 ]], dtype=float32)), ('johz', array([[407., 108.],\n",
            "       [431., 108.],\n",
            "       [431., 118.],\n",
            "       [407., 118.]], dtype=float32)), ('rated', array([[ 19., 133.],\n",
            "       [ 44., 133.],\n",
            "       [ 44., 143.],\n",
            "       [ 19., 143.]], dtype=float32)), ('powed', array([[ 68., 133.],\n",
            "       [ 97., 133.],\n",
            "       [ 97., 143.],\n",
            "       [ 68., 143.]], dtype=float32)), ('210ow', array([[400., 133.],\n",
            "       [431., 133.],\n",
            "       [431., 143.],\n",
            "       [400., 143.]], dtype=float32)), ('input', array([[ 44., 134.],\n",
            "       [ 68., 134.],\n",
            "       [ 68., 144.],\n",
            "       [ 44., 144.]], dtype=float32)), ('load', array([[ 32.196552, 157.65863 ],\n",
            "       [ 55.527584, 159.03104 ],\n",
            "       [ 54.924137, 169.28967 ],\n",
            "       [ 31.593105, 167.91727 ]], dtype=float32)), ('speed', array([[ 55., 158.],\n",
            "       [ 84., 158.],\n",
            "       [ 84., 170.],\n",
            "       [ 55., 170.]], dtype=float32)), ('snorpm', array([[396.22025, 156.68767],\n",
            "       [431.66068, 160.06294],\n",
            "       [430.59103, 171.29439],\n",
            "       [395.1506 , 167.91911]], dtype=float32)), ('lo', array([[ 19., 159.],\n",
            "       [ 33., 159.],\n",
            "       [ 33., 168.],\n",
            "       [ 19., 168.]], dtype=float32)), ('max', array([[ 19., 184.],\n",
            "       [ 39., 184.],\n",
            "       [ 39., 194.],\n",
            "       [ 19., 194.]], dtype=float32)), ('cutting', array([[ 38.129417, 183.31764 ],\n",
            "       [ 70.70589 , 185.82353 ],\n",
            "       [ 69.89412 , 196.37648 ],\n",
            "       [ 37.31765 , 193.87059 ]], dtype=float32)), ('capucity', array([[ 70., 184.],\n",
            "       [110., 184.],\n",
            "       [110., 195.],\n",
            "       [ 70., 195.]], dtype=float32)), ('goe', array([[349., 184.],\n",
            "       [363., 184.],\n",
            "       [363., 193.],\n",
            "       [349., 193.]], dtype=float32)), ('hion', array([[364., 184.],\n",
            "       [386., 184.],\n",
            "       [386., 194.],\n",
            "       [364., 194.]], dtype=float32)), ('wejomm', array([[393., 184.],\n",
            "       [431., 184.],\n",
            "       [431., 194.],\n",
            "       [393., 194.]], dtype=float32)), ('t', array([[387., 187.],\n",
            "       [392., 187.],\n",
            "       [392., 194.],\n",
            "       [387., 194.]], dtype=float32)), ('cutting', array([[ 38.2194  , 208.25754 ],\n",
            "       [ 70.73132 , 210.85849 ],\n",
            "       [ 69.882355, 221.47058 ],\n",
            "       [ 37.37043 , 218.86963 ]], dtype=float32)), ('capacity', array([[ 70.105156, 208.68658 ],\n",
            "       [110.38557 , 210.51752 ],\n",
            "       [109.85154 , 222.26596 ],\n",
            "       [ 69.57113 , 220.43503 ]], dtype=float32)), ('go', array([[354., 209.],\n",
            "       [368., 209.],\n",
            "       [368., 219.],\n",
            "       [354., 219.]], dtype=float32)), ('hoo', array([[368., 209.],\n",
            "       [386., 209.],\n",
            "       [386., 219.],\n",
            "       [368., 219.]], dtype=float32)), ('wiouran', array([[393., 209.],\n",
            "       [431., 209.],\n",
            "       [431., 219.],\n",
            "       [393., 219.]], dtype=float32)), ('max', array([[ 19., 210.],\n",
            "       [ 39., 210.],\n",
            "       [ 39., 219.],\n",
            "       [ 19., 219.]], dtype=float32)), ('x', array([[387., 212.],\n",
            "       [392., 212.],\n",
            "       [392., 219.],\n",
            "       [387., 219.]], dtype=float32)), ('max', array([[ 19., 235.],\n",
            "       [ 39., 235.],\n",
            "       [ 39., 245.],\n",
            "       [ 19., 245.]], dtype=float32)), ('cutting', array([[ 38.21304 , 234.33702 ],\n",
            "       [ 70.72496 , 236.93797 ],\n",
            "       [ 69.96185 , 246.47691 ],\n",
            "       [ 37.449924, 243.87596 ]], dtype=float32)), ('capaaty', array([[ 70.09106, 234.72363],\n",
            "       [109.34824, 236.29391],\n",
            "       [108.91534, 247.11661],\n",
            "       [ 69.65815, 245.54633]], dtype=float32)), ('1s0', array([[353., 235.],\n",
            "       [368., 235.],\n",
            "       [368., 244.],\n",
            "       [353., 244.]], dtype=float32)), ('heo', array([[368., 235.],\n",
            "       [386., 235.],\n",
            "       [386., 244.],\n",
            "       [368., 244.]], dtype=float32)), ('womm', array([[393., 235.],\n",
            "       [431., 235.],\n",
            "       [431., 244.],\n",
            "       [393., 244.]], dtype=float32)), ('x', array([[387., 237.],\n",
            "       [392., 237.],\n",
            "       [392., 245.],\n",
            "       [387., 245.]], dtype=float32))]]\n"
          ]
        },
        {
          "output_type": "error",
          "ename": "AttributeError",
          "evalue": "'str' object has no attribute 'copy'",
          "traceback": [
            "\u001b[0;31m---------------------------------------------------------------------------\u001b[0m",
            "\u001b[0;31mAttributeError\u001b[0m                            Traceback (most recent call last)",
            "\u001b[0;32m<ipython-input-1-7bbc7d2909a0>\u001b[0m in \u001b[0;36m<cell line: 30>\u001b[0;34m()\u001b[0m\n\u001b[1;32m     29\u001b[0m \u001b[0mfig\u001b[0m\u001b[0;34m,\u001b[0m \u001b[0maxs\u001b[0m \u001b[0;34m=\u001b[0m \u001b[0mplt\u001b[0m\u001b[0;34m.\u001b[0m\u001b[0msubplots\u001b[0m\u001b[0;34m(\u001b[0m\u001b[0mnrows\u001b[0m\u001b[0;34m=\u001b[0m\u001b[0mlen\u001b[0m\u001b[0;34m(\u001b[0m\u001b[0mimages\u001b[0m\u001b[0;34m)\u001b[0m\u001b[0;34m,\u001b[0m \u001b[0mfigsize\u001b[0m\u001b[0;34m=\u001b[0m\u001b[0;34m(\u001b[0m\u001b[0;36m10\u001b[0m\u001b[0;34m,\u001b[0m \u001b[0;36m20\u001b[0m\u001b[0;34m)\u001b[0m\u001b[0;34m)\u001b[0m\u001b[0;34m\u001b[0m\u001b[0;34m\u001b[0m\u001b[0m\n\u001b[1;32m     30\u001b[0m \u001b[0;32mfor\u001b[0m \u001b[0max\u001b[0m\u001b[0;34m,\u001b[0m \u001b[0mimage\u001b[0m\u001b[0;34m,\u001b[0m \u001b[0mpredictions\u001b[0m \u001b[0;32min\u001b[0m \u001b[0mzip\u001b[0m\u001b[0;34m(\u001b[0m\u001b[0maxs\u001b[0m\u001b[0;34m,\u001b[0m \u001b[0mimages\u001b[0m\u001b[0;34m,\u001b[0m \u001b[0mprediction_groups\u001b[0m\u001b[0;34m)\u001b[0m\u001b[0;34m:\u001b[0m\u001b[0;34m\u001b[0m\u001b[0;34m\u001b[0m\u001b[0m\n\u001b[0;32m---> 31\u001b[0;31m     \u001b[0mkeras_ocr\u001b[0m\u001b[0;34m.\u001b[0m\u001b[0mtools\u001b[0m\u001b[0;34m.\u001b[0m\u001b[0mdrawAnnotations\u001b[0m\u001b[0;34m(\u001b[0m\u001b[0mimage\u001b[0m\u001b[0;34m=\u001b[0m\u001b[0mimage\u001b[0m\u001b[0;34m,\u001b[0m \u001b[0mpredictions\u001b[0m\u001b[0;34m=\u001b[0m\u001b[0mpredictions\u001b[0m\u001b[0;34m,\u001b[0m \u001b[0max\u001b[0m\u001b[0;34m=\u001b[0m\u001b[0max\u001b[0m\u001b[0;34m)\u001b[0m\u001b[0;34m\u001b[0m\u001b[0;34m\u001b[0m\u001b[0m\n\u001b[0m\u001b[1;32m     32\u001b[0m     \u001b[0mtext\u001b[0m \u001b[0;34m=\u001b[0m \u001b[0;34m[\u001b[0m\u001b[0mtext\u001b[0m \u001b[0;32mfor\u001b[0m \u001b[0mtext\u001b[0m\u001b[0;34m,\u001b[0m \u001b[0mbox\u001b[0m \u001b[0;32min\u001b[0m \u001b[0mpredictions\u001b[0m\u001b[0;34m]\u001b[0m\u001b[0;34m\u001b[0m\u001b[0;34m\u001b[0m\u001b[0m\n\u001b[1;32m     33\u001b[0m     \u001b[0max\u001b[0m\u001b[0;34m.\u001b[0m\u001b[0mset_title\u001b[0m\u001b[0;34m(\u001b[0m\u001b[0;34m' '\u001b[0m\u001b[0;34m.\u001b[0m\u001b[0mjoin\u001b[0m\u001b[0;34m(\u001b[0m\u001b[0mtext\u001b[0m\u001b[0;34m)\u001b[0m\u001b[0;34m)\u001b[0m\u001b[0;31m# extracted text putting as title to the plot\u001b[0m\u001b[0;34m\u001b[0m\u001b[0;34m\u001b[0m\u001b[0m\n",
            "\u001b[0;32m/usr/local/lib/python3.10/dist-packages/keras_ocr/tools.py\u001b[0m in \u001b[0;36mdrawAnnotations\u001b[0;34m(image, predictions, ax)\u001b[0m\n\u001b[1;32m    158\u001b[0m     \u001b[0;32mif\u001b[0m \u001b[0max\u001b[0m \u001b[0;32mis\u001b[0m \u001b[0;32mNone\u001b[0m\u001b[0;34m:\u001b[0m\u001b[0;34m\u001b[0m\u001b[0;34m\u001b[0m\u001b[0m\n\u001b[1;32m    159\u001b[0m         \u001b[0m_\u001b[0m\u001b[0;34m,\u001b[0m \u001b[0max\u001b[0m \u001b[0;34m=\u001b[0m \u001b[0mplt\u001b[0m\u001b[0;34m.\u001b[0m\u001b[0msubplots\u001b[0m\u001b[0;34m(\u001b[0m\u001b[0;34m)\u001b[0m\u001b[0;34m\u001b[0m\u001b[0;34m\u001b[0m\u001b[0m\n\u001b[0;32m--> 160\u001b[0;31m     \u001b[0max\u001b[0m\u001b[0;34m.\u001b[0m\u001b[0mimshow\u001b[0m\u001b[0;34m(\u001b[0m\u001b[0mdrawBoxes\u001b[0m\u001b[0;34m(\u001b[0m\u001b[0mimage\u001b[0m\u001b[0;34m=\u001b[0m\u001b[0mimage\u001b[0m\u001b[0;34m,\u001b[0m \u001b[0mboxes\u001b[0m\u001b[0;34m=\u001b[0m\u001b[0mpredictions\u001b[0m\u001b[0;34m,\u001b[0m \u001b[0mboxes_format\u001b[0m\u001b[0;34m=\u001b[0m\u001b[0;34m\"predictions\"\u001b[0m\u001b[0;34m)\u001b[0m\u001b[0;34m)\u001b[0m\u001b[0;34m\u001b[0m\u001b[0;34m\u001b[0m\u001b[0m\n\u001b[0m\u001b[1;32m    161\u001b[0m     \u001b[0mpredictions\u001b[0m \u001b[0;34m=\u001b[0m \u001b[0msorted\u001b[0m\u001b[0;34m(\u001b[0m\u001b[0mpredictions\u001b[0m\u001b[0;34m,\u001b[0m \u001b[0mkey\u001b[0m\u001b[0;34m=\u001b[0m\u001b[0;32mlambda\u001b[0m \u001b[0mp\u001b[0m\u001b[0;34m:\u001b[0m \u001b[0mp\u001b[0m\u001b[0;34m[\u001b[0m\u001b[0;36m1\u001b[0m\u001b[0;34m]\u001b[0m\u001b[0;34m[\u001b[0m\u001b[0;34m:\u001b[0m\u001b[0;34m,\u001b[0m \u001b[0;36m1\u001b[0m\u001b[0;34m]\u001b[0m\u001b[0;34m.\u001b[0m\u001b[0mmin\u001b[0m\u001b[0;34m(\u001b[0m\u001b[0;34m)\u001b[0m\u001b[0;34m)\u001b[0m\u001b[0;34m\u001b[0m\u001b[0;34m\u001b[0m\u001b[0m\n\u001b[1;32m    162\u001b[0m     \u001b[0mleft\u001b[0m \u001b[0;34m=\u001b[0m \u001b[0;34m[\u001b[0m\u001b[0;34m]\u001b[0m\u001b[0;34m\u001b[0m\u001b[0;34m\u001b[0m\u001b[0m\n",
            "\u001b[0;32m/usr/local/lib/python3.10/dist-packages/keras_ocr/tools.py\u001b[0m in \u001b[0;36mdrawBoxes\u001b[0;34m(image, boxes, color, thickness, boxes_format)\u001b[0m\n\u001b[1;32m    207\u001b[0m     \u001b[0;32mif\u001b[0m \u001b[0mlen\u001b[0m\u001b[0;34m(\u001b[0m\u001b[0mboxes\u001b[0m\u001b[0;34m)\u001b[0m \u001b[0;34m==\u001b[0m \u001b[0;36m0\u001b[0m\u001b[0;34m:\u001b[0m\u001b[0;34m\u001b[0m\u001b[0;34m\u001b[0m\u001b[0m\n\u001b[1;32m    208\u001b[0m         \u001b[0;32mreturn\u001b[0m \u001b[0mimage\u001b[0m\u001b[0;34m\u001b[0m\u001b[0;34m\u001b[0m\u001b[0m\n\u001b[0;32m--> 209\u001b[0;31m     \u001b[0mcanvas\u001b[0m \u001b[0;34m=\u001b[0m \u001b[0mimage\u001b[0m\u001b[0;34m.\u001b[0m\u001b[0mcopy\u001b[0m\u001b[0;34m(\u001b[0m\u001b[0;34m)\u001b[0m\u001b[0;34m\u001b[0m\u001b[0;34m\u001b[0m\u001b[0m\n\u001b[0m\u001b[1;32m    210\u001b[0m     \u001b[0;32mif\u001b[0m \u001b[0mboxes_format\u001b[0m \u001b[0;34m==\u001b[0m \u001b[0;34m\"lines\"\u001b[0m\u001b[0;34m:\u001b[0m\u001b[0;34m\u001b[0m\u001b[0;34m\u001b[0m\u001b[0m\n\u001b[1;32m    211\u001b[0m         \u001b[0mrevised_boxes\u001b[0m \u001b[0;34m=\u001b[0m \u001b[0;34m[\u001b[0m\u001b[0;34m]\u001b[0m\u001b[0;34m\u001b[0m\u001b[0;34m\u001b[0m\u001b[0m\n",
            "\u001b[0;31mAttributeError\u001b[0m: 'str' object has no attribute 'copy'"
          ]
        },
        {
          "output_type": "display_data",
          "data": {
            "text/plain": [
              "<Figure size 1000x2000 with 2 Axes>"
            ],
            "image/png": "[encoded data removed]"
          },
          "metadata": {}
        }
      ]
    }
  ],
  "metadata": {
    "kernelspec": {
      "display_name": "conda_python3",
      "language": "python",
      "name": "conda_python3"
    },
    "language_info": {
      "codemirror_mode": {
        "name": "ipython",
        "version": 3
      },
      "file_extension": ".py",
      "mimetype": "text/x-python",
      "name": "python",
      "nbconvert_exporter": "python",
      "pygments_lexer": "ipython3",
      "version": "3.10.14"
    },
    "colab": {
      "provenance": [],
      "gpuType": "T4",
      "include_colab_link": true
    },
    "accelerator": "GPU"
  },
  "nbformat": 4,
  "nbformat_minor": 5
}